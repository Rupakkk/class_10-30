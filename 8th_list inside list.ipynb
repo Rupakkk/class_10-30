{
 "cells": [
  {
   "cell_type": "code",
   "execution_count": 2,
   "metadata": {},
   "outputs": [
    {
     "name": "stdout",
     "output_type": "stream",
     "text": [
      "[[], [], [], []]\n",
      "<class 'list'>\n",
      "4\n"
     ]
    }
   ],
   "source": [
    "a=[[],[],[],[]]\n",
    "print(a)\n",
    "print(type(a))\n",
    "print(len(a))"
   ]
  },
  {
   "cell_type": "code",
   "execution_count": 4,
   "metadata": {},
   "outputs": [
    {
     "name": "stdout",
     "output_type": "stream",
     "text": [
      "[7, 8, 9]\n",
      "1\n"
     ]
    }
   ],
   "source": [
    "a=[[1,2,3],\n",
    "   [4,5,6],\n",
    "   [7,8,9]]\n",
    "print(a[2])\n",
    "print(a[0][0])"
   ]
  },
  {
   "cell_type": "code",
   "execution_count": 5,
   "metadata": {},
   "outputs": [
    {
     "name": "stdout",
     "output_type": "stream",
     "text": [
      "Enter n = 2\n",
      "Enter name = ram\n",
      "Enter phone = 878\n",
      "Enter name = shyam\n",
      "Enter phone = 454\n",
      "[['ram', 878], ['shyam', 454]]\n"
     ]
    }
   ],
   "source": [
    "data=[]\n",
    "n=int(input('Enter n = '))\n",
    "for i in range(n):\n",
    "    name=input('Enter name = ')\n",
    "    phone=int(input('Enter phone = '))\n",
    "    info=[name,phone]\n",
    "    data.append(info)\n",
    "print(data)   \n"
   ]
  },
  {
   "cell_type": "code",
   "execution_count": 7,
   "metadata": {},
   "outputs": [
    {
     "name": "stdout",
     "output_type": "stream",
     "text": [
      "['ram', 878]\n",
      "ram\n"
     ]
    }
   ],
   "source": [
    "print(data[0])\n",
    "print(data[0][0])"
   ]
  },
  {
   "cell_type": "code",
   "execution_count": 8,
   "metadata": {},
   "outputs": [
    {
     "name": "stdout",
     "output_type": "stream",
     "text": [
      "Enter n = 2\n",
      "Enter name = gs\n",
      "Enter phone = 55\n",
      "Enter name = sgdf\n",
      "Enter phone = 54\n",
      "[[1, 'gs', 55], [2, 'sgdf', 54]]\n"
     ]
    }
   ],
   "source": [
    "data=[]\n",
    "n=int(input('Enter n = '))\n",
    "for i in range(1,n+1):\n",
    "    name=input('Enter name = ')\n",
    "    phone=int(input('Enter phone = '))\n",
    "    info=[i,name,phone]\n",
    "    data.append(info)\n",
    "print(data)   \n"
   ]
  },
  {
   "cell_type": "code",
   "execution_count": 9,
   "metadata": {},
   "outputs": [
    {
     "name": "stdout",
     "output_type": "stream",
     "text": [
      "Enter n = 2\n",
      "Enter name =ram\n",
      "Enter phone = 56644\n",
      "Enter name =shyam\n",
      "Enter phone = 544\n",
      "ram--->56644\n",
      "shyam--->544\n",
      "\n"
     ]
    }
   ],
   "source": [
    "s=''\n",
    "n=int(input('Enter n = '))\n",
    "for i in range(n):\n",
    "    name=input('Enter name =')\n",
    "    phone=int(input('Enter phone = '))\n",
    "    info=f'{name}--->{phone}\\n'\n",
    "    s=s+info\n",
    "print(s)"
   ]
  },
  {
   "cell_type": "code",
   "execution_count": 2,
   "metadata": {},
   "outputs": [
    {
     "name": "stdout",
     "output_type": "stream",
     "text": [
      "['ram--->56644', 'shyam--->544']\n",
      "[['ram', '56644'], ['shyam', '544']]\n"
     ]
    }
   ],
   "source": [
    "s= 'ram--->56644\\nshyam--->544'\n",
    "y=[]\n",
    "data=s.split('\\n')\n",
    "print(data)\n",
    "for i in data:\n",
    "    x=i.split('--->')\n",
    "    y.append(x)\n",
    "print(y)    \n"
   ]
  },
  {
   "cell_type": "code",
   "execution_count": 13,
   "metadata": {},
   "outputs": [
    {
     "data": {
      "text/plain": [
       "[['Ant'], ['Ball']]"
      ]
     },
     "execution_count": 13,
     "metadata": {},
     "output_type": "execute_result"
    }
   ],
   "source": [
    "a=[['Apple'],['Ball']]\n",
    "a[0]=['Ant']\n",
    "a"
   ]
  },
  {
   "cell_type": "code",
   "execution_count": null,
   "metadata": {},
   "outputs": [],
   "source": [
    "a=[['Apple']]\n",
    "b=[['Ball']]\n"
   ]
  },
  {
   "cell_type": "code",
   "execution_count": 17,
   "metadata": {},
   "outputs": [
    {
     "name": "stdout",
     "output_type": "stream",
     "text": [
      "Enter name = Ram\n",
      "['Ram', '6564646']\n"
     ]
    }
   ],
   "source": [
    "a=[['Ram','6564646'],['Shaym','464']]\n",
    "name=input('Enter name = ' )\n",
    "for i in a:\n",
    "    if name.lower() in i[0].lower():\n",
    "        print(i)"
   ]
  },
  {
   "cell_type": "code",
   "execution_count": 2,
   "metadata": {
    "scrolled": false
   },
   "outputs": [
    {
     "name": "stdout",
     "output_type": "stream",
     "text": [
      "['Hello', 'WOrld', '']\n"
     ]
    }
   ],
   "source": [
    "a='Hello WOrld '\n",
    "b=a.split(' ')\n",
    "print(b)"
   ]
  },
  {
   "cell_type": "code",
   "execution_count": 2,
   "metadata": {},
   "outputs": [
    {
     "name": "stdout",
     "output_type": "stream",
     "text": [
      "Enter the number of items2\n",
      "Enter the name of the productApple\n",
      "Enter the unit price of the product20\n",
      "Enter the quantity of the product5\n",
      "Enter the name of the productMango\n",
      "Enter the unit price of the product50\n",
      "Enter the quantity of the product10\n",
      "The billing is = \n",
      " [[5.0, 'Apple', 20.0, 100.0], [10.0, 'Mango', 50.0, 500.0]]\n",
      "The total price is 600.0\n"
     ]
    }
   ],
   "source": [
    "s=[]\n",
    "total=0\n",
    "num=int(input('Enter the number of items'))\n",
    "for i in range(num):\n",
    "    product=input('Enter the name of the product')\n",
    "    price=float(input('Enter the unit price of the product'))\n",
    "    qty=float(input('Enter the quantity of the product'))\n",
    "    tot=price*qty\n",
    "    data=[[qty,product,price,tot]]\n",
    "    total+=tot\n",
    "    s+=data\n",
    "print('The billing is = \\n',s)\n",
    "print(f'The total price is {total}')"
   ]
  },
  {
   "cell_type": "code",
   "execution_count": 3,
   "metadata": {},
   "outputs": [
    {
     "name": "stdout",
     "output_type": "stream",
     "text": [
      "Enter name = Apple\n",
      "[5.0, 'Apple', 20.0, 100.0]\n"
     ]
    }
   ],
   "source": [
    "a=  [[5.0, 'Apple', 20.0, 100.0], [10.0, 'Mango', 50.0, 500.0]]\n",
    "name=input('Enter name = ')\n",
    "for i in a:\n",
    "    if name.lower() in i[1].lower():\n",
    "        print(i)"
   ]
  },
  {
   "cell_type": "code",
   "execution_count": 4,
   "metadata": {},
   "outputs": [
    {
     "name": "stdout",
     "output_type": "stream",
     "text": [
      "Enter the name of the productbanana\n",
      "Enter the unit price of the product60\n",
      "Enter the quantity of the product30\n",
      "[[5.0, 'Apple', 20.0, 100.0], [10.0, 'Mango', 50.0, 500.0], ['banana', 60, 30, 1800]]\n"
     ]
    }
   ],
   "source": [
    "name=input('Enter the name of the product')\n",
    "price=int(input('Enter the unit price of the product'))\n",
    "qty=int(input('Enter the quantity of the product'))\n",
    "tot=price*qty\n",
    "a=  [[5.0, 'Apple', 20.0, 100.0], [10.0, 'Mango', 50.0, 500.0]]\n",
    "a.append([name,price,qty,tot])\n",
    "print(a)"
   ]
  },
  {
   "cell_type": "code",
   "execution_count": 5,
   "metadata": {},
   "outputs": [
    {
     "name": "stdout",
     "output_type": "stream",
     "text": [
      "Enter the number of items2\n",
      "Enter the name of the productApple\n",
      "Enter the unit price of the product20\n",
      "Enter the quantity of the product3\n",
      "Enter the name of the productmango\n",
      "Enter the unit price of the product60\n",
      "Enter the quantity of the product5\n",
      "The billing is = \n",
      " [['Apple', 3.0, 20.0, 60.0], ['mango', 5.0, 60.0, 300.0]]\n",
      "The total price is 360.0\n"
     ]
    }
   ],
   "source": [
    "s=[]\n",
    "total=0\n",
    "num=int(input('Enter the number of items'))\n",
    "for i in range(num):\n",
    "    product=input('Enter the name of the product')\n",
    "    price=float(input('Enter the unit price of the product'))\n",
    "    qty=float(input('Enter the quantity of the product'))\n",
    "    tot=price*qty\n",
    "    data=[[product,qty,price,tot]]\n",
    "    total+=tot\n",
    "    s+=data\n",
    "print('The billing is = \\n',s)\n",
    "print(f'The total price is {total}')"
   ]
  },
  {
   "cell_type": "code",
   "execution_count": 2,
   "metadata": {},
   "outputs": [
    {
     "name": "stdout",
     "output_type": "stream",
     "text": [
      "480.0\n"
     ]
    }
   ],
   "source": [
    "total=0\n",
    "s =[['Apple', 3.0, 20.0, 60.0], ['mango', 5.0, 60.0, 300.0],['milk',3,40,120]]\n",
    "for i in s:\n",
    "    x=i[3]\n",
    "    total+=x\n",
    "print(total)"
   ]
  },
  {
   "cell_type": "code",
   "execution_count": 2,
   "metadata": {},
   "outputs": [
    {
     "name": "stdout",
     "output_type": "stream",
     "text": [
      "400\n",
      "600\n",
      "300\n",
      "1300\n"
     ]
    }
   ],
   "source": [
    "total=0\n",
    "s =[['Apple', 100, 2, 200], ['mango', 200,3,600],['milk',100,3,300]]\n",
    "s[0][2]=4\n",
    "for i in s:\n",
    "    tot=i[1]*i[2]\n",
    "    print(tot)\n",
    "    total+=tot\n",
    "print(total)\n",
    "    \n"
   ]
  },
  {
   "cell_type": "code",
   "execution_count": 4,
   "metadata": {},
   "outputs": [
    {
     "name": "stdout",
     "output_type": "stream",
     "text": [
      "Enter the index =1\n",
      "Enter the quantity = 5\n",
      "1500\n"
     ]
    }
   ],
   "source": [
    "total=0\n",
    "s =[['Apple', 100, 2, 200], ['mango', 200,3,600],['milk',100,3,300]]\n",
    "index=int(input('Enter the index ='))\n",
    "qty=int(input('Enter the quantity = '))\n",
    "tot=s[index][1]*qty\n",
    "s[index][2]=qty\n",
    "s[index][3]=tot\n",
    "for i in s:\n",
    "    x=i[3]\n",
    "    total+=x\n",
    "print(total)\n",
    "    "
   ]
  },
  {
   "cell_type": "code",
   "execution_count": 5,
   "metadata": {},
   "outputs": [
    {
     "name": "stdout",
     "output_type": "stream",
     "text": [
      "Enter i = 2\n",
      "Enter j = 2\n",
      "Enter x = 1\n",
      "Enter x = 2\n",
      "Enter x = 3\n",
      "Enter x = 4\n",
      "[[1, 2], [3, 4]]\n"
     ]
    }
   ],
   "source": [
    "#creating a matrix\n",
    "z=[]        \n",
    "r=int(input('Enter i = '))\n",
    "c=int(input('Enter j = '))\n",
    "for i in range(r):\n",
    "    y=[]\n",
    "    for j in range(c):\n",
    "        x=int(input('Enter x = '))\n",
    "        y.append(x)\n",
    "    z.append(y)\n",
    "print(z)"
   ]
  },
  {
   "cell_type": "code",
   "execution_count": 5,
   "metadata": {},
   "outputs": [
    {
     "name": "stdout",
     "output_type": "stream",
     "text": [
      "[[1, 1, 1], [2, 2, 2], [3, 3, 3], [4, 4, 4]]\n"
     ]
    }
   ],
   "source": [
    "matrix=[[1, 2, 3, 4], [1, 2, 3, 4], [1, 2, 3, 4]]\n",
    "x= []\n",
    "for i in range(4):\n",
    "    y= []\n",
    "    for n in matrix:\n",
    "        y.append(n[i])\n",
    "    x.append(y)\n",
    "print(x)"
   ]
  },
  {
   "cell_type": "code",
   "execution_count": 5,
   "metadata": {},
   "outputs": [
    {
     "name": "stdout",
     "output_type": "stream",
     "text": [
      "Enter the index =0\n",
      "Enter the quantity = 5\n",
      "Enter the unit price = 200\n",
      "[['Apple', 200, 5, 1000], ['mango', 200, 3, 600], ['milk', 100, 3, 300]]\n"
     ]
    }
   ],
   "source": [
    "total=0\n",
    "s =[['Apple', 100, 2, 200], ['mango', 200,3,600],['milk',100,3,300]]\n",
    "index=int(input('Enter the index ='))\n",
    "qty=int(input('Enter the quantity = '))\n",
    "price=int(input('Enter the unit price = '))\n",
    "s[index][1]=price\n",
    "tot=s[index][1]*qty\n",
    "s[index][2]=qty\n",
    "s[index][3]=tot\n",
    "for i in s:\n",
    "    x=i[3]\n",
    "    total+=x\n",
    "print(s)"
   ]
  },
  {
   "cell_type": "code",
   "execution_count": null,
   "metadata": {},
   "outputs": [],
   "source": [
    "matrix=[[1, 2, 3, 4], [1, 2, 3, 4], [1, 2, 3, 4]]\n",
    "x= []\n",
    "for i in range(4):\n",
    "    y= []\n",
    "    for n in matrix:\n",
    "        y.append(n[i])\n",
    "    x.append(y)\n",
    "print(x)"
   ]
  }
 ],
 "metadata": {
  "kernelspec": {
   "display_name": "Python 3",
   "language": "python",
   "name": "python3"
  },
  "language_info": {
   "codemirror_mode": {
    "name": "ipython",
    "version": 3
   },
   "file_extension": ".py",
   "mimetype": "text/x-python",
   "name": "python",
   "nbconvert_exporter": "python",
   "pygments_lexer": "ipython3",
   "version": "3.8.5"
  }
 },
 "nbformat": 4,
 "nbformat_minor": 4
}
