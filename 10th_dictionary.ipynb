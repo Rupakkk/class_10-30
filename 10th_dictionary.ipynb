{
 "cells": [
  {
   "cell_type": "code",
   "execution_count": 1,
   "metadata": {},
   "outputs": [
    {
     "data": {
      "text/plain": [
       "'Ball'"
      ]
     },
     "execution_count": 1,
     "metadata": {},
     "output_type": "execute_result"
    }
   ],
   "source": [
    "# d={<key>:<values,<key>:<values,<key>:<values}\n",
    "# mutable\n",
    "# indexed\n",
    "# ordered\n",
    "# duplicate\n",
    "d={'A':'Apple','B':'Ball'}\n",
    "d['B']"
   ]
  },
  {
   "cell_type": "code",
   "execution_count": 2,
   "metadata": {},
   "outputs": [
    {
     "data": {
      "text/plain": [
       "{'A': 'Apple', 'B': 'Ball'}"
      ]
     },
     "execution_count": 2,
     "metadata": {},
     "output_type": "execute_result"
    }
   ],
   "source": [
    "d={}\n",
    "d['A']='Apple'\n",
    "d['B']='Ball'\n",
    "d"
   ]
  },
  {
   "cell_type": "code",
   "execution_count": 3,
   "metadata": {},
   "outputs": [
    {
     "data": {
      "text/plain": [
       "{'A': 'Ant', 'B': 'Ball'}"
      ]
     },
     "execution_count": 3,
     "metadata": {},
     "output_type": "execute_result"
    }
   ],
   "source": [
    "d['A']='Ant'  #update\n",
    "d\n"
   ]
  },
  {
   "cell_type": "code",
   "execution_count": 7,
   "metadata": {},
   "outputs": [
    {
     "data": {
      "text/plain": [
       "'Ball'"
      ]
     },
     "execution_count": 7,
     "metadata": {},
     "output_type": "execute_result"
    }
   ],
   "source": [
    "d={}\n",
    "d[1]='Apple'\n",
    "d[0]='Ball'\n",
    "d[0]"
   ]
  },
  {
   "cell_type": "code",
   "execution_count": 5,
   "metadata": {},
   "outputs": [
    {
     "data": {
      "text/plain": [
       "{'0': 'Apple', '1': 'Ball'}"
      ]
     },
     "execution_count": 5,
     "metadata": {},
     "output_type": "execute_result"
    }
   ],
   "source": [
    "d={}\n",
    "d['0']='Apple'\n",
    "d['1']='Ball'\n",
    "d"
   ]
  },
  {
   "cell_type": "code",
   "execution_count": 8,
   "metadata": {},
   "outputs": [
    {
     "name": "stdout",
     "output_type": "stream",
     "text": [
      "Enter name = ram\n",
      "Enter phone = 454\n",
      "Enter name = hari\n",
      "Enter phone = 46544\n",
      "{'ram': '454', 'hari': '46544'}\n"
     ]
    }
   ],
   "source": [
    "info={}\n",
    "for i in range(2):\n",
    "    name=input('Enter name = ')\n",
    "    phone=input('Enter phone = ')\n",
    "    info[name]=phone\n",
    "print(info)"
   ]
  },
  {
   "cell_type": "code",
   "execution_count": 11,
   "metadata": {},
   "outputs": [
    {
     "ename": "TypeError",
     "evalue": "unsupported operand type(s) for *: 'dict' and 'dict'",
     "output_type": "error",
     "traceback": [
      "\u001b[1;31m---------------------------------------------------------------------------\u001b[0m",
      "\u001b[1;31mTypeError\u001b[0m                                 Traceback (most recent call last)",
      "\u001b[1;32m<ipython-input-11-d8b7a4d3cab6>\u001b[0m in \u001b[0;36m<module>\u001b[1;34m\u001b[0m\n\u001b[0;32m      1\u001b[0m \u001b[0ma\u001b[0m\u001b[1;33m=\u001b[0m\u001b[1;33m{\u001b[0m\u001b[1;34m'A'\u001b[0m\u001b[1;33m:\u001b[0m\u001b[1;34m\"Apple\"\u001b[0m\u001b[1;33m}\u001b[0m\u001b[1;33m\u001b[0m\u001b[1;33m\u001b[0m\u001b[0m\n\u001b[0;32m      2\u001b[0m \u001b[0mb\u001b[0m\u001b[1;33m=\u001b[0m\u001b[1;33m{\u001b[0m\u001b[1;34m'B'\u001b[0m\u001b[1;33m:\u001b[0m\u001b[1;34m'Ball'\u001b[0m\u001b[1;33m}\u001b[0m\u001b[1;33m\u001b[0m\u001b[1;33m\u001b[0m\u001b[0m\n\u001b[1;32m----> 3\u001b[1;33m \u001b[0mprint\u001b[0m\u001b[1;33m(\u001b[0m\u001b[0ma\u001b[0m\u001b[1;33m*\u001b[0m\u001b[0mb\u001b[0m\u001b[1;33m)\u001b[0m   \u001b[1;31m#not allowed\u001b[0m\u001b[1;33m\u001b[0m\u001b[1;33m\u001b[0m\u001b[0m\n\u001b[0m\u001b[0;32m      4\u001b[0m \u001b[0mprint\u001b[0m\u001b[1;33m(\u001b[0m\u001b[0ma\u001b[0m\u001b[1;33m+\u001b[0m\u001b[0mb\u001b[0m\u001b[1;33m)\u001b[0m\u001b[1;33m\u001b[0m\u001b[1;33m\u001b[0m\u001b[0m\n",
      "\u001b[1;31mTypeError\u001b[0m: unsupported operand type(s) for *: 'dict' and 'dict'"
     ]
    }
   ],
   "source": [
    "a={'A':\"Apple\"}\n",
    "b={'B':'Ball'}\n",
    "print(a*b)   #not allowed\n",
    "print(a+b)    #not allowed"
   ]
  },
  {
   "cell_type": "code",
   "execution_count": 12,
   "metadata": {},
   "outputs": [
    {
     "name": "stdout",
     "output_type": "stream",
     "text": [
      "{'A': 'Apple', 'B': 'Ball'}\n"
     ]
    }
   ],
   "source": [
    "a={'A':\"Apple\"}\n",
    "b={'B':'Ball'}\n",
    "a.update(b)\n",
    "print(a)"
   ]
  },
  {
   "cell_type": "code",
   "execution_count": 13,
   "metadata": {},
   "outputs": [
    {
     "name": "stdout",
     "output_type": "stream",
     "text": [
      "A\n",
      "B\n"
     ]
    }
   ],
   "source": [
    "a={'A': 'Apple', 'B': 'Ball'}\n",
    "for i in a:\n",
    "    print(i)    #prints only keys"
   ]
  },
  {
   "cell_type": "code",
   "execution_count": 15,
   "metadata": {},
   "outputs": [
    {
     "name": "stdout",
     "output_type": "stream",
     "text": [
      "Apple\n",
      "Ball\n"
     ]
    }
   ],
   "source": [
    "a={'A': 'Apple', 'B': 'Ball'}\n",
    "for i in a.values():\n",
    "    print(i)        #prints only values"
   ]
  },
  {
   "cell_type": "code",
   "execution_count": 16,
   "metadata": {},
   "outputs": [
    {
     "name": "stdout",
     "output_type": "stream",
     "text": [
      "('A', 'Apple')\n",
      "('B', 'Ball')\n"
     ]
    }
   ],
   "source": [
    "a={'A': 'Apple', 'B': 'Ball'}\n",
    "for i in a.items():\n",
    "    print(i)        #prints both key and value as a tuple\n"
   ]
  },
  {
   "cell_type": "code",
   "execution_count": 17,
   "metadata": {},
   "outputs": [
    {
     "name": "stdout",
     "output_type": "stream",
     "text": [
      "{}\n"
     ]
    }
   ],
   "source": [
    "# update clear del pop\n",
    "a={'A': 'Apple', 'B': 'Ball'}\n",
    "a.clear()   #empties the list\n",
    "print(a)   "
   ]
  },
  {
   "cell_type": "code",
   "execution_count": 18,
   "metadata": {},
   "outputs": [
    {
     "name": "stdout",
     "output_type": "stream",
     "text": [
      "{'B': 'Ball'}\n"
     ]
    }
   ],
   "source": [
    "a={'A': 'Apple', 'B': 'Ball'}\n",
    "del a['A']\n",
    "print(a)"
   ]
  },
  {
   "cell_type": "code",
   "execution_count": 20,
   "metadata": {},
   "outputs": [
    {
     "ename": "TypeError",
     "evalue": "unhashable type: 'slice'",
     "output_type": "error",
     "traceback": [
      "\u001b[1;31m---------------------------------------------------------------------------\u001b[0m",
      "\u001b[1;31mTypeError\u001b[0m                                 Traceback (most recent call last)",
      "\u001b[1;32m<ipython-input-20-365b2b2ddd37>\u001b[0m in \u001b[0;36m<module>\u001b[1;34m\u001b[0m\n\u001b[0;32m      1\u001b[0m \u001b[0ma\u001b[0m\u001b[1;33m=\u001b[0m\u001b[1;33m{\u001b[0m\u001b[1;34m'A'\u001b[0m\u001b[1;33m:\u001b[0m \u001b[1;34m'Apple'\u001b[0m\u001b[1;33m,\u001b[0m \u001b[1;34m'B'\u001b[0m\u001b[1;33m:\u001b[0m \u001b[1;34m'Ball'\u001b[0m\u001b[1;33m}\u001b[0m\u001b[1;33m\u001b[0m\u001b[1;33m\u001b[0m\u001b[0m\n\u001b[1;32m----> 2\u001b[1;33m \u001b[1;32mdel\u001b[0m \u001b[0ma\u001b[0m\u001b[1;33m[\u001b[0m\u001b[1;34m'A'\u001b[0m\u001b[1;33m:\u001b[0m\u001b[1;34m'B'\u001b[0m\u001b[1;33m]\u001b[0m\u001b[1;33m\u001b[0m\u001b[1;33m\u001b[0m\u001b[0m\n\u001b[0m\u001b[0;32m      3\u001b[0m \u001b[0ma\u001b[0m\u001b[1;33m\u001b[0m\u001b[1;33m\u001b[0m\u001b[0m\n",
      "\u001b[1;31mTypeError\u001b[0m: unhashable type: 'slice'"
     ]
    }
   ],
   "source": [
    "a={'A': 'Apple', 'B': 'Ball'}\n",
    "del a['A':'B']   #not allowed   \n",
    "a"
   ]
  },
  {
   "cell_type": "code",
   "execution_count": 21,
   "metadata": {},
   "outputs": [
    {
     "name": "stdout",
     "output_type": "stream",
     "text": [
      "Enter name = ram\n",
      "Enter phone = 5554\n",
      "Enter phone = 686553\n",
      "Enter name = shyam\n",
      "Enter phone = 9898\n",
      "Enter phone = 23535\n",
      "{'ram': ['5554', '686553'], 'shyam': ['9898', '23535']}\n"
     ]
    }
   ],
   "source": [
    "info={}\n",
    "for i in range(2):\n",
    "    name=input('Enter name = ')\n",
    "    ncell_phone=input('Enter phone = ')\n",
    "    ntc_phone=input('Enter phone = ')\n",
    "    info[name]=[ncell_phone,ntc_phone]\n",
    "print(info)"
   ]
  },
  {
   "cell_type": "code",
   "execution_count": 22,
   "metadata": {},
   "outputs": [
    {
     "name": "stdout",
     "output_type": "stream",
     "text": [
      "Enter name = ram\n",
      "['5554', '686553']\n"
     ]
    }
   ],
   "source": [
    "name=input('Enter name = ')\n",
    "print(info[name])"
   ]
  },
  {
   "cell_type": "code",
   "execution_count": 24,
   "metadata": {},
   "outputs": [
    {
     "name": "stdout",
     "output_type": "stream",
     "text": [
      "{'ram': ['686553'], 'shyam': ['9898', '23535']}\n",
      "{'ram': ['686553', 54545], 'shyam': ['9898', '23535']}\n"
     ]
    }
   ],
   "source": [
    "a={'ram': ['5554', '686553'], 'shyam': ['9898', '23535']}\n",
    "del a['ram'][0]\n",
    "print(a)\n",
    "a['ram'].append(54545)\n",
    "print(a)"
   ]
  },
  {
   "cell_type": "code",
   "execution_count": 38,
   "metadata": {},
   "outputs": [
    {
     "name": "stdout",
     "output_type": "stream",
     "text": [
      "{'a': 'apple', 'B': 'ball'}\n"
     ]
    }
   ],
   "source": [
    "b={}\n",
    "a={'A':'apple','B':'ball'}\n",
    "for i in a.items():\n",
    "    if i[0]=='A':\n",
    "        key=i[0].lower()\n",
    "        value=i[1]\n",
    "        b[key]=value\n",
    "    else:\n",
    "        key=i[0]\n",
    "        value=i[1]\n",
    "        b[key]=value\n",
    "print(b)"
   ]
  },
  {
   "cell_type": "code",
   "execution_count": 34,
   "metadata": {},
   "outputs": [
    {
     "name": "stdout",
     "output_type": "stream",
     "text": [
      "[['a', 'apple'], ['B', 'ball']]\n"
     ]
    }
   ],
   "source": [
    "b=[]\n",
    "a={'A':'apple','B':'ball'}\n",
    "for i in a.items():\n",
    "    if i[0]=='A':\n",
    "        x=list(i)\n",
    "        x[0]='a'\n",
    "        b.append(x)\n",
    "    else:\n",
    "        b.append(list(i))\n",
    "            \n",
    "    \n",
    "print(b)"
   ]
  },
  {
   "cell_type": "code",
   "execution_count": 31,
   "metadata": {},
   "outputs": [
    {
     "name": "stdout",
     "output_type": "stream",
     "text": [
      "[{'Ram': 68666}, {'Shyam': 664545}]\n",
      "{'Ram': 68666}\n",
      "{'Shyam': 664545}\n"
     ]
    }
   ],
   "source": [
    "#dictionary inside list\n",
    "a=[{'Ram':68666},{'Shyam':664545}]\n",
    "print(a)\n",
    "print(a[0])\n",
    "print(a[1])"
   ]
  },
  {
   "cell_type": "code",
   "execution_count": 32,
   "metadata": {},
   "outputs": [
    {
     "name": "stdout",
     "output_type": "stream",
     "text": [
      "[{'Ram': 68666}, {'Shyam': 664545}, {'Hari': 1254545}]\n"
     ]
    }
   ],
   "source": [
    "a=[{'Ram':68666},{'Shyam':664545}]\n",
    "a.append({'Hari':1254545})\n",
    "print(a)"
   ]
  },
  {
   "cell_type": "code",
   "execution_count": 33,
   "metadata": {},
   "outputs": [
    {
     "name": "stdout",
     "output_type": "stream",
     "text": [
      "Enter n = 3\n",
      "Enter name = ram\n",
      "Enter phone = 54545\n",
      "Enter name = nfdkasj\n",
      "Enter phone = 7575\n",
      "Enter name = daksdk\n",
      "Enter phone = 23\n",
      "[{'ram': '54545'}, {'nfdkasj': '7575'}, {'daksdk': '23'}]\n"
     ]
    }
   ],
   "source": [
    "n=int(input('Enter n = '))\n",
    "z=[]\n",
    "for i in range(n):\n",
    "    name=input('Enter name = ')\n",
    "    phone=input('Enter phone = ')\n",
    "    d={name:phone}\n",
    "    z.append(d)\n",
    "print(z)\n",
    "    "
   ]
  },
  {
   "cell_type": "code",
   "execution_count": 2,
   "metadata": {},
   "outputs": [
    {
     "name": "stdout",
     "output_type": "stream",
     "text": [
      "Enter n = 2\n",
      "Enter name = kk\n",
      "Enter phone = 55\n",
      "Enter name = nmmnm\n",
      "Enter phone = 888\n",
      "[{'kk': '55'}, {'nmmnm': '888'}]\n"
     ]
    }
   ],
   "source": [
    "n=int(input('Enter n = '))\n",
    "z=[]\n",
    "for i in range(n):\n",
    "    name=input('Enter name = ')\n",
    "    phone=input('Enter phone = ')\n",
    "    d={name:phone}\n",
    "    z.append(d)\n",
    "print(z)"
   ]
  },
  {
   "cell_type": "code",
   "execution_count": 4,
   "metadata": {},
   "outputs": [
    {
     "name": "stdout",
     "output_type": "stream",
     "text": [
      "{'Ram': {'NTC': 9856544, 'NCELL': 98453444}, 'Shyam': {'NTC': 985612544, 'NCELL': 9847553444}}\n"
     ]
    }
   ],
   "source": [
    "# dictionary inside dictionary\n",
    "a={'Ram':{'NTC':9856544,'NCELL':98453444},\n",
    "  'Shyam':{'NTC':985612544,'NCELL':9847553444}}\n",
    "print(a)"
   ]
  },
  {
   "cell_type": "code",
   "execution_count": 5,
   "metadata": {},
   "outputs": [
    {
     "name": "stdout",
     "output_type": "stream",
     "text": [
      "('Ram', {'NTC': 9856544, 'NCELL': 98453444})\n",
      "('Shyam', {'NTC': 985612544, 'NCELL': 9847553444})\n"
     ]
    }
   ],
   "source": [
    "for i in a.items():\n",
    "    print(i)"
   ]
  },
  {
   "cell_type": "code",
   "execution_count": 6,
   "metadata": {},
   "outputs": [
    {
     "name": "stdout",
     "output_type": "stream",
     "text": [
      "{'NTC': 9856544, 'NCELL': 98453444}\n",
      "{'NTC': 985612544, 'NCELL': 9847553444}\n"
     ]
    }
   ],
   "source": [
    "for i in a.values():\n",
    "    print(i)"
   ]
  },
  {
   "cell_type": "code",
   "execution_count": 7,
   "metadata": {},
   "outputs": [
    {
     "name": "stdout",
     "output_type": "stream",
     "text": [
      "Ram\n",
      "Shyam\n"
     ]
    }
   ],
   "source": [
    "for i in a:\n",
    "    print(i)"
   ]
  },
  {
   "cell_type": "code",
   "execution_count": 4,
   "metadata": {},
   "outputs": [
    {
     "name": "stdout",
     "output_type": "stream",
     "text": [
      "{'Ram': {'NTC': 9856544, 'NCELL': 98453444}, 'Shyam': {'NTC': 985612544, 'NCELL': 9847553444}, 'Hari': {'NTC': 9841565256, 'NCELL': 981032656}}\n"
     ]
    }
   ],
   "source": [
    "a={'Ram': {'NTC': 9856544, 'NCELL': 98453444}, 'Shyam': {'NTC': 985612544, 'NCELL': 9847553444}}\n",
    "a['Hari']={'NTC':9841565256,'NCELL':981032656}\n",
    "print(a)"
   ]
  },
  {
   "cell_type": "code",
   "execution_count": 11,
   "metadata": {},
   "outputs": [
    {
     "name": "stdout",
     "output_type": "stream",
     "text": [
      "{'Ram': {'NTC': 9856544, 'NCELL': 98453444}, 'Shyam': {'NTC': 985612544, 'NCELL': 9847553444}, 'Hari': {'NTC': 9841857568, 'NCELL': 981032656}}\n"
     ]
    }
   ],
   "source": [
    "a['Hari']['NTC']=9841857568\n",
    "print(a)\n"
   ]
  },
  {
   "cell_type": "code",
   "execution_count": 13,
   "metadata": {},
   "outputs": [
    {
     "ename": "TypeError",
     "evalue": "unhashable type: 'list'",
     "output_type": "error",
     "traceback": [
      "\u001b[1;31m---------------------------------------------------------------------------\u001b[0m",
      "\u001b[1;31mTypeError\u001b[0m                                 Traceback (most recent call last)",
      "\u001b[1;32m<ipython-input-13-587ba63e42c0>\u001b[0m in \u001b[0;36m<module>\u001b[1;34m\u001b[0m\n\u001b[1;32m----> 1\u001b[1;33m \u001b[0ma\u001b[0m\u001b[1;33m=\u001b[0m\u001b[1;33m{\u001b[0m\u001b[1;33m[\u001b[0m\u001b[1;34m\"Apple\"\u001b[0m\u001b[1;33m,\u001b[0m\u001b[1;34m'Ant'\u001b[0m\u001b[1;33m]\u001b[0m\u001b[1;33m:\u001b[0m\u001b[1;34m'A'\u001b[0m\u001b[1;33m}\u001b[0m\u001b[1;33m\u001b[0m\u001b[1;33m\u001b[0m\u001b[0m\n\u001b[0m\u001b[0;32m      2\u001b[0m \u001b[0mprint\u001b[0m\u001b[1;33m(\u001b[0m\u001b[0ma\u001b[0m\u001b[1;33m)\u001b[0m\u001b[1;33m\u001b[0m\u001b[1;33m\u001b[0m\u001b[0m\n",
      "\u001b[1;31mTypeError\u001b[0m: unhashable type: 'list'"
     ]
    }
   ],
   "source": [
    "a={[\"Apple\",'Ant']:'A'}  #list and dictionary are mutable so they can't be used as key\n",
    "print(a)"
   ]
  },
  {
   "cell_type": "code",
   "execution_count": 14,
   "metadata": {},
   "outputs": [
    {
     "data": {
      "text/plain": [
       "{('Apple', 'Ant'): 'A'}"
      ]
     },
     "execution_count": 14,
     "metadata": {},
     "output_type": "execute_result"
    }
   ],
   "source": [
    "a={('Apple','Ant'):'A'}  #we can use tuple as a key\n",
    "a "
   ]
  },
  {
   "cell_type": "code",
   "execution_count": null,
   "metadata": {},
   "outputs": [],
   "source": []
  }
 ],
 "metadata": {
  "kernelspec": {
   "display_name": "Python 3",
   "language": "python",
   "name": "python3"
  },
  "language_info": {
   "codemirror_mode": {
    "name": "ipython",
    "version": 3
   },
   "file_extension": ".py",
   "mimetype": "text/x-python",
   "name": "python",
   "nbconvert_exporter": "python",
   "pygments_lexer": "ipython3",
   "version": "3.8.5"
  }
 },
 "nbformat": 4,
 "nbformat_minor": 4
}
