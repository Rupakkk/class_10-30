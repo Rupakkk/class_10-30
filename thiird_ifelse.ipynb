{
 "cells": [
  {
   "cell_type": "code",
   "execution_count": null,
   "metadata": {},
   "outputs": [],
   "source": [
    "# if<condition>:\n",
    "#     <operations>\n",
    "# elif <condition>:\n",
    "#     <operations>\n",
    "# elif <condition>:\n",
    "#     <operations>\n",
    "# else:\n",
    "#     <operations>"
   ]
  },
  {
   "cell_type": "code",
   "execution_count": 1,
   "metadata": {},
   "outputs": [
    {
     "data": {
      "text/plain": [
       "False"
      ]
     },
     "execution_count": 1,
     "metadata": {},
     "output_type": "execute_result"
    }
   ],
   "source": [
    "a=10\n",
    "b=20\n",
    "a>b"
   ]
  },
  {
   "cell_type": "code",
   "execution_count": 3,
   "metadata": {},
   "outputs": [
    {
     "name": "stdout",
     "output_type": "stream",
     "text": [
      "20\n"
     ]
    }
   ],
   "source": [
    "a=10\n",
    "b=20\n",
    "if a<b:\n",
    "    print(b)\n",
    "else:\n",
    "    print(a)"
   ]
  },
  {
   "cell_type": "code",
   "execution_count": 7,
   "metadata": {},
   "outputs": [
    {
     "name": "stdout",
     "output_type": "stream",
     "text": [
      "Enter the value of a = 4\n",
      "Enter the value of b = 3\n",
      "a is greater\n"
     ]
    }
   ],
   "source": [
    "a=int(input('Enter the value of a = '))\n",
    "b=int(input('Enter the value of b = '))\n",
    "if a>b:\n",
    "    print('a is greater')\n",
    "elif b>a:\n",
    "    print('b is greater')\n",
    "else:\n",
    "    print('Both are equal')"
   ]
  },
  {
   "cell_type": "code",
   "execution_count": 17,
   "metadata": {},
   "outputs": [
    {
     "name": "stdout",
     "output_type": "stream",
     "text": [
      "Enter the value of a = 5\n",
      "Enter the value of b = 4\n",
      "Enter operator + - * / /\n",
      "1.25\n"
     ]
    }
   ],
   "source": [
    "a=int(input('Enter the value of a = '))\n",
    "b=int(input('Enter the value of b = '))\n",
    "o=input('Enter operator + - * / ')\n",
    "if o=='+':\n",
    "    print(a+b)\n",
    "elif o=='-':\n",
    "    print(a-b)\n",
    "elif o=='*':\n",
    "    print(a*b)\n",
    "elif o=='/':\n",
    "    print(a/b)\n",
    "else:\n",
    "    print('Invalid operator')\n",
    "    "
   ]
  },
  {
   "cell_type": "code",
   "execution_count": 20,
   "metadata": {},
   "outputs": [
    {
     "name": "stdout",
     "output_type": "stream",
     "text": [
      "Enter the value of a = 5656\n",
      "Enter the value of b = 0\n",
      "Enter operator + - * / /\n",
      "The value of b cannot be zero\n"
     ]
    }
   ],
   "source": [
    "# if<condition>:\n",
    "#     if<condition>:\n",
    "#         <operations>\n",
    "#     else:\n",
    "#         <operation>\n",
    "\n",
    "a=int(input('Enter the value of a = '))\n",
    "b=int(input('Enter the value of b = '))\n",
    "o=input('Enter operator + - * / ')\n",
    "if o=='+':\n",
    "    print(a+b)\n",
    "elif o=='-':\n",
    "    print(a-b)\n",
    "elif o=='*':\n",
    "    print(a*b)\n",
    "elif o=='/':\n",
    "    if b==0:\n",
    "        print('The value of b cannot be zero')\n",
    "    else:\n",
    "        print(a/b)\n",
    "else:\n",
    "    print('Invalid operator')\n",
    "    "
   ]
  },
  {
   "cell_type": "code",
   "execution_count": 3,
   "metadata": {},
   "outputs": [
    {
     "name": "stdout",
     "output_type": "stream",
     "text": [
      "Enter the value of a = 5\n",
      "Enter the value of b = 5\n",
      "Enter the value of c = 5\n",
      "All are equal\n"
     ]
    }
   ],
   "source": [
    "# and or operator\n",
    "a=int(input('Enter the value of a = '))\n",
    "b=int(input('Enter the value of b = '))\n",
    "c=int(input('Enter the value of c = '))\n",
    "if a>b and a>c:  # & is also and operator\n",
    "    print('a is greater')\n",
    "elif b>a and b>c:\n",
    "    print('b is greater')\n",
    "elif c>a and c>b:\n",
    "    print('c is greater')\n",
    "else:\n",
    "    print('All are equal')"
   ]
  },
  {
   "cell_type": "code",
   "execution_count": null,
   "metadata": {},
   "outputs": [],
   "source": [
    "#WAP to make a calculator using return type function and passing argument with recursion\n",
    "a=int(input('Enter a= '))\n",
    "b=int(input('Enter b= '))\n",
    "o=input('Enter the operation + - * /')\n",
    "def add(x,y):\n",
    "    return x+y\n",
    "    w=input('Enter y if you want to add again')\n",
    "    if w=='y':\n",
    "        print(add(a,b))\n",
    "def subtract(x,y):\n",
    "    return x-y\n",
    "    w=input('Enter y if you want to subtract again')\n",
    "    if w=='y':\n",
    "        print(subtract(a,b))\n",
    "def multiply(x,y):\n",
    "    return x*y\n",
    "    w=input('Enter y if you want to multiply again')\n",
    "    if w=='y':\n",
    "        print(multiply(a,b))\n",
    "def division(x,y):\n",
    "    if w=='y'and b!=0:\n",
    "        return division(a,b)\n",
    "    else:\n",
    "        print('The value of b cannot be zero')\n",
    "        w=input('Enter y if you want to divide again')\n",
    "        if w=='y':\n",
    "            print(division(a,b))\n",
    "def wrong():\n",
    "    return 'You have entered wrong operator'\n",
    "\n",
    "if o=='+':\n",
    "    print(add(a,b))\n",
    "elif o=='-':\n",
    "    print(subtract(a,b))\n",
    "elif o=='*':\n",
    "    print(multiply(a,b))\n",
    "elif o=='/':\n",
    "    if b!=0:\n",
    "        print(division(a,b))\n",
    "    else:\n",
    "        print('The value of b cannot be zero')\n",
    "else:\n",
    "    print(wrong())\n",
    "             \n",
    "             "
   ]
  },
  {
   "cell_type": "code",
   "execution_count": 11,
   "metadata": {},
   "outputs": [
    {
     "name": "stdout",
     "output_type": "stream",
     "text": [
      "Enter a= 6\n",
      "Enter b= 0\n",
      "Enter the operation + - * //\n",
      "The value of b cannot be zero\n"
     ]
    }
   ],
   "source": [
    "#WAP to make a calculator using return type function and passing argument \n",
    "a=int(input('Enter a= '))\n",
    "b=int(input('Enter b= '))\n",
    "o=input('Enter the operation + - * /')\n",
    "def add(x,y):\n",
    "    return x+y\n",
    "def subtract(x,y):\n",
    "    return x-y\n",
    "def multiply(x,y):\n",
    "    return x*y\n",
    "def division(x,y):\n",
    "    return x/y\n",
    "def zero():\n",
    "    return ('The value of b cannot be zero')\n",
    "def wrong():\n",
    "    return 'You have entered wrong operator'\n",
    "\n",
    "if o=='+':\n",
    "    print(add(a,b))\n",
    "elif o=='-':\n",
    "    print(subtract(a,b))\n",
    "elif o=='*':\n",
    "    print(multiply(a,b))\n",
    "elif o=='/':\n",
    "    if b!=0:\n",
    "        print(division(a,b))\n",
    "    else:\n",
    "        print(zero())\n",
    "else:\n",
    "    print(wrong())\n",
    "             \n",
    "             "
   ]
  },
  {
   "cell_type": "code",
   "execution_count": null,
   "metadata": {},
   "outputs": [],
   "source": []
  }
 ],
 "metadata": {
  "kernelspec": {
   "display_name": "Python 3",
   "language": "python",
   "name": "python3"
  },
  "language_info": {
   "codemirror_mode": {
    "name": "ipython",
    "version": 3
   },
   "file_extension": ".py",
   "mimetype": "text/x-python",
   "name": "python",
   "nbconvert_exporter": "python",
   "pygments_lexer": "ipython3",
   "version": "3.8.5"
  }
 },
 "nbformat": 4,
 "nbformat_minor": 4
}
