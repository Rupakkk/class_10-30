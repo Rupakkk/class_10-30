{
 "cells": [
  {
   "cell_type": "code",
   "execution_count": 2,
   "metadata": {},
   "outputs": [
    {
     "name": "stdout",
     "output_type": "stream",
     "text": [
      "Enter age = ten\n"
     ]
    },
    {
     "ename": "ValueError",
     "evalue": "invalid literal for int() with base 10: 'ten'",
     "output_type": "error",
     "traceback": [
      "\u001b[1;31m---------------------------------------------------------------------------\u001b[0m",
      "\u001b[1;31mValueError\u001b[0m                                Traceback (most recent call last)",
      "\u001b[1;32m<ipython-input-2-3fed2f55d812>\u001b[0m in \u001b[0;36m<module>\u001b[1;34m\u001b[0m\n\u001b[1;32m----> 1\u001b[1;33m \u001b[0mage\u001b[0m\u001b[1;33m=\u001b[0m\u001b[0mint\u001b[0m\u001b[1;33m(\u001b[0m\u001b[0minput\u001b[0m\u001b[1;33m(\u001b[0m\u001b[1;34m'Enter age = '\u001b[0m\u001b[1;33m)\u001b[0m\u001b[1;33m)\u001b[0m\u001b[1;33m\u001b[0m\u001b[1;33m\u001b[0m\u001b[0m\n\u001b[0m",
      "\u001b[1;31mValueError\u001b[0m: invalid literal for int() with base 10: 'ten'"
     ]
    }
   ],
   "source": [
    "age=int(input('Enter age = '))\n"
   ]
  },
  {
   "cell_type": "code",
   "execution_count": 3,
   "metadata": {},
   "outputs": [
    {
     "name": "stdout",
     "output_type": "stream",
     "text": [
      "Enter age = ten\n",
      "The age should be an integer value\n"
     ]
    }
   ],
   "source": [
    "try:\n",
    "    age=int(input('Enter age = '))\n",
    "except:\n",
    "    print('The age should be an integer value')"
   ]
  },
  {
   "cell_type": "code",
   "execution_count": 5,
   "metadata": {},
   "outputs": [
    {
     "name": "stdout",
     "output_type": "stream",
     "text": [
      "Enter name = 445\n",
      "Enter age = 454\n",
      "Hello, my name is 445. I am 454 years old.\n"
     ]
    }
   ],
   "source": [
    "try:\n",
    "    name=input('Enter name = ')\n",
    "    age=int(input('Enter age = '))\n",
    "    info=f'Hello, my name is {name}. I am {age} years old.'\n",
    "    print(info)\n",
    "except:\n",
    "    print('The age should be an integer value')"
   ]
  },
  {
   "cell_type": "code",
   "execution_count": 6,
   "metadata": {},
   "outputs": [
    {
     "name": "stdout",
     "output_type": "stream",
     "text": [
      "Enter name = ram\n",
      "Enter age = 45\n",
      "The age should be an integer value\n"
     ]
    }
   ],
   "source": [
    "try:\n",
    "    name=input('Enter name = ')\n",
    "    age=int(input('Enter age = '))\n",
    "    info='Hello, my name is'+ name+'. I am' +age +'years old.'  #this line gives error\n",
    "    print(info)\n",
    "except:\n",
    "    print('The age should be an integer value')"
   ]
  },
  {
   "cell_type": "code",
   "execution_count": 10,
   "metadata": {},
   "outputs": [
    {
     "name": "stdout",
     "output_type": "stream",
     "text": [
      "Enter name =fdfs\n",
      "Enter age = 10\n"
     ]
    },
    {
     "ename": "TypeError",
     "evalue": "can only concatenate str (not \"int\") to str",
     "output_type": "error",
     "traceback": [
      "\u001b[1;31m---------------------------------------------------------------------------\u001b[0m",
      "\u001b[1;31mTypeError\u001b[0m                                 Traceback (most recent call last)",
      "\u001b[1;32m<ipython-input-10-9fa8c4de4df4>\u001b[0m in \u001b[0;36m<module>\u001b[1;34m\u001b[0m\n\u001b[0;32m      1\u001b[0m \u001b[0mname\u001b[0m\u001b[1;33m=\u001b[0m\u001b[0minput\u001b[0m\u001b[1;33m(\u001b[0m\u001b[1;34m'Enter name ='\u001b[0m\u001b[1;33m)\u001b[0m\u001b[1;33m\u001b[0m\u001b[1;33m\u001b[0m\u001b[0m\n\u001b[0;32m      2\u001b[0m \u001b[0mage\u001b[0m\u001b[1;33m=\u001b[0m\u001b[0mint\u001b[0m\u001b[1;33m(\u001b[0m\u001b[0minput\u001b[0m\u001b[1;33m(\u001b[0m\u001b[1;34m'Enter age = '\u001b[0m\u001b[1;33m)\u001b[0m\u001b[1;33m)\u001b[0m\u001b[1;33m\u001b[0m\u001b[1;33m\u001b[0m\u001b[0m\n\u001b[1;32m----> 3\u001b[1;33m \u001b[0minfo\u001b[0m\u001b[1;33m=\u001b[0m\u001b[1;34m'Hello, my name is'\u001b[0m\u001b[1;33m+\u001b[0m \u001b[0mname\u001b[0m\u001b[1;33m+\u001b[0m\u001b[1;34m'. I am'\u001b[0m \u001b[1;33m+\u001b[0m\u001b[0mage\u001b[0m \u001b[1;33m+\u001b[0m\u001b[1;34m'years old.'\u001b[0m   \u001b[1;31m#this line gives error\u001b[0m\u001b[1;33m\u001b[0m\u001b[1;33m\u001b[0m\u001b[0m\n\u001b[0m\u001b[0;32m      4\u001b[0m \u001b[0mprint\u001b[0m\u001b[1;33m(\u001b[0m\u001b[0minfo\u001b[0m\u001b[1;33m)\u001b[0m\u001b[1;33m\u001b[0m\u001b[1;33m\u001b[0m\u001b[0m\n",
      "\u001b[1;31mTypeError\u001b[0m: can only concatenate str (not \"int\") to str"
     ]
    }
   ],
   "source": [
    "name=input('Enter name =')\n",
    "age=int(input('Enter age = '))\n",
    "info='Hello, my name is'+ name+'. I am' +age +'years old.'   #this line gives error\n",
    "print(info)"
   ]
  },
  {
   "cell_type": "code",
   "execution_count": 12,
   "metadata": {},
   "outputs": [
    {
     "name": "stdout",
     "output_type": "stream",
     "text": [
      "Enter a = 5\n",
      "Enter b = /0\n",
      "There is an error\n"
     ]
    }
   ],
   "source": [
    "try:\n",
    "    a=int(input('Enter a = '))\n",
    "    b=int(input('Enter b = '))\n",
    "    c=a/b\n",
    "    print(c)\n",
    "except:\n",
    "    print('There is an error')"
   ]
  },
  {
   "cell_type": "code",
   "execution_count": 15,
   "metadata": {},
   "outputs": [
    {
     "name": "stdout",
     "output_type": "stream",
     "text": [
      "Enter a = sgs\n",
      "a and b should be an integer \n"
     ]
    }
   ],
   "source": [
    "try:\n",
    "    a=int(input('Enter a = '))\n",
    "    b=int(input('Enter b = '))\n",
    "    c=a/b\n",
    "    print(c)\n",
    "except ZeroDivisionError:\n",
    "    print('The value of b should not be zero')\n",
    "except ValueError:\n",
    "    print('a and b should be an integer ')"
   ]
  },
  {
   "cell_type": "code",
   "execution_count": 19,
   "metadata": {},
   "outputs": [
    {
     "name": "stdout",
     "output_type": "stream",
     "text": [
      "Enter a = 4\n",
      "Enter b = 5\n",
      "0.8\n"
     ]
    }
   ],
   "source": [
    "try:\n",
    "    a=int(input('Enter a = '))\n",
    "    b=int(input('Enter b = '))\n",
    "    c=a/b\n",
    "    print(c)\n",
    "except (ZeroDivisionError,ValueError):\n",
    "    print('There is some error')\n"
   ]
  },
  {
   "cell_type": "code",
   "execution_count": 24,
   "metadata": {},
   "outputs": [
    {
     "name": "stdout",
     "output_type": "stream",
     "text": [
      "Enter a = gsg\n",
      "a and b should be an integer \n",
      "Enter a = sgsfg\n",
      "a and b should be an integer \n",
      "Enter a = rg\n",
      "a and b should be an integer \n",
      "Enter a = gsf\n",
      "a and b should be an integer \n",
      "Enter a = gs\n",
      "a and b should be an integer \n",
      "Enter a = 5\n",
      "Enter b = 0\n",
      "The value of b should not be zero\n",
      "Enter a = 8\n",
      "Enter b = 0\n",
      "The value of b should not be zero\n",
      "Enter a = 9\n",
      "Enter b = 0\n",
      "The value of b should not be zero\n",
      "Enter a = gsgsfg\n",
      "a and b should be an integer \n",
      "Enter a = gsg\n",
      "a and b should be an integer \n",
      "Enter a = 6\n",
      "Enter b = 0\n",
      "The value of b should not be zero\n",
      "Enter a = 5\n",
      "Enter b = 6\n",
      "0.8333333333333334\n"
     ]
    }
   ],
   "source": [
    "def cal():\n",
    "    try:\n",
    "        a=int(input('Enter a = '))\n",
    "        b=int(input('Enter b = '))\n",
    "        c=a/b\n",
    "        print(c)\n",
    "    except ZeroDivisionError:\n",
    "        print('The value of b should not be zero')\n",
    "        cal()\n",
    "    except ValueError:\n",
    "        print('a and b should be an integer ')\n",
    "        cal()\n",
    "cal()"
   ]
  },
  {
   "cell_type": "code",
   "execution_count": null,
   "metadata": {},
   "outputs": [],
   "source": [
    "try:\n",
    "    a=int(input('Enter a = '))\n",
    "    b=int(input('Enter b = '))\n",
    "    c=a/b\n",
    "except ZeroDivisionError:\n",
    "    print('This is 0 division block')\n",
    "    print('The value of b should not be zero')\n",
    "except ValueError:\n",
    "    print('This is ValueError block')\n",
    "    print('a and b should be an integer ')\n",
    "else:\n",
    "    print('This is else block')\n",
    "    print('The value of c = ',c)"
   ]
  },
  {
   "cell_type": "code",
   "execution_count": 26,
   "metadata": {},
   "outputs": [
    {
     "name": "stdout",
     "output_type": "stream",
     "text": [
      "Enter a = 5\n",
      "Enter b = 5\n",
      "This is else block\n",
      "The value of c =  1.0\n",
      "Thank you\n"
     ]
    }
   ],
   "source": [
    "try:\n",
    "    a=int(input('Enter a = '))\n",
    "    b=int(input('Enter b = '))\n",
    "    c=a/b\n",
    "except ZeroDivisionError:\n",
    "    print('This is 0 division block')\n",
    "    print('The value of b should not be zero')\n",
    "except ValueError:\n",
    "    print('This is ValueError block')\n",
    "    print('a and b should be an integer ')\n",
    "else:\n",
    "    print('This is else block')\n",
    "    print('The value of c = ',c)\n",
    "finally:\n",
    "    print('Thank you')"
   ]
  },
  {
   "cell_type": "code",
   "execution_count": 29,
   "metadata": {},
   "outputs": [
    {
     "name": "stdout",
     "output_type": "stream",
     "text": [
      "Enter a = fgs\n",
      "a and b should be an integer \n",
      "Enter a = gs\n",
      "a and b should be an integer \n",
      "Enter a = 5\n",
      "Enter b = 0\n",
      "The value of b should not be zero\n",
      "Enter a = 5\n",
      "Enter b = 8\n",
      "0.625\n",
      "This is finally block\n",
      "This is finally block\n",
      "This is finally block\n",
      "This is finally block\n"
     ]
    }
   ],
   "source": [
    "\n",
    "def cal():\n",
    "    try:\n",
    "        a=int(input('Enter a = '))\n",
    "        b=int(input('Enter b = '))\n",
    "        c=a/b\n",
    "        print(c)\n",
    "    except ZeroDivisionError:\n",
    "        print('The value of b should not be zero')\n",
    "        cal()\n",
    "    except ValueError:\n",
    "        print('a and b should be an integer ')\n",
    "        cal()\n",
    "    finally:\n",
    "        print('This is finally block')\n",
    "cal()\n"
   ]
  },
  {
   "cell_type": "code",
   "execution_count": 1,
   "metadata": {},
   "outputs": [
    {
     "name": "stdout",
     "output_type": "stream",
     "text": [
      "Enter a = gfdgd\n",
      "The value of a and b must be integer\n",
      "Enter a = gf\n",
      "The value of a and b must be integer\n",
      "Enter a = 5\n",
      "Enter b = 0\n",
      "The value of b cannot be zero\n",
      "Enter a = 8\n",
      "Enter b = 0\n",
      "The value of b cannot be zero\n",
      "Enter a = 5\n",
      "Enter b = 2\n",
      "a/b is 2.5\n",
      "The number of unsuccessful execution is 4\n"
     ]
    }
   ],
   "source": [
    "#WAP to count the unsuccessful execution\n",
    "c=0\n",
    "def calc():\n",
    "    global c\n",
    "    try:\n",
    "        a=int(input('Enter a = '))\n",
    "        b=int(input('Enter b = '))\n",
    "        print(f'a/b is {a/b}')\n",
    "    except ZeroDivisionError:\n",
    "        print('The value of b cannot be zero')\n",
    "        calc()\n",
    "    except ValueError:\n",
    "        print('The value of a and b must be integer')\n",
    "        calc()\n",
    "    finally:\n",
    "        c=c+1\n",
    "    \n",
    "calc()\n",
    "print('The number of unsuccessful execution is',c-1)\n",
    "        \n",
    "        \n",
    "        \n"
   ]
  },
  {
   "cell_type": "code",
   "execution_count": 32,
   "metadata": {},
   "outputs": [
    {
     "ename": "ZeroDivisionError",
     "evalue": "",
     "output_type": "error",
     "traceback": [
      "\u001b[1;31m---------------------------------------------------------------------------\u001b[0m",
      "\u001b[1;31mZeroDivisionError\u001b[0m                         Traceback (most recent call last)",
      "\u001b[1;32m<ipython-input-32-26b0136ec2f7>\u001b[0m in \u001b[0;36m<module>\u001b[1;34m\u001b[0m\n\u001b[1;32m----> 1\u001b[1;33m \u001b[1;32mraise\u001b[0m \u001b[0mZeroDivisionError\u001b[0m\u001b[1;33m\u001b[0m\u001b[1;33m\u001b[0m\u001b[0m\n\u001b[0m",
      "\u001b[1;31mZeroDivisionError\u001b[0m: "
     ]
    }
   ],
   "source": [
    "raise ZeroDivisionError "
   ]
  },
  {
   "cell_type": "code",
   "execution_count": 35,
   "metadata": {},
   "outputs": [
    {
     "name": "stdout",
     "output_type": "stream",
     "text": [
      "Enter a = fd\n"
     ]
    },
    {
     "ename": "ValueError",
     "evalue": "invalid literal for int() with base 10: 'fd'",
     "output_type": "error",
     "traceback": [
      "\u001b[1;31m---------------------------------------------------------------------------\u001b[0m",
      "\u001b[1;31mValueError\u001b[0m                                Traceback (most recent call last)",
      "\u001b[1;32m<ipython-input-35-354266dd5bff>\u001b[0m in \u001b[0;36m<module>\u001b[1;34m\u001b[0m\n\u001b[0;32m      1\u001b[0m \u001b[1;32mtry\u001b[0m\u001b[1;33m:\u001b[0m\u001b[1;33m\u001b[0m\u001b[1;33m\u001b[0m\u001b[0m\n\u001b[1;32m----> 2\u001b[1;33m     \u001b[0ma\u001b[0m\u001b[1;33m=\u001b[0m\u001b[0mint\u001b[0m\u001b[1;33m(\u001b[0m\u001b[0minput\u001b[0m\u001b[1;33m(\u001b[0m\u001b[1;34m'Enter a = '\u001b[0m\u001b[1;33m)\u001b[0m\u001b[1;33m)\u001b[0m\u001b[1;33m\u001b[0m\u001b[1;33m\u001b[0m\u001b[0m\n\u001b[0m\u001b[0;32m      3\u001b[0m     \u001b[0mb\u001b[0m\u001b[1;33m=\u001b[0m\u001b[0mint\u001b[0m\u001b[1;33m(\u001b[0m\u001b[0minput\u001b[0m\u001b[1;33m(\u001b[0m\u001b[1;34m'Enter b = '\u001b[0m\u001b[1;33m)\u001b[0m\u001b[1;33m)\u001b[0m\u001b[1;33m\u001b[0m\u001b[1;33m\u001b[0m\u001b[0m\n\u001b[0;32m      4\u001b[0m     \u001b[1;32mif\u001b[0m \u001b[0ma\u001b[0m\u001b[1;33m/\u001b[0m\u001b[0mb\u001b[0m\u001b[1;33m==\u001b[0m\u001b[1;36m0\u001b[0m\u001b[1;33m:\u001b[0m\u001b[1;33m\u001b[0m\u001b[1;33m\u001b[0m\u001b[0m\n\u001b[0;32m      5\u001b[0m         \u001b[1;32mraise\u001b[0m \u001b[0mZeroDivisionError\u001b[0m\u001b[1;33m\u001b[0m\u001b[1;33m\u001b[0m\u001b[0m\n",
      "\u001b[1;31mValueError\u001b[0m: invalid literal for int() with base 10: 'fd'"
     ]
    }
   ],
   "source": [
    "try:\n",
    "    a=int(input('Enter a = '))\n",
    "    b=int(input('Enter b = '))\n",
    "    if a/b==0:\n",
    "        raise ZeroDivisionError \n",
    "        print(f'{a}/{b} is {a/b}')\n",
    "except ZeroDivisionError :\n",
    "     print('The value of b cannot be zero')         \n",
    "              \n",
    "               \n",
    "              \n",
    "              "
   ]
  },
  {
   "cell_type": "code",
   "execution_count": null,
   "metadata": {},
   "outputs": [],
   "source": []
  }
 ],
 "metadata": {
  "kernelspec": {
   "display_name": "Python 3",
   "language": "python",
   "name": "python3"
  },
  "language_info": {
   "codemirror_mode": {
    "name": "ipython",
    "version": 3
   },
   "file_extension": ".py",
   "mimetype": "text/x-python",
   "name": "python",
   "nbconvert_exporter": "python",
   "pygments_lexer": "ipython3",
   "version": "3.8.5"
  }
 },
 "nbformat": 4,
 "nbformat_minor": 4
}
