{
 "cells": [
  {
   "cell_type": "code",
   "execution_count": null,
   "metadata": {},
   "outputs": [],
   "source": [
    "# range()\n",
    "# for(i=0;i<5;i++){\n",
    "    \n",
    "# }"
   ]
  },
  {
   "cell_type": "code",
   "execution_count": null,
   "metadata": {},
   "outputs": [],
   "source": [
    "# range(5)\n",
    "# range(1,5)\n",
    "# range(1,5,2)"
   ]
  },
  {
   "cell_type": "code",
   "execution_count": 3,
   "metadata": {},
   "outputs": [
    {
     "name": "stdout",
     "output_type": "stream",
     "text": [
      "0 Hello World\n",
      "1 Hello World\n",
      "2 Hello World\n",
      "3 Hello World\n",
      "4 Hello World\n"
     ]
    }
   ],
   "source": [
    "for i in range(5):                  #    for(i=0;i<5;i++){ }\n",
    "    print(i,'Hello World')"
   ]
  },
  {
   "cell_type": "code",
   "execution_count": 5,
   "metadata": {},
   "outputs": [
    {
     "name": "stdout",
     "output_type": "stream",
     "text": [
      "1 Hello World\n",
      "2 Hello World\n",
      "3 Hello World\n",
      "4 Hello World\n"
     ]
    }
   ],
   "source": [
    "for i in range(1,5):          #    for(i=1;i<5;i++){ }            \n",
    "    print(i,'Hello World')"
   ]
  },
  {
   "cell_type": "code",
   "execution_count": 6,
   "metadata": {},
   "outputs": [
    {
     "name": "stdout",
     "output_type": "stream",
     "text": [
      "1 Hello World\n",
      "3 Hello World\n"
     ]
    }
   ],
   "source": [
    "for i in range(1,5,2):          #    for(i=1;i<5;i=i+2){ }            \n",
    "    print(i,'Hello World')"
   ]
  },
  {
   "cell_type": "code",
   "execution_count": 2,
   "metadata": {},
   "outputs": [
    {
     "name": "stdout",
     "output_type": "stream",
     "text": [
      "Enter n= 5\n",
      "Enter the value of x= 2\n",
      "Enter the value of x= 3\n",
      "Enter the value of x= 4\n",
      "Enter the value of x= 5\n",
      "Enter the value of x= 6\n",
      "20\n"
     ]
    }
   ],
   "source": [
    "s=0\n",
    "n=int(input('Enter n= '))\n",
    "for i in range(n):\n",
    "    x=int(input('Enter the value of x= '))\n",
    "    s=s+x\n",
    "print(s)\n",
    "    "
   ]
  },
  {
   "cell_type": "code",
   "execution_count": 2,
   "metadata": {},
   "outputs": [
    {
     "name": "stdout",
     "output_type": "stream",
     "text": [
      "Enter n =  5\n",
      "5 * 1 = 5\n",
      "5 * 2 = 10\n",
      "5 * 3 = 15\n",
      "5 * 4 = 20\n",
      "5 * 5 = 25\n",
      "5 * 6 = 30\n",
      "5 * 7 = 35\n",
      "5 * 8 = 40\n",
      "5 * 9 = 45\n",
      "5 * 10 = 50\n"
     ]
    }
   ],
   "source": [
    "n=int(input('Enter n =  '))\n",
    "for i in range(1,11):\n",
    "    print(n,'*',i,'=',n*i)"
   ]
  },
  {
   "cell_type": "code",
   "execution_count": 10,
   "metadata": {},
   "outputs": [
    {
     "name": "stdout",
     "output_type": "stream",
     "text": [
      "Enter n= 2\n",
      "Enter the value of x= apple\n",
      "Enter the value of x= orange\n",
      " apple orange\n"
     ]
    }
   ],
   "source": [
    "s=''\n",
    "n=int(input('Enter n= '))\n",
    "for i in range(n):\n",
    "    x=input('Enter the value of x= ')\n",
    "    s=s+' '+x\n",
    "print(s)\n",
    "    "
   ]
  },
  {
   "cell_type": "code",
   "execution_count": 2,
   "metadata": {},
   "outputs": [
    {
     "name": "stdout",
     "output_type": "stream",
     "text": [
      "Enter n= 2\n",
      "Enter the name= dfs\n",
      "Enter the number 24\n",
      "Enter the name= dfsf\n",
      "Enter the number 423\n",
      "dfs 24\n",
      "dfsf 423\n",
      "\n"
     ]
    }
   ],
   "source": [
    "s=''\n",
    "n=int(input('Enter n= '))\n",
    "for i in range(n):\n",
    "    name=input('Enter the name= ')\n",
    "    number=input('Enter the number ')\n",
    "    s=s+name+' '+number+'\\n'\n",
    "print(s)"
   ]
  },
  {
   "cell_type": "code",
   "execution_count": 1,
   "metadata": {},
   "outputs": [
    {
     "name": "stdout",
     "output_type": "stream",
     "text": [
      "Enter n = 5\n",
      "120\n"
     ]
    }
   ],
   "source": [
    "fac=1\n",
    "n=int(input('Enter n = '))\n",
    "for i in range(1,n+1):\n",
    "    fac=fac*i\n",
    "print(fac)\n",
    "    "
   ]
  },
  {
   "cell_type": "code",
   "execution_count": 13,
   "metadata": {},
   "outputs": [
    {
     "name": "stdout",
     "output_type": "stream",
     "text": [
      "Enter the number13\n",
      "prime\n"
     ]
    }
   ],
   "source": [
    "# WAP to detect prime and composite number\n",
    "#prime=2,3,5,7,11,13,17\n",
    "#composite= 4,6,8,9,10\n",
    "n=int(input('Enter the number'))\n",
    "num=''\n",
    "\n",
    "if n>1:\n",
    "    for i in range(2,n):\n",
    "         if n%i==0:\n",
    "                print('Composite')\n",
    "                break\n",
    "    else:\n",
    "        print('prime')\n",
    "           \n",
    "else:\n",
    "    print('Invalid entry')\n",
    "            \n",
    "             \n",
    "    #need to do this again    \n",
    "\n",
    "            \n",
    "           \n"
   ]
  },
  {
   "cell_type": "code",
   "execution_count": 18,
   "metadata": {},
   "outputs": [
    {
     "name": "stdout",
     "output_type": "stream",
     "text": [
      "Enter the number77\n",
      "It is a composite number\n"
     ]
    }
   ],
   "source": [
    "n=int(input('Enter the number'))\n",
    "if n>1:\n",
    "    for i in range(2,n):\n",
    "        if n%i==0:\n",
    "            print('It is a composite number')\n",
    "            break       \n",
    "    else:\n",
    "        print('It is a prime number')\n",
    "    \n",
    "else:\n",
    "    print('Invalid entry')\n",
    "     "
   ]
  },
  {
   "cell_type": "code",
   "execution_count": 3,
   "metadata": {},
   "outputs": [
    {
     "name": "stdout",
     "output_type": "stream",
     "text": [
      "5 Hello World\n",
      "4 Hello World\n",
      "3 Hello World\n",
      "2 Hello World\n",
      "1 Hello World\n"
     ]
    }
   ],
   "source": [
    "for i in range(5,0,-1):\n",
    "    print(i,'Hello World')"
   ]
  },
  {
   "cell_type": "code",
   "execution_count": 4,
   "metadata": {},
   "outputs": [
    {
     "name": "stdout",
     "output_type": "stream",
     "text": [
      "5 Hello World\n",
      "3 Hello World\n",
      "1 Hello World\n"
     ]
    }
   ],
   "source": [
    "for i in range(5,0,-2):\n",
    "    print(i,'Hello World')"
   ]
  },
  {
   "cell_type": "code",
   "execution_count": 6,
   "metadata": {},
   "outputs": [
    {
     "name": "stdout",
     "output_type": "stream",
     "text": [
      "P\n",
      "n\n"
     ]
    }
   ],
   "source": [
    "a='Python'\n",
    "print(a[0])\n",
    "print(a[-1])"
   ]
  },
  {
   "cell_type": "code",
   "execution_count": 13,
   "metadata": {},
   "outputs": [
    {
     "name": "stdout",
     "output_type": "stream",
     "text": [
      "nohtyP"
     ]
    }
   ],
   "source": [
    "a='Python'\n",
    "for i in range(5,-1,-1):  # prints 5,4,3,2,1,0 index\n",
    "    print(a[i],end='')  # end='' doesn't end the line"
   ]
  },
  {
   "cell_type": "code",
   "execution_count": 14,
   "metadata": {},
   "outputs": [
    {
     "name": "stdout",
     "output_type": "stream",
     "text": [
      "nohty"
     ]
    }
   ],
   "source": [
    "a='Python'\n",
    "for i in range(5,0,-1):  # prints 5,4,3,2,1 index\n",
    "    print(a[i],end='')"
   ]
  },
  {
   "cell_type": "code",
   "execution_count": 15,
   "metadata": {},
   "outputs": [
    {
     "name": "stdout",
     "output_type": "stream",
     "text": [
      "n.o.h.t.y."
     ]
    }
   ],
   "source": [
    "a='Python'\n",
    "for i in range(5,0,-1): \n",
    "    print(a[i],end='.')"
   ]
  },
  {
   "cell_type": "code",
   "execution_count": 16,
   "metadata": {},
   "outputs": [
    {
     "name": "stdout",
     "output_type": "stream",
     "text": [
      "p\n",
      "y\n",
      "t\n",
      "h\n",
      "o\n",
      "n\n"
     ]
    }
   ],
   "source": [
    "# for each loop\n",
    "a='python'\n",
    "for i in a :\n",
    "    print(i)"
   ]
  },
  {
   "cell_type": "code",
   "execution_count": 17,
   "metadata": {},
   "outputs": [
    {
     "name": "stdout",
     "output_type": "stream",
     "text": [
      "Python\n",
      "C\n",
      "C++\n",
      "Java\n"
     ]
    }
   ],
   "source": [
    "a=('Python',\"C\",'C++','Java')\n",
    "for i in a:\n",
    "    print(i)"
   ]
  },
  {
   "cell_type": "code",
   "execution_count": 18,
   "metadata": {},
   "outputs": [
    {
     "name": "stdout",
     "output_type": "stream",
     "text": [
      "Hello World\n",
      "Hello World\n",
      "Hello World\n",
      "Hello World\n",
      "Hello World\n",
      "Hello World\n"
     ]
    }
   ],
   "source": [
    "# for each loop\n",
    "a='python'\n",
    "for i in a :\n",
    "    print('Hello World')"
   ]
  },
  {
   "cell_type": "code",
   "execution_count": 20,
   "metadata": {},
   "outputs": [
    {
     "name": "stdout",
     "output_type": "stream",
     "text": [
      "python\n",
      "python\n",
      "python\n",
      "python\n",
      "python\n",
      "python\n"
     ]
    }
   ],
   "source": [
    "# for each loop\n",
    "a='python'\n",
    "for i in a :\n",
    "    print(a)  #print item the number of characters of a"
   ]
  },
  {
   "cell_type": "code",
   "execution_count": 22,
   "metadata": {},
   "outputs": [
    {
     "name": "stdout",
     "output_type": "stream",
     "text": [
      "Python C C++ Java "
     ]
    }
   ],
   "source": [
    "a=('Python',\"C\",'C++','Java')\n",
    "for i in a:\n",
    "    print(i,end=' ')"
   ]
  },
  {
   "cell_type": "code",
   "execution_count": 19,
   "metadata": {},
   "outputs": [
    {
     "name": "stdout",
     "output_type": "stream",
     "text": [
      "Python    C    C++    Java    "
     ]
    }
   ],
   "source": [
    "a=('Python',\"C\",'C++','Java')\n",
    "for i in a:\n",
    "    print(i,end='    ')"
   ]
  },
  {
   "cell_type": "code",
   "execution_count": 7,
   "metadata": {},
   "outputs": [
    {
     "name": "stdout",
     "output_type": "stream",
     "text": [
      "Enter the number2\n",
      "It is a prime number\n"
     ]
    }
   ],
   "source": [
    "n=int(input('Enter the number'))\n",
    "prime='yes'\n",
    "if n>1:\n",
    "    for i in range(2,n):\n",
    "        if n%i==0:\n",
    "            prime='no'\n",
    "    \n",
    "    if prime=='yes':\n",
    "        print('It is a prime number')\n",
    "    else:\n",
    "        print('It is a composite number')\n",
    "        \n",
    "        \n",
    "        \n",
    "else:\n",
    "    print('Invalid entry')"
   ]
  },
  {
   "cell_type": "code",
   "execution_count": 30,
   "metadata": {},
   "outputs": [
    {
     "name": "stdout",
     "output_type": "stream",
     "text": [
      "Enter the number2\n",
      "Prime number\n"
     ]
    }
   ],
   "source": [
    "n=int(input('Enter the number'))\n",
    "if n>1:\n",
    "    for i in range(2,n):\n",
    "        if n%i==0:\n",
    "            print('Composite number')\n",
    "            break\n",
    "    else:\n",
    "        print('Prime number')\n",
    "else:\n",
    "    print('Invalid entry')"
   ]
  }
 ],
 "metadata": {
  "kernelspec": {
   "display_name": "Python 3",
   "language": "python",
   "name": "python3"
  },
  "language_info": {
   "codemirror_mode": {
    "name": "ipython",
    "version": 3
   },
   "file_extension": ".py",
   "mimetype": "text/x-python",
   "name": "python",
   "nbconvert_exporter": "python",
   "pygments_lexer": "ipython3",
   "version": "3.8.5"
  }
 },
 "nbformat": 4,
 "nbformat_minor": 4
}
