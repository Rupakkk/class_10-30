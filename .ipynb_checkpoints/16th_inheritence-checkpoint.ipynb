{
 "cells": [
  {
   "cell_type": "code",
   "execution_count": 3,
   "metadata": {},
   "outputs": [
    {
     "name": "stdout",
     "output_type": "stream",
     "text": [
      "Hello, I am Ram. I am 25 years old.\n",
      "Shyam 34\n"
     ]
    }
   ],
   "source": [
    "class Profile:\n",
    "    def __init__(self,name,age):\n",
    "        self.name=name\n",
    "        self.age=age\n",
    "class Hr(Profile):\n",
    "    def hello(self):\n",
    "        print(f'Hello, I am {self.name}. I am {self.age} years old.')\n",
    "        \n",
    "obj=Hr('Ram',25)\n",
    "obj.hello()\n",
    "\n",
    "obj1=Profile('Shyam',34)\n",
    "print(obj1.name,obj1.age)"
   ]
  },
  {
   "cell_type": "code",
   "execution_count": 4,
   "metadata": {},
   "outputs": [
    {
     "name": "stdout",
     "output_type": "stream",
     "text": [
      "This is class A\n",
      "This is class B\n",
      "This is class C\n"
     ]
    }
   ],
   "source": [
    "class A:\n",
    "    print('This is class A')\n",
    "class B(A):\n",
    "    print('This is class B')\n",
    "class C(B):\n",
    "    print('This is class C')   \n",
    "    \n",
    "obj=C()    "
   ]
  },
  {
   "cell_type": "code",
   "execution_count": 5,
   "metadata": {},
   "outputs": [
    {
     "name": "stdout",
     "output_type": "stream",
     "text": [
      "Hello, I am Ram. I am 25 years old.\n",
      "Ram 25\n",
      "Shyam 34\n"
     ]
    }
   ],
   "source": [
    "class Profile:                               # Multi level inheritence\n",
    "    def __init__(self,name,age):\n",
    "        self.name=name\n",
    "        self.age=age\n",
    "        \n",
    "class Office(Profile):\n",
    "    def office(self):\n",
    "        print(self.name,self.age)\n",
    "    \n",
    "class Hr(Office):\n",
    "    def hello(self):\n",
    "        print(f'Hello, I am {self.name}. I am {self.age} years old.')\n",
    "        \n",
    "obj=Hr('Ram',25)\n",
    "obj.hello()\n",
    "obj.office()   \n",
    "\n",
    "obj1=Profile('Shyam',34)\n",
    "print(obj1.name,obj1.age)"
   ]
  },
  {
   "cell_type": "code",
   "execution_count": 10,
   "metadata": {},
   "outputs": [
    {
     "name": "stdout",
     "output_type": "stream",
     "text": [
      "This is class A\n",
      "This is class B\n",
      "This is class C\n"
     ]
    }
   ],
   "source": [
    "class A:\n",
    "    def a(self):\n",
    "        return('This is class A')\n",
    "class B(A):\n",
    "    def b(self):\n",
    "        print('This is class B')\n",
    "class C(B):\n",
    "    def c(self):\n",
    "        print('This is class C')   \n",
    "    \n",
    "obj=C()\n",
    "print(obj.a())\n",
    "obj.b()\n",
    "obj.c()"
   ]
  },
  {
   "cell_type": "code",
   "execution_count": 11,
   "metadata": {},
   "outputs": [
    {
     "name": "stdout",
     "output_type": "stream",
     "text": [
      "Hello, I am Ram. I am 25 years old.\n",
      "Ram\n"
     ]
    }
   ],
   "source": [
    "class Profile:                              \n",
    "    def __init__(self,age):\n",
    "        self.age=age\n",
    "        \n",
    "class Office(Profile):\n",
    "     def __init__(self,name,age):\n",
    "        self.name=name\n",
    "        Profile.__init__(self,age)\n",
    "     \n",
    "     def office(self):\n",
    "        print(self.name)\n",
    "        \n",
    "class Hr(Office):\n",
    "    def hello(self):\n",
    "        print(f'Hello, I am {self.name}. I am {self.age} years old.')\n",
    "        \n",
    "obj=Hr('Ram',25)\n",
    "obj.hello()\n",
    "obj.office()   \n",
    "\n"
   ]
  },
  {
   "cell_type": "code",
   "execution_count": 14,
   "metadata": {},
   "outputs": [
    {
     "name": "stdout",
     "output_type": "stream",
     "text": [
      "This is class A\n",
      "This is class B\n"
     ]
    }
   ],
   "source": [
    "class A:\n",
    "    def a(self):\n",
    "        return('This is class A')\n",
    "class B():\n",
    "    def b(self):\n",
    "        print('This is class B')\n",
    "class C(A,B):\n",
    "    def c(self):\n",
    "        print('This is class C')   \n",
    "    \n",
    "obj=C()\n",
    "print(obj.a())\n",
    "obj.b()"
   ]
  },
  {
   "cell_type": "code",
   "execution_count": 1,
   "metadata": {},
   "outputs": [
    {
     "name": "stdout",
     "output_type": "stream",
     "text": [
      "harry\n",
      "harry 25\n",
      "2\n"
     ]
    }
   ],
   "source": [
    "class Person:\n",
    "    def __init__(self,name,age):\n",
    "        self.name=name\n",
    "        self.age=age\n",
    "    def hello(self):\n",
    "        print(self.name,self.age)\n",
    "class Student:\n",
    "    def __init__(self,id):\n",
    "        self.id=id\n",
    "    def hey(self):\n",
    "        print(self.id)\n",
    "class Resident(Person,Student):\n",
    "    def __init__(self,name,age,id):\n",
    "        Person.__init__(self,name,age)\n",
    "        Student.__init__(self,id)\n",
    "obj=Resident('harry',25,2)\n",
    "print(obj.name)\n",
    "obj.hello()\n",
    "obj.hey()"
   ]
  },
  {
   "cell_type": "code",
   "execution_count": 1,
   "metadata": {},
   "outputs": [
    {
     "name": "stdout",
     "output_type": "stream",
     "text": [
      "Ram\n",
      "56\n",
      "Kathmandu\n"
     ]
    }
   ],
   "source": [
    "class Info:\n",
    "    def __init__(self,name,age,add):\n",
    "        self.name=name\n",
    "        self.age=age\n",
    "        self.add=add\n",
    "obj=Info('Ram',56,'Kathmandu')\n",
    "print(obj.name)\n",
    "print(obj.age)\n",
    "print(obj.add)\n",
    "    "
   ]
  },
  {
   "cell_type": "code",
   "execution_count": 3,
   "metadata": {},
   "outputs": [
    {
     "name": "stdout",
     "output_type": "stream",
     "text": [
      "Ram\n",
      "56\n",
      "Kathmandu\n"
     ]
    }
   ],
   "source": [
    "# Protected members\n",
    "class Info:\n",
    "    def __init__(self,name,age,add):\n",
    "        self._name=name\n",
    "        self._age=age\n",
    "        self._add=add\n",
    "obj=Info('Ram',56,'Kathmandu')\n",
    "print(obj._name)\n",
    "print(obj._age)\n",
    "print(obj._add)\n",
    "    "
   ]
  },
  {
   "cell_type": "code",
   "execution_count": 4,
   "metadata": {},
   "outputs": [
    {
     "ename": "AttributeError",
     "evalue": "'Info' object has no attribute '__name'",
     "output_type": "error",
     "traceback": [
      "\u001b[1;31m---------------------------------------------------------------------------\u001b[0m",
      "\u001b[1;31mAttributeError\u001b[0m                            Traceback (most recent call last)",
      "\u001b[1;32m<ipython-input-4-95d67e68fe4c>\u001b[0m in \u001b[0;36m<module>\u001b[1;34m\u001b[0m\n\u001b[0;32m      6\u001b[0m         \u001b[0mself\u001b[0m\u001b[1;33m.\u001b[0m\u001b[0m__add\u001b[0m\u001b[1;33m=\u001b[0m\u001b[0madd\u001b[0m\u001b[1;33m\u001b[0m\u001b[1;33m\u001b[0m\u001b[0m\n\u001b[0;32m      7\u001b[0m \u001b[0mobj\u001b[0m\u001b[1;33m=\u001b[0m\u001b[0mInfo\u001b[0m\u001b[1;33m(\u001b[0m\u001b[1;34m'Ram'\u001b[0m\u001b[1;33m,\u001b[0m\u001b[1;36m56\u001b[0m\u001b[1;33m,\u001b[0m\u001b[1;34m'Kathmandu'\u001b[0m\u001b[1;33m)\u001b[0m\u001b[1;33m\u001b[0m\u001b[1;33m\u001b[0m\u001b[0m\n\u001b[1;32m----> 8\u001b[1;33m \u001b[0mprint\u001b[0m\u001b[1;33m(\u001b[0m\u001b[0mobj\u001b[0m\u001b[1;33m.\u001b[0m\u001b[0m__name\u001b[0m\u001b[1;33m)\u001b[0m\u001b[1;33m\u001b[0m\u001b[1;33m\u001b[0m\u001b[0m\n\u001b[0m\u001b[0;32m      9\u001b[0m \u001b[0mprint\u001b[0m\u001b[1;33m(\u001b[0m\u001b[0mobj\u001b[0m\u001b[1;33m.\u001b[0m\u001b[0m__age\u001b[0m\u001b[1;33m)\u001b[0m\u001b[1;33m\u001b[0m\u001b[1;33m\u001b[0m\u001b[0m\n\u001b[0;32m     10\u001b[0m \u001b[0mprint\u001b[0m\u001b[1;33m(\u001b[0m\u001b[0mobj\u001b[0m\u001b[1;33m.\u001b[0m\u001b[0m__add\u001b[0m\u001b[1;33m)\u001b[0m\u001b[1;33m\u001b[0m\u001b[1;33m\u001b[0m\u001b[0m\n",
      "\u001b[1;31mAttributeError\u001b[0m: 'Info' object has no attribute '__name'"
     ]
    }
   ],
   "source": [
    "# Private members\n",
    "class Info:\n",
    "    def __init__(self,name,age,add):\n",
    "        self.__name=name\n",
    "        self.__age=age\n",
    "        self.__add=add\n",
    "obj=Info('Ram',56,'Kathmandu')\n",
    "print(obj.__name)\n",
    "print(obj.__age)\n",
    "print(obj.__add)\n",
    "    "
   ]
  },
  {
   "cell_type": "code",
   "execution_count": 5,
   "metadata": {},
   "outputs": [
    {
     "name": "stdout",
     "output_type": "stream",
     "text": [
      "Ram\n",
      "56\n",
      "Kathmandu\n"
     ]
    }
   ],
   "source": [
    "# Private members\n",
    "class Info:\n",
    "    def __init__(self,name,age,add):\n",
    "        self.__name=name\n",
    "        self.__age=age\n",
    "        self.__add=add\n",
    "obj=Info('Ram',56,'Kathmandu')\n",
    "print(obj._Info__name)              # We can access private member this way, it is called name membering\n",
    "print(obj._Info__age)\n",
    "print(obj._Info__add)\n",
    "    "
   ]
  },
  {
   "cell_type": "code",
   "execution_count": 7,
   "metadata": {},
   "outputs": [
    {
     "name": "stdout",
     "output_type": "stream",
     "text": [
      "Hello I am Ram.I am 67 years old.\n",
      "Ram 67\n"
     ]
    }
   ],
   "source": [
    "class Profile:\n",
    "    def __init__(self,name,age):\n",
    "        self._name = name\n",
    "        self.age = age\n",
    "        \n",
    "class Office(Profile):\n",
    "    def office(self):\n",
    "        print(self._name,self.age)\n",
    "        \n",
    "class Hr(Office):\n",
    "    def hello(self):\n",
    "        print(f\"Hello I am {self._name}.I am {self.age} years old.\")\n",
    "        \n",
    "obj = Hr(\"Ram\",67)\n",
    "obj.hello()\n",
    "obj.office()\n",
    "obj1 = Profile(\"Shyam\",34)\n"
   ]
  },
  {
   "cell_type": "code",
   "execution_count": 8,
   "metadata": {},
   "outputs": [
    {
     "name": "stdout",
     "output_type": "stream",
     "text": [
      "Hello I am Ram.I am 67 years old.\n",
      "Ram 67\n"
     ]
    }
   ],
   "source": [
    "class Profile:\n",
    "    def __init__(self,name,age):\n",
    "        self._name = name\n",
    "        self.__age = age\n",
    "        \n",
    "class Office(Profile):\n",
    "    def office(self):\n",
    "        print(self._name,self._Profile__age)\n",
    "        \n",
    "class Hr(Office):\n",
    "    def hello(self):\n",
    "        print(f\"Hello I am {self._name}.I am {self._Profile__age} years old.\")\n",
    "        \n",
    "obj = Hr(\"Ram\",67)\n",
    "obj.hello()\n",
    "obj.office()\n",
    "obj1 = Profile(\"Shyam\",34)\n"
   ]
  },
  {
   "cell_type": "code",
   "execution_count": 9,
   "metadata": {},
   "outputs": [
    {
     "name": "stdout",
     "output_type": "stream",
     "text": [
      "Hello I am Ram.I am 67 years old.\n",
      "Ram 67\n"
     ]
    }
   ],
   "source": [
    "class Profile:\n",
    "    def __init__(self,name,age):\n",
    "        self._name = name\n",
    "        self.__age = age\n",
    "        \n",
    "    def ages(self):\n",
    "        return self.__age\n",
    "        \n",
    "class Office(Profile):\n",
    "    def office(self):\n",
    "        print(self._name,self._Profile__age)\n",
    "        \n",
    "class Hr(Office):\n",
    "    def hello(self):\n",
    "        print(f\"Hello I am {self._name}.I am {super().ages()} years old.\")\n",
    "        \n",
    "obj = Hr(\"Ram\",67)\n",
    "obj.hello()\n",
    "obj.office()\n",
    "obj1 = Profile(\"Shyam\",34)\n"
   ]
  },
  {
   "cell_type": "code",
   "execution_count": 10,
   "metadata": {},
   "outputs": [
    {
     "name": "stdout",
     "output_type": "stream",
     "text": [
      "Hello I am Ram.I am 67 years old.\n",
      "Ram 67\n",
      "67\n"
     ]
    }
   ],
   "source": [
    "class Profile:\n",
    "    def __init__(self,name,age):\n",
    "        self._name = name\n",
    "        self.__age = age\n",
    "        \n",
    "    def ages(self):\n",
    "        return self.__age\n",
    "        \n",
    "class Office(Profile):\n",
    "    def office(self):\n",
    "        print(self._name,self._Profile__age)\n",
    "        print(super().ages())\n",
    "        \n",
    "class Hr(Office):\n",
    "    def hello(self):\n",
    "        print(f\"Hello I am {self._name}.I am {super().ages()} years old.\")\n",
    "        \n",
    "obj = Hr(\"Ram\",67)\n",
    "obj.hello()\n",
    "obj.office()\n",
    "obj1 = Profile(\"Shyam\",34)\n"
   ]
  },
  {
   "cell_type": "code",
   "execution_count": 11,
   "metadata": {},
   "outputs": [
    {
     "ename": "AttributeError",
     "evalue": "'Student' object has no attribute 'country'",
     "output_type": "error",
     "traceback": [
      "\u001b[1;31m---------------------------------------------------------------------------\u001b[0m",
      "\u001b[1;31mAttributeError\u001b[0m                            Traceback (most recent call last)",
      "\u001b[1;32m<ipython-input-11-e2914ec8f723>\u001b[0m in \u001b[0;36m<module>\u001b[1;34m\u001b[0m\n\u001b[0;32m     17\u001b[0m \u001b[1;33m\u001b[0m\u001b[0m\n\u001b[0;32m     18\u001b[0m \u001b[0mx\u001b[0m \u001b[1;33m=\u001b[0m \u001b[0mStudent\u001b[0m\u001b[1;33m(\u001b[0m\u001b[1;34m\"John\"\u001b[0m\u001b[1;33m,\u001b[0m \u001b[1;34m\"USA\"\u001b[0m\u001b[1;33m,\u001b[0m \u001b[1;34m\"JAPAN\"\u001b[0m\u001b[1;33m)\u001b[0m\u001b[1;33m\u001b[0m\u001b[1;33m\u001b[0m\u001b[0m\n\u001b[1;32m---> 19\u001b[1;33m \u001b[0mx\u001b[0m\u001b[1;33m.\u001b[0m\u001b[0mhello\u001b[0m\u001b[1;33m(\u001b[0m\u001b[1;33m)\u001b[0m\u001b[1;33m\u001b[0m\u001b[1;33m\u001b[0m\u001b[0m\n\u001b[0m\u001b[0;32m     20\u001b[0m \u001b[0mx\u001b[0m\u001b[1;33m.\u001b[0m\u001b[0minfo\u001b[0m\u001b[1;33m(\u001b[0m\u001b[1;33m)\u001b[0m\u001b[1;33m\u001b[0m\u001b[1;33m\u001b[0m\u001b[0m\n",
      "\u001b[1;32m<ipython-input-11-e2914ec8f723>\u001b[0m in \u001b[0;36mhello\u001b[1;34m(self)\u001b[0m\n\u001b[0;32m     14\u001b[0m \u001b[1;33m\u001b[0m\u001b[0m\n\u001b[0;32m     15\u001b[0m     \u001b[1;32mdef\u001b[0m \u001b[0mhello\u001b[0m\u001b[1;33m(\u001b[0m\u001b[0mself\u001b[0m\u001b[1;33m)\u001b[0m\u001b[1;33m:\u001b[0m\u001b[1;33m\u001b[0m\u001b[1;33m\u001b[0m\u001b[0m\n\u001b[1;32m---> 16\u001b[1;33m         \u001b[0mprint\u001b[0m\u001b[1;33m(\u001b[0m\u001b[1;34m\"Hello, welcome\"\u001b[0m\u001b[1;33m,\u001b[0m \u001b[0mself\u001b[0m\u001b[1;33m.\u001b[0m\u001b[0mname\u001b[0m\u001b[1;33m,\u001b[0m\u001b[1;34m\"from\"\u001b[0m\u001b[1;33m,\u001b[0m \u001b[0mself\u001b[0m\u001b[1;33m.\u001b[0m\u001b[0maddress\u001b[0m\u001b[1;33m,\u001b[0m \u001b[1;34m\"to \"\u001b[0m\u001b[1;33m,\u001b[0m \u001b[0mself\u001b[0m\u001b[1;33m.\u001b[0m\u001b[0mcountry\u001b[0m\u001b[1;33m)\u001b[0m\u001b[1;33m\u001b[0m\u001b[1;33m\u001b[0m\u001b[0m\n\u001b[0m\u001b[0;32m     17\u001b[0m \u001b[1;33m\u001b[0m\u001b[0m\n\u001b[0;32m     18\u001b[0m \u001b[0mx\u001b[0m \u001b[1;33m=\u001b[0m \u001b[0mStudent\u001b[0m\u001b[1;33m(\u001b[0m\u001b[1;34m\"John\"\u001b[0m\u001b[1;33m,\u001b[0m \u001b[1;34m\"USA\"\u001b[0m\u001b[1;33m,\u001b[0m \u001b[1;34m\"JAPAN\"\u001b[0m\u001b[1;33m)\u001b[0m\u001b[1;33m\u001b[0m\u001b[1;33m\u001b[0m\u001b[0m\n",
      "\u001b[1;31mAttributeError\u001b[0m: 'Student' object has no attribute 'country'"
     ]
    }
   ],
   "source": [
    "class Profile:\n",
    "    def __init__(self, name, address):\n",
    "        self.name = name\n",
    "        self.address = address\n",
    "\n",
    "    def info(self):\n",
    "        print(self.name, self.address)\n",
    "        print(self.country)      # cannot do this because self.__country is private\n",
    "\n",
    "class Student(Profile):\n",
    "    def __init__(self, name, address, country):\n",
    "        Profile.__init__(self, name, address)\n",
    "        self.__country = country\n",
    "\n",
    "    def hello(self):\n",
    "        print(\"Hello, welcome\", self.name,\"from\", self.address, \"to \", self.country)\n",
    "\n",
    "x = Student(\"John\", \"USA\", \"JAPAN\")\n",
    "x.hello()\n",
    "x.info()"
   ]
  },
  {
   "cell_type": "code",
   "execution_count": 17,
   "metadata": {},
   "outputs": [
    {
     "name": "stdout",
     "output_type": "stream",
     "text": [
      "Hello, welcome John from USA to  JAPAN\n",
      "John USA\n",
      "JAPAN\n"
     ]
    }
   ],
   "source": [
    "class Profile:\n",
    "    def __init__(self, name, address):\n",
    "        self._name = name\n",
    "        self.address = address\n",
    "\n",
    "    def info(self):\n",
    "        print(self._name, self.address)\n",
    "        print(self._Student__country)\n",
    "\n",
    "class Student(Profile):\n",
    "    def __init__(self, name, address, country):\n",
    "        Profile.__init__(self, name, address)\n",
    "        self.__country = country\n",
    "\n",
    "    def hello(self):\n",
    "        print(\"Hello, welcome\", self._name,\"from\", self.address, \"to \", self.__country)\n",
    "\n",
    "x = Student(\"John\", \"USA\", \"JAPAN\")\n",
    "x.hello()\n",
    "x.info()"
   ]
  },
  {
   "cell_type": "code",
   "execution_count": 3,
   "metadata": {},
   "outputs": [
    {
     "name": "stdout",
     "output_type": "stream",
     "text": [
      "harry\n",
      "harry 25\n",
      "2\n",
      "harry\n"
     ]
    }
   ],
   "source": [
    "class Person:\n",
    "    def __init__(self,name,age):\n",
    "        self.name=name\n",
    "        self.age=age\n",
    "    def hello(self):\n",
    "        print(self.name,self.age)\n",
    "class Student:\n",
    "    def __init__(self,id):\n",
    "        self.id=id\n",
    "    def hey(self):\n",
    "        print(self.id)\n",
    "class Resident(Person,Student):\n",
    "    def __init__(self,name,age,id):\n",
    "        Person.__init__(self,name,age)\n",
    "        Student.__init__(self,id)\n",
    "    def what(self):\n",
    "        print(self.name)\n",
    "obj=Resident('harry',25,2)\n",
    "print(obj.name)\n",
    "obj.hello()\n",
    "obj.hey()\n",
    "obj.what()"
   ]
  }
 ],
 "metadata": {
  "kernelspec": {
   "display_name": "Python 3",
   "language": "python",
   "name": "python3"
  },
  "language_info": {
   "codemirror_mode": {
    "name": "ipython",
    "version": 3
   },
   "file_extension": ".py",
   "mimetype": "text/x-python",
   "name": "python",
   "nbconvert_exporter": "python",
   "pygments_lexer": "ipython3",
   "version": "3.8.5"
  }
 },
 "nbformat": 4,
 "nbformat_minor": 4
}
