{
 "cells": [
  {
   "cell_type": "code",
   "execution_count": 1,
   "metadata": {},
   "outputs": [
    {
     "name": "stdout",
     "output_type": "stream",
     "text": [
      "50\n",
      "100\n"
     ]
    }
   ],
   "source": [
    "def area(l,b):\n",
    "    a=l*b\n",
    "    return a\n",
    "\n",
    "def volume(l,b,h):\n",
    "    v=area(l,b)*h\n",
    "    return v\n",
    "\n",
    "l=10\n",
    "b=5\n",
    "h=2\n",
    "print(area(l,b))\n",
    "print(volume(l,b,h))\n"
   ]
  },
  {
   "cell_type": "code",
   "execution_count": 2,
   "metadata": {},
   "outputs": [
    {
     "name": "stdout",
     "output_type": "stream",
     "text": [
      "Hello World\n",
      "Enter y for more printy\n",
      "Hello World\n",
      "Enter y for more printy\n",
      "Hello World\n",
      "Enter y for more printfgsgd\n"
     ]
    }
   ],
   "source": [
    "#recursive function\n",
    "def hello():\n",
    "    print('Hello World')\n",
    "    x=input('Enter y for more print')\n",
    "    if x=='y':\n",
    "        hello()\n",
    "hello()"
   ]
  },
  {
   "cell_type": "code",
   "execution_count": 7,
   "metadata": {},
   "outputs": [
    {
     "name": "stdout",
     "output_type": "stream",
     "text": [
      "Enter p = 5\n",
      "Enter t = 4\n",
      "Enter r = 5\n",
      "1.0\n",
      "Enter y for more printy\n",
      "Enter p = 4\n",
      "Enter t = 8\n",
      "Enter r = 5\n",
      "1.6\n",
      "Enter y for more printfdgdgfs\n"
     ]
    }
   ],
   "source": [
    "#recursive function\n",
    "def hello():\n",
    "    p=float(input('Enter p = '))\n",
    "    t=float(input('Enter t = ')) \n",
    "    r=float(input('Enter r = '))\n",
    "    i=p*t*r/100\n",
    "    print(i)\n",
    "    x=input('Enter y for more print')\n",
    "    if x=='y':\n",
    "        hello()\n",
    "hello()"
   ]
  },
  {
   "cell_type": "code",
   "execution_count": 8,
   "metadata": {},
   "outputs": [
    {
     "name": "stdout",
     "output_type": "stream",
     "text": [
      "3.141592653589793\n"
     ]
    }
   ],
   "source": [
    "#math function\n",
    "import math as m\n",
    "print(m.pi)"
   ]
  },
  {
   "cell_type": "code",
   "execution_count": 11,
   "metadata": {},
   "outputs": [
    {
     "name": "stdout",
     "output_type": "stream",
     "text": [
      "Enter the radius = 5\n",
      "The area of the circle is  78.53981633974483\n"
     ]
    }
   ],
   "source": [
    "import math as m\n",
    "r=int(input(\"Enter the radius = \"))\n",
    "a=m.pi*m.pow(r,2)\n",
    "print('The area of the circle is ',a)"
   ]
  },
  {
   "cell_type": "code",
   "execution_count": 12,
   "metadata": {},
   "outputs": [
    {
     "name": "stdout",
     "output_type": "stream",
     "text": [
      "1.0\n"
     ]
    }
   ],
   "source": [
    "import math as m\n",
    "a=m.pi/2  #m.pi/2=90\n",
    "print(m.sin(a))"
   ]
  },
  {
   "cell_type": "code",
   "execution_count": 13,
   "metadata": {},
   "outputs": [
    {
     "name": "stdout",
     "output_type": "stream",
     "text": [
      "1.0\n"
     ]
    }
   ],
   "source": [
    "import math as m\n",
    "a=m.sin(m.pi/2)\n",
    "b=m.cos(m.pi/2)\n",
    "c=m.pow(a,2)+m.pow(b,2)\n",
    "print(c)\n"
   ]
  },
  {
   "cell_type": "code",
   "execution_count": null,
   "metadata": {},
   "outputs": [],
   "source": []
  }
 ],
 "metadata": {
  "kernelspec": {
   "display_name": "Python 3",
   "language": "python",
   "name": "python3"
  },
  "language_info": {
   "codemirror_mode": {
    "name": "ipython",
    "version": 3
   },
   "file_extension": ".py",
   "mimetype": "text/x-python",
   "name": "python",
   "nbconvert_exporter": "python",
   "pygments_lexer": "ipython3",
   "version": "3.8.5"
  }
 },
 "nbformat": 4,
 "nbformat_minor": 4
}
