{
 "cells": [
  {
   "cell_type": "code",
   "execution_count": 2,
   "metadata": {},
   "outputs": [
    {
     "name": "stdout",
     "output_type": "stream",
     "text": [
      "()\n",
      "()\n"
     ]
    }
   ],
   "source": [
    "a=()\n",
    "b=tuple()\n",
    "print(a)\n",
    "print(b)"
   ]
  },
  {
   "cell_type": "code",
   "execution_count": 7,
   "metadata": {},
   "outputs": [
    {
     "name": "stdout",
     "output_type": "stream",
     "text": [
      "[['1', '2', '3'], ['4', '5', '6'], ['7', '8', '9']]\n",
      "[('1', '2', '3'), ('4', '5', '6'), ('7', '8', '9')]\n",
      "[('1', '2', '3'), ('4', '5', '6'), ('7', '8', '9')]\n"
     ]
    }
   ],
   "source": [
    "a=('1', '2', '3'), ('4', '5', '6'), ('7', '8', '9')\n",
    "c=list(a)\n",
    "ls=[]\n",
    "lt=[]\n",
    "b=list(a)\n",
    "for i in b:\n",
    "    ls.append(list(i))\n",
    "    lt.append(i)\n",
    "print(ls)\n",
    "print(lt)\n",
    "print(c)"
   ]
  },
  {
   "cell_type": "code",
   "execution_count": null,
   "metadata": {},
   "outputs": [],
   "source": [
    "a=[['1', '2', '3'], ['4', '5', '6'], ['7', '8', '9']]\n"
   ]
  },
  {
   "cell_type": "code",
   "execution_count": 3,
   "metadata": {},
   "outputs": [],
   "source": [
    "#immutable\n",
    "#duplicate members\n",
    "# ordered\n",
    "# indexed\n"
   ]
  },
  {
   "cell_type": "code",
   "execution_count": 4,
   "metadata": {},
   "outputs": [
    {
     "name": "stdout",
     "output_type": "stream",
     "text": [
      "1\n"
     ]
    }
   ],
   "source": [
    "a=(1,2,3,4)\n",
    "print(a[0])"
   ]
  },
  {
   "cell_type": "code",
   "execution_count": 6,
   "metadata": {},
   "outputs": [
    {
     "name": "stdout",
     "output_type": "stream",
     "text": [
      "(1, 2, 3)\n",
      "<class 'tuple'>\n"
     ]
    }
   ],
   "source": [
    "a=(1,2,3)\n",
    "print(a)\n",
    "print(type(a))\n"
   ]
  },
  {
   "cell_type": "code",
   "execution_count": 7,
   "metadata": {},
   "outputs": [],
   "source": [
    "a=(1) #this does not create a tuple\n",
    "a=(1,) #this creates a tuple\n"
   ]
  },
  {
   "cell_type": "code",
   "execution_count": 5,
   "metadata": {},
   "outputs": [
    {
     "name": "stdout",
     "output_type": "stream",
     "text": [
      "(1, 2, 3, 4, 5, 6)\n",
      "((1, 2, 3), (4, 5, 6))\n"
     ]
    }
   ],
   "source": [
    "a=(1,2,3)\n",
    "b=(4,5,6)\n",
    "print(a+b)  #ordered\n",
    "print((a,)+(b,))\n",
    "\n"
   ]
  },
  {
   "cell_type": "code",
   "execution_count": 12,
   "metadata": {},
   "outputs": [
    {
     "name": "stdout",
     "output_type": "stream",
     "text": [
      "(4, 5, 6, 4, 5, 6)\n"
     ]
    }
   ],
   "source": [
    "b=(4,5,6)\n",
    "print(b*2)"
   ]
  },
  {
   "cell_type": "code",
   "execution_count": 9,
   "metadata": {},
   "outputs": [
    {
     "name": "stdout",
     "output_type": "stream",
     "text": [
      "(1, 1, 2, 2, 3, 4, 4, 3)\n"
     ]
    }
   ],
   "source": [
    "a=(1,1,2,2,3,4,4,3)\n",
    "print(a) #duplicate"
   ]
  },
  {
   "cell_type": "code",
   "execution_count": 11,
   "metadata": {},
   "outputs": [
    {
     "ename": "TypeError",
     "evalue": "'tuple' object does not support item assignment",
     "output_type": "error",
     "traceback": [
      "\u001b[1;31m---------------------------------------------------------------------------\u001b[0m",
      "\u001b[1;31mTypeError\u001b[0m                                 Traceback (most recent call last)",
      "\u001b[1;32m<ipython-input-11-6d5491db5e59>\u001b[0m in \u001b[0;36m<module>\u001b[1;34m\u001b[0m\n\u001b[0;32m      1\u001b[0m \u001b[1;31m#cannot update or delete # immutable\u001b[0m\u001b[1;33m\u001b[0m\u001b[1;33m\u001b[0m\u001b[1;33m\u001b[0m\u001b[0m\n\u001b[0;32m      2\u001b[0m \u001b[0ma\u001b[0m\u001b[1;33m=\u001b[0m\u001b[1;33m(\u001b[0m\u001b[1;36m1\u001b[0m\u001b[1;33m,\u001b[0m\u001b[1;36m1\u001b[0m\u001b[1;33m,\u001b[0m\u001b[1;36m2\u001b[0m\u001b[1;33m,\u001b[0m\u001b[1;36m2\u001b[0m\u001b[1;33m,\u001b[0m\u001b[1;36m3\u001b[0m\u001b[1;33m,\u001b[0m\u001b[1;36m4\u001b[0m\u001b[1;33m,\u001b[0m\u001b[1;36m4\u001b[0m\u001b[1;33m,\u001b[0m\u001b[1;36m3\u001b[0m\u001b[1;33m)\u001b[0m\u001b[1;33m\u001b[0m\u001b[1;33m\u001b[0m\u001b[0m\n\u001b[1;32m----> 3\u001b[1;33m \u001b[0ma\u001b[0m\u001b[1;33m[\u001b[0m\u001b[1;36m0\u001b[0m\u001b[1;33m]\u001b[0m\u001b[1;33m=\u001b[0m\u001b[1;36m5\u001b[0m  \u001b[1;31m# cannot do this\u001b[0m\u001b[1;33m\u001b[0m\u001b[1;33m\u001b[0m\u001b[0m\n\u001b[0m\u001b[0;32m      4\u001b[0m \u001b[1;32mdel\u001b[0m \u001b[0ma\u001b[0m\u001b[1;33m[\u001b[0m\u001b[1;36m1\u001b[0m\u001b[1;33m]\u001b[0m \u001b[1;31m#cannot do this\u001b[0m\u001b[1;33m\u001b[0m\u001b[1;33m\u001b[0m\u001b[0m\n",
      "\u001b[1;31mTypeError\u001b[0m: 'tuple' object does not support item assignment"
     ]
    }
   ],
   "source": [
    "#cannot update or delete # immutable\n",
    "a=(1,1,2,2,3,4,4,3)\n",
    "a[0]=5  # cannot do this \n",
    "del a[1] #cannot do this"
   ]
  },
  {
   "cell_type": "code",
   "execution_count": 16,
   "metadata": {},
   "outputs": [
    {
     "name": "stdout",
     "output_type": "stream",
     "text": [
      "('Aplle', 'Cat', 'Fish', 2)\n",
      "('Aplle', 'Ball', 'Cat', 'Dog', 'Fish', 1, 2, 3, 4)\n"
     ]
    }
   ],
   "source": [
    "b = (\"Aplle\",\"Ball\",\"Cat\",\"Dog\",\"Fish\",1,2,3,4)\n",
    "print(b[0:8:2])\n",
    "print(b)"
   ]
  },
  {
   "cell_type": "code",
   "execution_count": 19,
   "metadata": {},
   "outputs": [
    {
     "name": "stdout",
     "output_type": "stream",
     "text": [
      "Enter n = 3\n",
      "Enter x = 4\n",
      "Enter x = 5\n",
      "Enter x = 6\n",
      "(4, 5, 6)\n",
      "The maximum value =  6\n",
      "The minimum value =  4\n",
      "The sum =  15\n",
      "The average is  =  5\n"
     ]
    }
   ],
   "source": [
    "s = ()\n",
    "n = int(input(\"Enter n = \"))\n",
    "for i in range(n):\n",
    "    x = int(input(\"Enter x = \"))\n",
    "    s = s+(x,)  #this is tuple concatenation\n",
    "print(s)\n",
    "print('The maximum value = ',max(s))\n",
    "print('The minimum value = ',min(s))\n",
    "print('The sum = ',sum(s))\n",
    "print('The average is  = ',sum(s)//len(s))"
   ]
  },
  {
   "cell_type": "code",
   "execution_count": 20,
   "metadata": {},
   "outputs": [
    {
     "name": "stdout",
     "output_type": "stream",
     "text": [
      "Apple\n",
      "Ball\n",
      "Cat\n",
      "Dog\n"
     ]
    }
   ],
   "source": [
    "a=('Apple','Ball','Cat','Dog')\n",
    "for i in a:\n",
    "    print(i)"
   ]
  },
  {
   "cell_type": "code",
   "execution_count": 24,
   "metadata": {},
   "outputs": [
    {
     "name": "stdout",
     "output_type": "stream",
     "text": [
      "Apple\n",
      "Ball\n",
      "Cat\n",
      "Dog\n"
     ]
    }
   ],
   "source": [
    "a=('Apple','Ball','Cat','Dog')\n",
    "for i in range(len(a)):\n",
    "    print(a[i])\n"
   ]
  },
  {
   "cell_type": "code",
   "execution_count": 25,
   "metadata": {},
   "outputs": [
    {
     "name": "stdout",
     "output_type": "stream",
     "text": [
      "Yes 2\n"
     ]
    }
   ],
   "source": [
    "s = ('Apple', 'Ball', 'Cat', 'Dog', 'Fish',\"Apple\")\n",
    "if \"Apple\" in s:\n",
    "    print(\"Yes\",s.count(\"Apple\"))\n",
    "else:\n",
    "    print(\"No\")"
   ]
  },
  {
   "cell_type": "code",
   "execution_count": 26,
   "metadata": {},
   "outputs": [
    {
     "name": "stdout",
     "output_type": "stream",
     "text": [
      "0\n",
      "5\n",
      "(0, 5)\n"
     ]
    }
   ],
   "source": [
    "index = ()\n",
    "s = ('Apple', 'Ball', 'Cat', 'Dog', 'Fish',\"Apple\")\n",
    "n = len(s)\n",
    "for  i in range(n):\n",
    "    if s[i] == \"Apple\":\n",
    "        print(i)\n",
    "        index = index+(i,)\n",
    "print(index)"
   ]
  },
  {
   "cell_type": "code",
   "execution_count": 28,
   "metadata": {},
   "outputs": [
    {
     "name": "stdout",
     "output_type": "stream",
     "text": [
      "['Apple', 'Apple', 'Ball', 'Cat', 'Dog', 'Fish']\n",
      "('Apple', 'Ball', 'Cat', 'Dog', 'Fish', 'Apple')\n"
     ]
    }
   ],
   "source": [
    "# max min sum index count # we can use sorted() but not sort()\n",
    "s = ('Apple', 'Ball', 'Cat', 'Dog', 'Fish',\"Apple\")\n",
    "print(sorted(s)) #It returns as a list\n",
    "print(s)"
   ]
  },
  {
   "cell_type": "code",
   "execution_count": 29,
   "metadata": {},
   "outputs": [
    {
     "name": "stdout",
     "output_type": "stream",
     "text": [
      "['Apple', 'Ball', 'Cat', 'Dog', 'Fish', 'Apple']\n"
     ]
    }
   ],
   "source": [
    "a= ('Apple', 'Ball', 'Cat', 'Dog', 'Fish', 'Apple')\n",
    "b=list(a)  #change to list\n",
    "print(b)"
   ]
  },
  {
   "cell_type": "code",
   "execution_count": 30,
   "metadata": {},
   "outputs": [
    {
     "name": "stdout",
     "output_type": "stream",
     "text": [
      "('Apple', 'Ball', 'Cat', 'Dog', 'Fish', 'Apple')\n"
     ]
    }
   ],
   "source": [
    "a=['Apple', 'Ball', 'Cat', 'Dog', 'Fish', 'Apple']\n",
    "b=tuple(a) #change list to tuple\n",
    "print(b)"
   ]
  },
  {
   "cell_type": "code",
   "execution_count": 31,
   "metadata": {},
   "outputs": [
    {
     "name": "stdout",
     "output_type": "stream",
     "text": [
      "((), (), (), ())\n",
      "4\n",
      "<class 'tuple'>\n",
      "()\n"
     ]
    }
   ],
   "source": [
    "#tuple inside tuple\n",
    "a=((),(),(),())\n",
    "print(a)\n",
    "print(len(a))\n",
    "print(type(a))\n",
    "print(a[1])"
   ]
  },
  {
   "cell_type": "code",
   "execution_count": 33,
   "metadata": {},
   "outputs": [
    {
     "name": "stdout",
     "output_type": "stream",
     "text": [
      "(1, 2, 3)\n",
      "[(1, 2, 3), (4, 5, 6), (7, 8, 9)]\n",
      "[[1, 2, 3], (4, 5, 6), (7, 8, 9)]\n"
     ]
    }
   ],
   "source": [
    "a=((1,2,3),(4,5,6),(7,8,9))\n",
    "b=list(a)  #tuple inside list\n",
    "print(a[0])\n",
    "print(b)\n",
    "b[0]=[1,2,3] # we can do this but we cannot do b[0][0]=some value\n",
    "print(b)"
   ]
  },
  {
   "cell_type": "code",
   "execution_count": 36,
   "metadata": {},
   "outputs": [
    {
     "name": "stdout",
     "output_type": "stream",
     "text": [
      "[[1, 2, 3], [4, 5, 6], [7, 8, 9]]\n",
      "([1, 2, 3], [4, 5, 6], [7, 8, 9])\n"
     ]
    }
   ],
   "source": [
    "a=((1,2,3),(4,5,6),(7,8,9))  #change tuple inside tuple to list inside list\n",
    "b=list(a)\n",
    "data=[]\n",
    "for i in b:\n",
    "    data.append(list(i))\n",
    "print(data)\n",
    "c=tuple(data) #list inside tuple\n",
    "print(c)"
   ]
  },
  {
   "cell_type": "code",
   "execution_count": 4,
   "metadata": {},
   "outputs": [
    {
     "name": "stdout",
     "output_type": "stream",
     "text": [
      "((1, 2, 3), (4, 5, 6), (7, 8, 9))\n"
     ]
    }
   ],
   "source": [
    "a=[[1, 2, 3], [4, 5, 6], [7, 8, 9]]\n",
    "tup_data=()\n",
    "for i in a:\n",
    "    tup_data = tup_data + (tuple(i),)\n",
    "print(tup_data)"
   ]
  },
  {
   "cell_type": "code",
   "execution_count": 1,
   "metadata": {},
   "outputs": [
    {
     "name": "stdout",
     "output_type": "stream",
     "text": [
      "((1, 2, 3), (4, 5, 6), (7, 8, 9))\n"
     ]
    }
   ],
   "source": [
    "a=[[1, 2, 3], [4, 5, 6], [7, 8, 9]]\n",
    "tup_data=()\n",
    "for i in a:\n",
    "    tup_data = tup_data + (tuple(i),)\n",
    "print(tup_data)"
   ]
  },
  {
   "cell_type": "code",
   "execution_count": 42,
   "metadata": {},
   "outputs": [
    {
     "data": {
      "text/plain": [
       "((1, 2, 3), (4, 5, 6), (7, 8, 9))"
      ]
     },
     "execution_count": 42,
     "metadata": {},
     "output_type": "execute_result"
    }
   ],
   "source": [
    "data=[[1, 2, 3], [4, 5, 6], [7, 8, 9]]\n",
    "tuple_data = ()\n",
    "for i in data:\n",
    "    tuple_data = tuple_data + (tuple(i),)\n",
    "tuple_data"
   ]
  },
  {
   "cell_type": "code",
   "execution_count": 3,
   "metadata": {},
   "outputs": [
    {
     "data": {
      "text/plain": [
       "((1, 2, 3), (4, 5, 6))"
      ]
     },
     "execution_count": 3,
     "metadata": {},
     "output_type": "execute_result"
    }
   ],
   "source": [
    "s = ()\n",
    "info=(1,2,3)\n",
    "sinfo=(4,5,6)\n",
    "s = (info,)+(sinfo,)\n",
    "s"
   ]
  }
 ],
 "metadata": {
  "kernelspec": {
   "display_name": "Python 3",
   "language": "python",
   "name": "python3"
  },
  "language_info": {
   "codemirror_mode": {
    "name": "ipython",
    "version": 3
   },
   "file_extension": ".py",
   "mimetype": "text/x-python",
   "name": "python",
   "nbconvert_exporter": "python",
   "pygments_lexer": "ipython3",
   "version": "3.8.5"
  }
 },
 "nbformat": 4,
 "nbformat_minor": 4
}
