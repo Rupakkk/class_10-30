{
 "cells": [
  {
   "cell_type": "code",
   "execution_count": 6,
   "metadata": {},
   "outputs": [
    {
     "name": "stdout",
     "output_type": "stream",
     "text": [
      "Hello I am Ram.I am 67 years old.\n",
      "Shyam 34\n"
     ]
    }
   ],
   "source": [
    "class Profile:\n",
    "    def __init__(self,name,age):\n",
    "        self.name = name\n",
    "        self.age = age\n",
    "        \n",
    "class Hr(Profile):\n",
    "    def hello(self):\n",
    "        print(f\"Hello I am {self.name}.I am {self.age} years old.\")\n",
    "        \n",
    "obj = Hr(\"Ram\",67)\n",
    "obj.hello()\n",
    "\n",
    "obj1 = Profile(\"Shyam\",34)\n",
    "print(obj1.name,obj1.age)\n"
   ]
  },
  {
   "cell_type": "code",
   "execution_count": 4,
   "metadata": {},
   "outputs": [
    {
     "name": "stdout",
     "output_type": "stream",
     "text": [
      "This is class A\n",
      "This is class B\n",
      "This is class C\n"
     ]
    }
   ],
   "source": [
    "class A:\n",
    "    print(\"This is class A\")\n",
    "class B(A):\n",
    "    print(\"This is class B\")\n",
    "class C(B):\n",
    "    print(\"This is class C\")\n",
    "\n",
    "obj = C()\n"
   ]
  },
  {
   "cell_type": "code",
   "execution_count": 8,
   "metadata": {},
   "outputs": [],
   "source": [
    "class A:\n",
    "    def a(self):\n",
    "        print(\"This is class A\")\n",
    "class B(A):\n",
    "    def b(self):\n",
    "        print(\"This is class B\")\n",
    "class C(B):\n",
    "    def c(self):\n",
    "        print(\"This is class C\")\n",
    "\n",
    "obj = C()\n"
   ]
  },
  {
   "cell_type": "code",
   "execution_count": 7,
   "metadata": {},
   "outputs": [
    {
     "name": "stdout",
     "output_type": "stream",
     "text": [
      "Hello I am Ram.I am 67 years old.\n",
      "Ram 67\n",
      "Shyam 34\n"
     ]
    }
   ],
   "source": [
    "class Profile:\n",
    "    def __init__(self,name,age):\n",
    "        self.name = name\n",
    "        self.age = age\n",
    "        \n",
    "class Office(Profile):\n",
    "    def office(self):\n",
    "        print(self.name,self.age)\n",
    "        \n",
    "class Hr(Office):\n",
    "    def hello(self):\n",
    "        print(f\"Hello I am {self.name}.I am {self.age} years old.\")\n",
    "        \n",
    "obj = Hr(\"Ram\",67)\n",
    "obj.hello()\n",
    "obj.office()\n",
    "obj1 = Profile(\"Shyam\",34)\n",
    "print(obj1.name,obj1.age)"
   ]
  },
  {
   "cell_type": "code",
   "execution_count": 6,
   "metadata": {},
   "outputs": [
    {
     "name": "stdout",
     "output_type": "stream",
     "text": [
      "Hello I am Ram.I am 67 years old.\n",
      "Ram\n",
      "Ram\n"
     ]
    }
   ],
   "source": [
    "class Profile:\n",
    "    def __init__(self,age):\n",
    "        self.age = age\n",
    "       \n",
    "    def pname(self):\n",
    "        print(self.name)\n",
    "class Office(Profile):\n",
    "    def __init__(self,name,age):\n",
    "        self.name = name\n",
    "        Profile.__init__(self,age)\n",
    "        \n",
    "    def office(self):\n",
    "        print(self.name)\n",
    "        \n",
    "class Hr(Office):\n",
    "    def hello(self):\n",
    "        print(f\"Hello I am {self.name}.I am {self.age} years old.\")\n",
    "        \n",
    "obj = Hr(\"Ram\",67)\n",
    "obj.hello()\n",
    "obj.office()\n",
    "obj.pname()"
   ]
  },
  {
   "cell_type": "code",
   "execution_count": 3,
   "metadata": {},
   "outputs": [
    {
     "name": "stdout",
     "output_type": "stream",
     "text": [
      "Hello, welcome John from USA to  JAPAN\n",
      "John USA\n",
      "JAPAN\n"
     ]
    }
   ],
   "source": [
    "class Profile:\n",
    "    def __init__(self, name, address):\n",
    "        self.name = name\n",
    "        self.address = address\n",
    "\n",
    "    def info(self):\n",
    "        print(self.name, self.address)\n",
    "        print(self.country)\n",
    "\n",
    "class Student(Profile):\n",
    "    def __init__(self, name, address, country):\n",
    "        Profile.__init__(self, name, address)\n",
    "        self.country = country\n",
    "\n",
    "    def hello(self):\n",
    "        print(\"Hello, welcome\", self.name,\"from\", self.address, \"to \", self.country)\n",
    "\n",
    "x = Student(\"John\", \"USA\", \"JAPAN\")\n",
    "x.hello()\n",
    "x.info()"
   ]
  },
  {
   "cell_type": "code",
   "execution_count": 16,
   "metadata": {},
   "outputs": [
    {
     "name": "stdout",
     "output_type": "stream",
     "text": [
      "This is class A\n",
      "This is class B\n"
     ]
    }
   ],
   "source": [
    "class A:\n",
    "    def a(self):\n",
    "        print(\"This is class A\")\n",
    "class B:\n",
    "    def b(self):\n",
    "        print(\"This is class B\")\n",
    "class C(A,B):\n",
    "    def c(self):\n",
    "        print(\"This is class C\")\n",
    "\n",
    "obj = C()\n",
    "obj.a()\n",
    "obj.b()"
   ]
  },
  {
   "cell_type": "code",
   "execution_count": 5,
   "metadata": {},
   "outputs": [
    {
     "name": "stdout",
     "output_type": "stream",
     "text": [
      "Ram\n",
      "2\n",
      "Ram 25 2\n",
      "25\n"
     ]
    }
   ],
   "source": [
    "class Person:\n",
    "    #defining constructor\n",
    "    def __init__(self, personName, personAge):  \n",
    "        self.name = personName  \n",
    "        self.age = personAge  \n",
    "    #defining class methods\n",
    "    def showName(self):  \n",
    "        print(self.name)  \n",
    "    def showAge(self):  \n",
    "        print(self.age)\n",
    "class Student: # Person is the  \n",
    "    def __init__(self, studentId):  \n",
    "        self.studentId = studentId  \n",
    "    def getId(self):  \n",
    "        return self.studentId  \n",
    "class Resident(Person, Student): # extends both Person and Student class  \n",
    "    def __init__(self, name, age, id):  \n",
    "        Person.__init__(self, name, age)  \n",
    "        Student.__init__(self, id)  \n",
    "        # Create an object of the subclass  \n",
    "    def resident(self):\n",
    "        print(self.name,self.age,self.studentId)\n",
    "resident1 = Resident('Ram', 25, '2')  \n",
    "resident1.showName()  \n",
    "print(resident1.getId()) \n",
    "resident1.resident()\n",
    "resident1.showAge()"
   ]
  }
 ],
 "metadata": {
  "kernelspec": {
   "display_name": "Python 3",
   "language": "python",
   "name": "python3"
  },
  "language_info": {
   "codemirror_mode": {
    "name": "ipython",
    "version": 3
   },
   "file_extension": ".py",
   "mimetype": "text/x-python",
   "name": "python",
   "nbconvert_exporter": "python",
   "pygments_lexer": "ipython3",
   "version": "3.8.5"
  }
 },
 "nbformat": 4,
 "nbformat_minor": 2
}
