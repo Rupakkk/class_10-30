{
 "cells": [
  {
   "cell_type": "code",
   "execution_count": 21,
   "metadata": {},
   "outputs": [
    {
     "name": "stdout",
     "output_type": "stream",
     "text": [
      "Ram\n",
      "Ram\n",
      "Hello, I am Ram. I am 25 years old.\n",
      "Shyam\n",
      "Shyam 34\n"
     ]
    }
   ],
   "source": [
    "class Profile:\n",
    "    def __init__(self,name,age):\n",
    "        self.name=name\n",
    "        self.age=age\n",
    "        print(self.name)\n",
    "class Hr(Profile):\n",
    "    def hello(self):\n",
    "        super().__init__(self.name,self.age)\n",
    "        print(f'Hello, I am {self.name}. I am {self.age} years old.')\n",
    "        \n",
    "obj=Hr('Ram',25)\n",
    "obj.hello()\n",
    "\n",
    "obj1=Profile('Shyam',34)\n",
    "print(obj1.name,obj1.age)"
   ]
  },
  {
   "cell_type": "code",
   "execution_count": 1,
   "metadata": {},
   "outputs": [
    {
     "name": "stdout",
     "output_type": "stream",
     "text": [
      "ram Shyam\n"
     ]
    }
   ],
   "source": [
    "class Profile:\n",
    "    def hey(self,name,age):\n",
    "         print(name,age)\n",
    "class Hr(Profile):\n",
    "    def hello(self):\n",
    "        print(f'Hello, I am {self.name}. I am {self.age} years old.')\n",
    "        \n",
    "obj=Hr()\n",
    "obj.hey('ram','Shyam')\n",
    "\n",
    "# obj1=Profile('Shyam',34)\n",
    "# print(obj1.name,obj1.age)"
   ]
  },
  {
   "cell_type": "code",
   "execution_count": 4,
   "metadata": {},
   "outputs": [
    {
     "name": "stdout",
     "output_type": "stream",
     "text": [
      "This is class A\n",
      "This is class B\n",
      "This is class C\n"
     ]
    }
   ],
   "source": [
    "class A:\n",
    "    print('This is class A')\n",
    "class B(A):\n",
    "    print('This is class B')\n",
    "class C(B):\n",
    "    print('This is class C')   \n",
    "    \n",
    "obj=C()    "
   ]
  },
  {
   "cell_type": "code",
   "execution_count": 10,
   "metadata": {},
   "outputs": [
    {
     "name": "stdout",
     "output_type": "stream",
     "text": [
      "Hello, I am Ram. I am 25 years old.I live in ktm\n",
      "Ram 25\n"
     ]
    }
   ],
   "source": [
    "class Profile:                               # Multi level inheritence\n",
    "    def __init__(self,name,age):\n",
    "        self.name=name\n",
    "        self.age=age\n",
    "        \n",
    "class Office(Profile):\n",
    "    def __init__(self,add,name,age):\n",
    "        self.add=add\n",
    "        Profile.__init__(self,name,age)\n",
    "    def office(self):\n",
    "        print(self.name,self.age)\n",
    "    \n",
    "class Hr(Office):\n",
    "    def hello(self):\n",
    "        print(f'Hello, I am {self.name}. I am {self.age} years old.I live in {self.add}')\n",
    "        \n",
    "obj=Hr('ktm','Ram',25)\n",
    "obj.hello()\n",
    "obj.office()   \n",
    "\n",
    "# obj1=Profile('Shyam',34)\n",
    "# print(obj1.name,obj1.age)"
   ]
  },
  {
   "cell_type": "code",
   "execution_count": 10,
   "metadata": {},
   "outputs": [
    {
     "name": "stdout",
     "output_type": "stream",
     "text": [
      "This is class A\n",
      "This is class B\n",
      "This is class C\n"
     ]
    }
   ],
   "source": [
    "class A:\n",
    "    def a(self):\n",
    "        return('This is class A')\n",
    "class B(A):\n",
    "    def b(self):\n",
    "        print('This is class B')\n",
    "class C(B):\n",
    "    def c(self):\n",
    "        print('This is class C')   \n",
    "    \n",
    "obj=C()\n",
    "print(obj.a())\n",
    "obj.b()\n",
    "obj.c()"
   ]
  },
  {
   "cell_type": "code",
   "execution_count": 5,
   "metadata": {},
   "outputs": [
    {
     "name": "stdout",
     "output_type": "stream",
     "text": [
      "Hello, I am Ram. I am 25 years old.\n",
      "Ram\n"
     ]
    }
   ],
   "source": [
    "class Profile:                              \n",
    "    def __init__(self,age):\n",
    "        self.age=age\n",
    "        \n",
    "class Office(Profile):\n",
    "     def __init__(self,name,age):\n",
    "        self.name=name\n",
    "        Profile.__init__(self,age)\n",
    "     \n",
    "     def office(self):\n",
    "        print(self.name)\n",
    "        \n",
    "class Hr(Office):\n",
    "    def hello(self):\n",
    "        print(f'Hello, I am {self.name}. I am {self.age} years old.')\n",
    "        \n",
    "obj=Hr('Ram',25)\n",
    "obj.hello()\n",
    "obj.office()   \n",
    "\n"
   ]
  },
  {
   "cell_type": "code",
   "execution_count": 14,
   "metadata": {},
   "outputs": [
    {
     "name": "stdout",
     "output_type": "stream",
     "text": [
      "This is class A\n",
      "This is class B\n"
     ]
    }
   ],
   "source": [
    "class A:\n",
    "    def a(self):\n",
    "        return('This is class A')\n",
    "class B():\n",
    "    def b(self):\n",
    "        print('This is class B')\n",
    "class C(A,B):\n",
    "    def c(self):\n",
    "        print('This is class C')   \n",
    "    \n",
    "obj=C()\n",
    "print(obj.a())\n",
    "obj.b()"
   ]
  },
  {
   "cell_type": "code",
   "execution_count": 7,
   "metadata": {},
   "outputs": [
    {
     "name": "stdout",
     "output_type": "stream",
     "text": [
      "harry\n",
      "harry 25\n",
      "2\n"
     ]
    }
   ],
   "source": [
    "class Person:\n",
    "    def __init__(self,name,age):\n",
    "        self.name=name\n",
    "        self.age=age\n",
    "    def hello(self):\n",
    "        print(self.name,self.age)\n",
    "class Student:\n",
    "    def __init__(self,id):\n",
    "        self.id=id\n",
    "    def hey(self):\n",
    "        print(self.id)\n",
    "class Resident(Person,Student):\n",
    "    def __init__(self,name,age,id):\n",
    "        Person.__init__(self,name,age)\n",
    "        Student.__init__(self,id)\n",
    "obj=Resident('harry',25,2)\n",
    "print(obj.name)\n",
    "obj.hello()\n",
    "obj.hey()"
   ]
  },
  {
   "cell_type": "code",
   "execution_count": 1,
   "metadata": {},
   "outputs": [
    {
     "name": "stdout",
     "output_type": "stream",
     "text": [
      "Ram\n",
      "56\n",
      "Kathmandu\n"
     ]
    }
   ],
   "source": [
    "class Info:\n",
    "    def __init__(self,name,age,add):\n",
    "        self.name=name\n",
    "        self.age=age\n",
    "        self.add=add\n",
    "obj=Info('Ram',56,'Kathmandu')\n",
    "print(obj.name)\n",
    "print(obj.age)\n",
    "print(obj.add)\n",
    "    "
   ]
  },
  {
   "cell_type": "code",
   "execution_count": 23,
   "metadata": {},
   "outputs": [
    {
     "name": "stdout",
     "output_type": "stream",
     "text": [
      "Harry\n",
      "25\n",
      "Ktm\n"
     ]
    }
   ],
   "source": [
    "class Info:\n",
    "    name='Harry'\n",
    "    age=25\n",
    "    add='Ktm'\n",
    "obj=Info()\n",
    "print(obj.name)\n",
    "print(obj.age)\n",
    "print(obj.add)"
   ]
  },
  {
   "cell_type": "code",
   "execution_count": 3,
   "metadata": {},
   "outputs": [
    {
     "name": "stdout",
     "output_type": "stream",
     "text": [
      "Ram\n",
      "56\n",
      "Kathmandu\n"
     ]
    }
   ],
   "source": [
    "# Protected members\n",
    "class Info:\n",
    "    def __init__(self,name,age,add):\n",
    "        self._name=name\n",
    "        self._age=age\n",
    "        self._add=add\n",
    "obj=Info('Ram',56,'Kathmandu')\n",
    "print(obj._name)\n",
    "print(obj._age)\n",
    "print(obj._add)\n",
    "    "
   ]
  },
  {
   "cell_type": "code",
   "execution_count": 31,
   "metadata": {},
   "outputs": [
    {
     "name": "stdout",
     "output_type": "stream",
     "text": [
      "heyRam\n"
     ]
    }
   ],
   "source": [
    "# Private members\n",
    "class Info:\n",
    "    def __init__(self,name,age,add):\n",
    "        self.__name=name\n",
    "        self.__age=age\n",
    "        self.__add=add\n",
    "    def hey(self):\n",
    "        print(f'hey{self.__name}')\n",
    "obj=Info('Ram',56,'Kathmandu')\n",
    "# print(obj.__name)\n",
    "# print(obj.__age)                             #cannot access private members this way\n",
    "# print(obj.__add)\n",
    "obj.hey()\n",
    "    "
   ]
  },
  {
   "cell_type": "code",
   "execution_count": 5,
   "metadata": {},
   "outputs": [
    {
     "name": "stdout",
     "output_type": "stream",
     "text": [
      "Ram\n",
      "56\n",
      "Kathmandu\n"
     ]
    }
   ],
   "source": [
    "# Private members\n",
    "class Info:\n",
    "    def __init__(self,name,age,add):\n",
    "        self.__name=name\n",
    "        self.__age=age\n",
    "        self.__add=add\n",
    "obj=Info('Ram',56,'Kathmandu')\n",
    "print(obj._Info__name)              # We can access private member this way, it is called name membering\n",
    "print(obj._Info__age)\n",
    "print(obj._Info__add)\n",
    "    "
   ]
  },
  {
   "cell_type": "code",
   "execution_count": 7,
   "metadata": {},
   "outputs": [
    {
     "name": "stdout",
     "output_type": "stream",
     "text": [
      "Hello I am Ram.I am 67 years old.\n",
      "Ram 67\n"
     ]
    }
   ],
   "source": [
    "class Profile:\n",
    "    def __init__(self,name,age):\n",
    "        self._name = name\n",
    "        self.age = age\n",
    "        \n",
    "class Office(Profile):\n",
    "    def office(self):\n",
    "        print(self._name,self.age)\n",
    "        \n",
    "class Hr(Office):\n",
    "    def hello(self):\n",
    "        print(f\"Hello I am {self._name}.I am {self.age} years old.\")\n",
    "        \n",
    "obj = Hr(\"Ram\",67)\n",
    "obj.hello()\n",
    "obj.office()\n",
    "obj1 = Profile(\"Shyam\",34)\n"
   ]
  },
  {
   "cell_type": "code",
   "execution_count": 8,
   "metadata": {},
   "outputs": [
    {
     "name": "stdout",
     "output_type": "stream",
     "text": [
      "Hello I am Ram.I am 67 years old.\n",
      "Ram 67\n"
     ]
    }
   ],
   "source": [
    "class Profile:\n",
    "    def __init__(self,name,age):\n",
    "        self._name = name\n",
    "        self.__age = age\n",
    "        \n",
    "class Office(Profile):\n",
    "    def office(self):\n",
    "        print(self._name,self._Profile__age)\n",
    "        \n",
    "class Hr(Office):\n",
    "    def hello(self):\n",
    "        print(f\"Hello I am {self._name}.I am {self._Profile__age} years old.\")\n",
    "        \n",
    "obj = Hr(\"Ram\",67)\n",
    "obj.hello()\n",
    "obj.office()\n",
    "obj1 = Profile(\"Shyam\",34)\n"
   ]
  },
  {
   "cell_type": "code",
   "execution_count": 26,
   "metadata": {},
   "outputs": [
    {
     "name": "stdout",
     "output_type": "stream",
     "text": [
      "Hello I am Ram.I am 67 years old.\n",
      "Hello I am Ram.I am 67 years old.\n",
      "Ram 67\n"
     ]
    }
   ],
   "source": [
    "class Profile:\n",
    "    def __init__(self,name,age):\n",
    "        self._name = name\n",
    "        self.__age = age\n",
    "        \n",
    "    def ages(self):\n",
    "        return self.__age\n",
    "        \n",
    "class Office(Profile):\n",
    "    def office(self):\n",
    "        print(self._name,self._Profile__age)\n",
    "        \n",
    "class Hr(Office):\n",
    "    def hello(self):\n",
    "        print(f\"Hello I am {self._name}.I am {super().ages()} years old.\")       #super method\n",
    "        print(f\"Hello I am {self._name}.I am {self._Profile__age} years old.\")\n",
    "        \n",
    "obj = Hr(\"Ram\",67)\n",
    "obj.hello()\n",
    "obj.office()\n",
    "obj1 = Profile(\"Shyam\",34)\n"
   ]
  },
  {
   "cell_type": "code",
   "execution_count": 10,
   "metadata": {},
   "outputs": [
    {
     "name": "stdout",
     "output_type": "stream",
     "text": [
      "Hello I am Ram.I am 67 years old.\n",
      "Ram 67\n",
      "67\n"
     ]
    }
   ],
   "source": [
    "class Profile:\n",
    "    def __init__(self,name,age):\n",
    "        self._name = name\n",
    "        self.__age = age\n",
    "        \n",
    "    def ages(self):\n",
    "        return self.__age\n",
    "        \n",
    "class Office(Profile):\n",
    "    def office(self):\n",
    "        print(self._name,self._Profile__age)\n",
    "        print(super().ages())\n",
    "        \n",
    "class Hr(Office):\n",
    "    def hello(self):\n",
    "        print(f\"Hello I am {self._name}.I am {super().ages()} years old.\")\n",
    "        \n",
    "obj = Hr(\"Ram\",67)\n",
    "obj.hello()\n",
    "obj.office()\n",
    "obj1 = Profile(\"Shyam\",34)\n"
   ]
  },
  {
   "cell_type": "code",
   "execution_count": 29,
   "metadata": {},
   "outputs": [
    {
     "name": "stdout",
     "output_type": "stream",
     "text": [
      "Hello, welcome John from USA to  JAPAN\n",
      "John USA\n",
      "JAPAN\n"
     ]
    }
   ],
   "source": [
    "class Profile:\n",
    "    def __init__(self, name, address):\n",
    "        self.name = name\n",
    "        self.address = address\n",
    "\n",
    "    def info(self):\n",
    "        print(self.name, self.address)\n",
    "        print(self._Student__country)      # cannot do this because self.__country is private\n",
    "\n",
    "class Student(Profile):\n",
    "    def __init__(self, name, address, country):\n",
    "        Profile.__init__(self, name, address)\n",
    "        self.__country = country\n",
    "\n",
    "    def hello(self):\n",
    "        print(\"Hello, welcome\", self.name,\"from\", self.address, \"to \", self.__country)\n",
    "\n",
    "x = Student(\"John\", \"USA\", \"JAPAN\")\n",
    "x.hello()\n",
    "x.info()"
   ]
  },
  {
   "cell_type": "code",
   "execution_count": 17,
   "metadata": {},
   "outputs": [
    {
     "name": "stdout",
     "output_type": "stream",
     "text": [
      "Hello, welcome John from USA to  JAPAN\n",
      "John USA\n",
      "JAPAN\n"
     ]
    }
   ],
   "source": [
    "class Profile:\n",
    "    def __init__(self, name, address):\n",
    "        self._name = name\n",
    "        self.address = address\n",
    "\n",
    "    def info(self):\n",
    "        print(self._name, self.address)\n",
    "        print(self._Student__country)\n",
    "\n",
    "class Student(Profile):\n",
    "    def __init__(self, name, address, country):\n",
    "        Profile.__init__(self, name, address)\n",
    "        self.__country = country\n",
    "\n",
    "    def hello(self):\n",
    "        print(\"Hello, welcome\", self._name,\"from\", self.address, \"to \", self.__country)\n",
    "\n",
    "x = Student(\"John\", \"USA\", \"JAPAN\")\n",
    "x.hello()\n",
    "x.info()"
   ]
  },
  {
   "cell_type": "code",
   "execution_count": 33,
   "metadata": {},
   "outputs": [
    {
     "name": "stdout",
     "output_type": "stream",
     "text": [
      "harry\n",
      "harry 25\n",
      "2\n",
      "harry\n"
     ]
    }
   ],
   "source": [
    "class Person:\n",
    "    def __init__(self,name,age):\n",
    "        self.name=name\n",
    "        self.age=age\n",
    "    def hello(self):\n",
    "        print(self.name,self.age)\n",
    "class Student:\n",
    "    def __init__(self,id):\n",
    "        self.id=id\n",
    "    def hey(self):\n",
    "        print(self.id)\n",
    "class Resident(Person,Student):\n",
    "    def __init__(self,name,age,id):\n",
    "        Person.__init__(self,name,age)\n",
    "        Student.__init__(self,id)\n",
    "    def what(self):\n",
    "        print(self.name)\n",
    "obj=Resident('harry',25,2)\n",
    "print(obj.name)\n",
    "obj.hello()\n",
    "obj.hey()\n",
    "obj.what()"
   ]
  }
 ],
 "metadata": {
  "kernelspec": {
   "display_name": "Python 3",
   "language": "python",
   "name": "python3"
  },
  "language_info": {
   "codemirror_mode": {
    "name": "ipython",
    "version": 3
   },
   "file_extension": ".py",
   "mimetype": "text/x-python",
   "name": "python",
   "nbconvert_exporter": "python",
   "pygments_lexer": "ipython3",
   "version": "3.8.5"
  }
 },
 "nbformat": 4,
 "nbformat_minor": 4
}
