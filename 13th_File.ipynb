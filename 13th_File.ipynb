{
 "cells": [
  {
   "cell_type": "code",
   "execution_count": 3,
   "metadata": {},
   "outputs": [
    {
     "name": "stdout",
     "output_type": "stream",
     "text": [
      "The file already exists\n"
     ]
    }
   ],
   "source": [
    "try:\n",
    "    b=open('class1030am.txt','x')\n",
    "    b.close()\n",
    "except:\n",
    "    print('The file already exists')"
   ]
  },
  {
   "cell_type": "code",
   "execution_count": 12,
   "metadata": {},
   "outputs": [
    {
     "name": "stdout",
     "output_type": "stream",
     "text": [
      "<class 'str'>\n",
      "1.Hello World\n",
      "2.Hello World\n",
      "3.Hello World\n",
      "4.Hello World\n",
      "5.Hello World\n",
      "6.Hello World\n",
      "7.Hello World\n"
     ]
    }
   ],
   "source": [
    "b=open('class1030am.txt','r')\n",
    "c=b.read()\n",
    "print(type(c))\n",
    "print(c)\n",
    "b.close()"
   ]
  },
  {
   "cell_type": "code",
   "execution_count": 13,
   "metadata": {},
   "outputs": [
    {
     "name": "stdout",
     "output_type": "stream",
     "text": [
      "1.Hello World\n",
      "2.Hell\n"
     ]
    }
   ],
   "source": [
    "b=open('class1030am.txt','r')\n",
    "c=b.read(20)\n",
    "print(c)\n",
    "b.close()"
   ]
  },
  {
   "cell_type": "code",
   "execution_count": 11,
   "metadata": {},
   "outputs": [
    {
     "name": "stdout",
     "output_type": "stream",
     "text": [
      "1.Hello World\n",
      "\n"
     ]
    }
   ],
   "source": [
    "b=open('class1030am.txt','r')\n",
    "c=b.readline()\n",
    "print(c)\n",
    "b.close()"
   ]
  },
  {
   "cell_type": "code",
   "execution_count": 15,
   "metadata": {},
   "outputs": [
    {
     "name": "stdout",
     "output_type": "stream",
     "text": [
      "<class 'str'>\n",
      "['1.Hello World', '2.Hello World', '3.Hello World', '4.Hello World', '5.Hello World', '6.Hello World', '7.Hello World']\n"
     ]
    }
   ],
   "source": [
    "b=open('class1030am.txt','r')\n",
    "c=b.read()\n",
    "print(type(c))\n",
    "d=c.split('\\n')\n",
    "print(d)\n",
    "b.close()"
   ]
  },
  {
   "cell_type": "code",
   "execution_count": 16,
   "metadata": {},
   "outputs": [
    {
     "name": "stdout",
     "output_type": "stream",
     "text": [
      "1.Hello World\n"
     ]
    }
   ],
   "source": [
    "print(d[0])"
   ]
  },
  {
   "cell_type": "code",
   "execution_count": 19,
   "metadata": {},
   "outputs": [
    {
     "name": "stdout",
     "output_type": "stream",
     "text": [
      "1.Hello World\n",
      "2.Hello World\n",
      "3.Hello World\n",
      "4.Hello World\n",
      "5.Hello World\n",
      "6.Hello World\n",
      "7.Hello World\n",
      "\n"
     ]
    }
   ],
   "source": [
    "b=open('class1030am.txt','r')\n",
    "print(b.read())\n",
    "print(b.read())\n",
    "b.close()"
   ]
  },
  {
   "cell_type": "code",
   "execution_count": 20,
   "metadata": {},
   "outputs": [
    {
     "name": "stdout",
     "output_type": "stream",
     "text": [
      "1.Hello World\n",
      "\n",
      "2.Hello World\n",
      "\n"
     ]
    }
   ],
   "source": [
    "b=open('class1030am.txt','r')\n",
    "print(b.readline())\n",
    "print(b.readline())\n",
    "b.close()"
   ]
  },
  {
   "cell_type": "code",
   "execution_count": 21,
   "metadata": {},
   "outputs": [
    {
     "name": "stdout",
     "output_type": "stream",
     "text": [
      "Enter n = 2\n",
      "\n"
     ]
    }
   ],
   "source": [
    "b=open('class1030am.txt','r')\n",
    "c=b.read()\n",
    "n=int(input('Enter n = '))\n",
    "for i in range(1,8):\n",
    "    if i!=n:\n",
    "        b.readline()\n",
    "    else:\n",
    "        print(b.readline())\n",
    "b.close()"
   ]
  },
  {
   "cell_type": "code",
   "execution_count": 27,
   "metadata": {},
   "outputs": [
    {
     "name": "stdout",
     "output_type": "stream",
     "text": [
      "Enter n = 2\n",
      "Enter name =gsgsfg5\n",
      "Enter phone = 555\n",
      "Enter name =sgsdgs\n",
      "Enter phone = 888\n",
      "gsgsfg5--->555\n",
      "sgsdgs--->888\n",
      "\n",
      "gsgsfg5--->555\n",
      "sgsdgs--->888\n",
      "\n"
     ]
    }
   ],
   "source": [
    "s=''\n",
    "n=int(input('Enter n = '))\n",
    "for i in range(n):\n",
    "    name=input('Enter name =')\n",
    "    phone=int(input('Enter phone = '))\n",
    "    info=f'{name}--->{phone}\\n'\n",
    "    s=s+info\n",
    "print(s)\n",
    "b=open('class1030am.txt','w')\n",
    "b.write(s)\n",
    "b=open('class1030am.txt','r')\n",
    "print(b.read())\n",
    "b.close()"
   ]
  },
  {
   "cell_type": "code",
   "execution_count": 26,
   "metadata": {},
   "outputs": [
    {
     "name": "stdout",
     "output_type": "stream",
     "text": [
      "Enter n = 2\n",
      "Enter name =gsgs\n",
      "Enter phone = 65464\n",
      "Enter name =sggs\n",
      "Enter phone = 897\n",
      "gsgs--->65464\n",
      "sggs--->897\n",
      "\n",
      "gsgs--->65464\n",
      "sggs--->897\n",
      "\n"
     ]
    }
   ],
   "source": [
    "s=''\n",
    "n=int(input('Enter n = '))\n",
    "for i in range(n):\n",
    "    name=input('Enter name =')\n",
    "    phone=int(input('Enter phone = '))\n",
    "    info=f'{name}--->{phone}\\n'\n",
    "    s=s+info\n",
    "print(s)\n",
    "b=open('data.txt','w')\n",
    "b.write(s)\n",
    "b=open('data.txt','r')\n",
    "print(b.read())\n",
    "b.close()"
   ]
  },
  {
   "cell_type": "code",
   "execution_count": 28,
   "metadata": {},
   "outputs": [
    {
     "name": "stdout",
     "output_type": "stream",
     "text": [
      "Enter n = 2\n",
      "Enter name =dfsfs\n",
      "Enter phone = 89898\n",
      "Enter name =fsdfdsf\n",
      "Enter phone = 45444\n",
      "dfsfs,89898\n",
      "fsdfdsf,45444\n",
      "\n",
      "dfsfs,89898\n",
      "fsdfdsf,45444\n",
      "\n"
     ]
    }
   ],
   "source": [
    "s=''\n",
    "n=int(input('Enter n = '))\n",
    "for i in range(n):\n",
    "    name=input('Enter name =')\n",
    "    phone=int(input('Enter phone = '))\n",
    "    info=f'{name},{phone}\\n'\n",
    "    s=s+info\n",
    "print(s)\n",
    "b=open('data.csv','w')\n",
    "b.write(s)\n",
    "b=open('data.csv','r')\n",
    "print(b.read())\n",
    "b.close()"
   ]
  },
  {
   "cell_type": "code",
   "execution_count": 31,
   "metadata": {},
   "outputs": [
    {
     "name": "stdout",
     "output_type": "stream",
     "text": [
      "Enter n = 2\n",
      "Enter name =ram\n",
      "Enter phone = 49\n",
      "Enter name =shyam\n",
      "Enter phone = 54646\n",
      "ram,49\n",
      "shyam,54646\n",
      "\n"
     ]
    }
   ],
   "source": [
    "b=open('data.csv','w')\n",
    "b.write('Name,Phone\\n')\n",
    "s=''\n",
    "n=int(input('Enter n = '))\n",
    "for i in range(n):\n",
    "    name=input('Enter name =')\n",
    "    phone=int(input('Enter phone = '))\n",
    "    info=f'{name},{phone}\\n'\n",
    "    s=s+info\n",
    "print(s)\n",
    "\n",
    "b.write(s)\n",
    "b.close()"
   ]
  },
  {
   "cell_type": "code",
   "execution_count": 2,
   "metadata": {},
   "outputs": [
    {
     "name": "stdout",
     "output_type": "stream",
     "text": [
      "Sn,Name,Age,Address,Phone\n",
      "1,Ram,25,Kathmandu,9854124536\n",
      "2,Shyam,29,Pokhara,9874561265\n",
      "3,Hari,24,Butwal,9842153678\n",
      "4,John,35,Kapan,981245785\n",
      "5,Rita,32,Gulmi,9865214578\n",
      "6,Sita,19,Bara,98652354477\n",
      "7,Hari,78,Kathmandu,9845123657\n",
      "7,Hari,78,Kathmandu,9845123657\n",
      "\n",
      "\n",
      "\n"
     ]
    }
   ],
   "source": [
    "b=open('data.csv','r')\n",
    "print(b.read())\n",
    "b.close()"
   ]
  },
  {
   "cell_type": "code",
   "execution_count": 33,
   "metadata": {},
   "outputs": [
    {
     "name": "stdout",
     "output_type": "stream",
     "text": [
      "Name,Phone\n",
      "ram,49\n",
      "shyam,54646\n",
      "\n"
     ]
    }
   ],
   "source": [
    "b=open('data.csv','r')\n",
    "c=b.read()\n",
    "print(c)\n",
    "b.close()"
   ]
  },
  {
   "cell_type": "code",
   "execution_count": 35,
   "metadata": {},
   "outputs": [
    {
     "name": "stdout",
     "output_type": "stream",
     "text": [
      "['Name,Phone', 'ram,49', 'shyam,54646', '']\n"
     ]
    }
   ],
   "source": [
    "d=c.split('\\n')\n",
    "print(d)"
   ]
  },
  {
   "cell_type": "code",
   "execution_count": 36,
   "metadata": {},
   "outputs": [
    {
     "data": {
      "text/plain": [
       "['Name,Phone', 'ram prasad,98413265', 'shyam,54646', '']"
      ]
     },
     "execution_count": 36,
     "metadata": {},
     "output_type": "execute_result"
    }
   ],
   "source": [
    "d[1]='ram prasad,98413265'\n",
    "d"
   ]
  },
  {
   "cell_type": "code",
   "execution_count": 41,
   "metadata": {},
   "outputs": [],
   "source": [
    "['Name,Phone', 'ram prasad,98413265', 'shyam,54646', '']\n",
    "b=open('data.csv','w')\n",
    "for i in d:\n",
    "    b.write(f'{i}\\n')\n",
    "b.close()"
   ]
  },
  {
   "cell_type": "code",
   "execution_count": 43,
   "metadata": {},
   "outputs": [
    {
     "name": "stdout",
     "output_type": "stream",
     "text": [
      "There is no such file\n"
     ]
    }
   ],
   "source": [
    "import os\n",
    "try:\n",
    "    os.remove('data.txt')             #removes the file\n",
    "except:\n",
    "    print('There is no such file')"
   ]
  },
  {
   "cell_type": "code",
   "execution_count": 44,
   "metadata": {},
   "outputs": [
    {
     "name": "stdout",
     "output_type": "stream",
     "text": [
      "There is no such file\n"
     ]
    }
   ],
   "source": [
    "import os\n",
    "if os.path.exists('data.txt'):\n",
    "    os.remove('data.txt')\n",
    "else:\n",
    "    print('There is no such file')"
   ]
  },
  {
   "cell_type": "code",
   "execution_count": 45,
   "metadata": {},
   "outputs": [
    {
     "data": {
      "text/plain": [
       "'Untitled Folder\\\\data.csv'"
      ]
     },
     "execution_count": 45,
     "metadata": {},
     "output_type": "execute_result"
    }
   ],
   "source": [
    "import shutil as s\n",
    "s.copy('data.csv','Untitled Folder')  #for copy we need to create folder first"
   ]
  },
  {
   "cell_type": "code",
   "execution_count": 46,
   "metadata": {},
   "outputs": [
    {
     "data": {
      "text/plain": [
       "'Untitled Folder 1'"
      ]
     },
     "execution_count": 46,
     "metadata": {},
     "output_type": "execute_result"
    }
   ],
   "source": [
    "import shutil as s\n",
    "s.copytree('Untitled Folder','Untitled Folder 1') "
   ]
  },
  {
   "cell_type": "code",
   "execution_count": 48,
   "metadata": {},
   "outputs": [
    {
     "data": {
      "text/plain": [
       "'../Untitled Folder 1'"
      ]
     },
     "execution_count": 48,
     "metadata": {},
     "output_type": "execute_result"
    }
   ],
   "source": [
    "import shutil as s\n",
    "s.copytree('Untitled Folder','../Untitled Folder 1')   #copytree creates folder itself"
   ]
  }
 ],
 "metadata": {
  "kernelspec": {
   "display_name": "Python 3",
   "language": "python",
   "name": "python3"
  },
  "language_info": {
   "codemirror_mode": {
    "name": "ipython",
    "version": 3
   },
   "file_extension": ".py",
   "mimetype": "text/x-python",
   "name": "python",
   "nbconvert_exporter": "python",
   "pygments_lexer": "ipython3",
   "version": "3.8.5"
  }
 },
 "nbformat": 4,
 "nbformat_minor": 4
}
