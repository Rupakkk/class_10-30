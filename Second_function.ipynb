{
 "cells": [
  {
   "cell_type": "code",
   "execution_count": null,
   "metadata": {},
   "outputs": [],
   "source": [
    "# def<function_name>():\n",
    "#     <operations>\n",
    "#     .......\n",
    "#     .......\n",
    "    \n",
    "# <function_name>()"
   ]
  },
  {
   "cell_type": "code",
   "execution_count": 1,
   "metadata": {},
   "outputs": [
    {
     "name": "stdout",
     "output_type": "stream",
     "text": [
      "Hello world\n"
     ]
    }
   ],
   "source": [
    "def hello():\n",
    "    print(\"Hello world\")\n",
    "    \n",
    "    \n",
    "hello()"
   ]
  },
  {
   "cell_type": "code",
   "execution_count": 2,
   "metadata": {},
   "outputs": [
    {
     "name": "stdout",
     "output_type": "stream",
     "text": [
      "Hello world\n"
     ]
    }
   ],
   "source": [
    "def Print(): #Print is not a keyword\n",
    "    print(\"Hello world\")\n",
    "    \n",
    "    \n",
    "Print()"
   ]
  },
  {
   "cell_type": "code",
   "execution_count": 1,
   "metadata": {},
   "outputs": [
    {
     "ename": "NameError",
     "evalue": "name 'hello' is not defined",
     "output_type": "error",
     "traceback": [
      "\u001b[1;31m---------------------------------------------------------------------------\u001b[0m",
      "\u001b[1;31mNameError\u001b[0m                                 Traceback (most recent call last)",
      "\u001b[1;32m<ipython-input-1-63f4c82ca2cd>\u001b[0m in \u001b[0;36m<module>\u001b[1;34m\u001b[0m\n\u001b[1;32m----> 1\u001b[1;33m \u001b[0mhello\u001b[0m\u001b[1;33m(\u001b[0m\u001b[1;33m)\u001b[0m\u001b[1;33m\u001b[0m\u001b[1;33m\u001b[0m\u001b[0m\n\u001b[0m\u001b[0;32m      2\u001b[0m \u001b[1;32mdef\u001b[0m \u001b[0mhello\u001b[0m\u001b[1;33m(\u001b[0m\u001b[1;33m)\u001b[0m\u001b[1;33m:\u001b[0m\u001b[1;33m\u001b[0m\u001b[1;33m\u001b[0m\u001b[0m\n\u001b[0;32m      3\u001b[0m     \u001b[0mprint\u001b[0m\u001b[1;33m(\u001b[0m\u001b[1;34m\"Hello world\"\u001b[0m\u001b[1;33m)\u001b[0m\u001b[1;33m\u001b[0m\u001b[1;33m\u001b[0m\u001b[0m\n\u001b[0;32m      4\u001b[0m \u001b[1;33m\u001b[0m\u001b[0m\n\u001b[0;32m      5\u001b[0m \u001b[1;33m\u001b[0m\u001b[0m\n",
      "\u001b[1;31mNameError\u001b[0m: name 'hello' is not defined"
     ]
    }
   ],
   "source": [
    "hello()  #function has bottom to top approach\n",
    "def hello():\n",
    "    print(\"Hello world\")\n",
    "    \n",
    "    \n"
   ]
  },
  {
   "cell_type": "code",
   "execution_count": 2,
   "metadata": {},
   "outputs": [
    {
     "name": "stdout",
     "output_type": "stream",
     "text": [
      "Enter l = 5\n",
      "Enter  = 6\n",
      "30\n"
     ]
    }
   ],
   "source": [
    "def area():\n",
    "    l=int(input('Enter l = ')) #l is a local variable\n",
    "    b=int(input('Enter b = '))\n",
    "    a=l*b\n",
    "    print(a)\n",
    "    \n",
    "area()"
   ]
  },
  {
   "cell_type": "code",
   "execution_count": 3,
   "metadata": {},
   "outputs": [
    {
     "name": "stdout",
     "output_type": "stream",
     "text": [
      "Enter l = 6\n",
      "Enter  = 8\n",
      "48\n"
     ]
    }
   ],
   "source": [
    "l=int(input('Enter l = '))  #global variable # function with no arguments and no return type\n",
    "b=int(input('Enter b  = '))\n",
    "def area():\n",
    "    \n",
    "    a=l*b\n",
    "    print(a)\n",
    "    \n",
    "area()"
   ]
  },
  {
   "cell_type": "code",
   "execution_count": 4,
   "metadata": {},
   "outputs": [
    {
     "name": "stdout",
     "output_type": "stream",
     "text": [
      "Enter l = 5\n",
      "Enter  = 6\n"
     ]
    },
    {
     "ename": "NameError",
     "evalue": "name 'a' is not defined",
     "output_type": "error",
     "traceback": [
      "\u001b[1;31m---------------------------------------------------------------------------\u001b[0m",
      "\u001b[1;31mNameError\u001b[0m                                 Traceback (most recent call last)",
      "\u001b[1;32m<ipython-input-4-17d054c3a3fa>\u001b[0m in \u001b[0;36m<module>\u001b[1;34m\u001b[0m\n\u001b[0;32m      7\u001b[0m \u001b[1;33m\u001b[0m\u001b[0m\n\u001b[0;32m      8\u001b[0m \u001b[0marea\u001b[0m\u001b[1;33m(\u001b[0m\u001b[1;33m)\u001b[0m\u001b[1;33m\u001b[0m\u001b[1;33m\u001b[0m\u001b[0m\n\u001b[1;32m----> 9\u001b[1;33m \u001b[0mprint\u001b[0m\u001b[1;33m(\u001b[0m\u001b[0ma\u001b[0m\u001b[1;33m)\u001b[0m\u001b[1;33m\u001b[0m\u001b[1;33m\u001b[0m\u001b[0m\n\u001b[0m",
      "\u001b[1;31mNameError\u001b[0m: name 'a' is not defined"
     ]
    }
   ],
   "source": [
    "l=int(input('Enter l = '))  #global variable\n",
    "b=int(input('Enter b = '))\n",
    "def area():\n",
    "    \n",
    "    a=l*b\n",
    "#     print(a)\n",
    "    \n",
    "area()\n",
    "print(a) #a is a local variable so it cannot be called outside of the function "
   ]
  },
  {
   "cell_type": "code",
   "execution_count": 1,
   "metadata": {},
   "outputs": [
    {
     "name": "stdout",
     "output_type": "stream",
     "text": [
      "Enter l = 9\n",
      "Enter b = 8\n",
      "72\n",
      "72\n"
     ]
    }
   ],
   "source": [
    "l=int(input('Enter l = '))  #global variable # function with no arguments and no return type\n",
    "b=int(input('Enter b = '))\n",
    "def area():\n",
    "    global a  #we can change local variable into global this way\n",
    "    a=l*b\n",
    "#     print(a)\n",
    "    \n",
    "area()\n",
    "print(a)"
   ]
  },
  {
   "cell_type": "code",
   "execution_count": 6,
   "metadata": {},
   "outputs": [
    {
     "name": "stdout",
     "output_type": "stream",
     "text": [
      "Enter l = 8\n",
      "Enter  = 9\n",
      "72\n",
      "72\n"
     ]
    }
   ],
   "source": [
    "l=int(input('Enter l = '))  #global variable # function with no arguments and no return type\n",
    "b=int(input('Enter b = '))\n",
    "def area():\n",
    "    global a  #we can change local variable into global this way\n",
    "    a=l*b\n",
    "    print(a)\n",
    "    \n",
    "area()\n",
    "print(a)"
   ]
  },
  {
   "cell_type": "code",
   "execution_count": null,
   "metadata": {},
   "outputs": [],
   "source": [
    "# function with no arguments and no return type\n",
    "# function with arguments and no return type\n",
    "# function with no arguments return type\n",
    "# function with arguments and return type\n"
   ]
  },
  {
   "cell_type": "code",
   "execution_count": 7,
   "metadata": {},
   "outputs": [
    {
     "name": "stdout",
     "output_type": "stream",
     "text": [
      "Hello World\n"
     ]
    }
   ],
   "source": [
    "def hello(x): #function with argument and no return type\n",
    "    print(x)\n",
    "\n",
    "hello('Hello World')\n"
   ]
  },
  {
   "cell_type": "code",
   "execution_count": 2,
   "metadata": {},
   "outputs": [
    {
     "name": "stdout",
     "output_type": "stream",
     "text": [
      "Enter l = 9\n",
      "Enter b = 7\n",
      "63\n"
     ]
    }
   ],
   "source": [
    "def area(l,b):  #function with argument and no return type\n",
    "    a=l*b\n",
    "    print(a)\n",
    "l=int(input('Enter l = '))\n",
    "b=int(input('Enter b = '))\n",
    "area(l,b)\n"
   ]
  },
  {
   "cell_type": "code",
   "execution_count": 12,
   "metadata": {},
   "outputs": [
    {
     "name": "stdout",
     "output_type": "stream",
     "text": [
      "Enter l = 9\n",
      "Enter b = 5\n",
      "45\n"
     ]
    }
   ],
   "source": [
    "l=int(input('Enter l = '))\n",
    "b=int(input('Enter b = '))\n",
    "def area(l,b):  #function with argument and no return type\n",
    "    a=l*b\n",
    "    print(a)\n",
    "\n",
    "area(l,b)"
   ]
  },
  {
   "cell_type": "code",
   "execution_count": 10,
   "metadata": {},
   "outputs": [
    {
     "name": "stdout",
     "output_type": "stream",
     "text": [
      "C\n",
      "C++\n",
      "Java\n",
      "Python\n"
     ]
    }
   ],
   "source": [
    "def language(lan='Python'): #function with argument and no return type\n",
    "    print(lan)\n",
    "    \n",
    "language('C') # C overides Python as the value of lan\n",
    "language('C++') # C++ overides Python as the value of lan\n",
    "language('Java') # Java overides Python as the value of lan\n",
    "language() #the default value of lan is 'Python'\n"
   ]
  },
  {
   "cell_type": "code",
   "execution_count": 16,
   "metadata": {},
   "outputs": [
    {
     "name": "stdout",
     "output_type": "stream",
     "text": [
      "Hello World\n"
     ]
    }
   ],
   "source": [
    "#function with no argument and return type\n",
    "def hello():\n",
    "    return 'Hello World'\n",
    "print(hello())\n"
   ]
  },
  {
   "cell_type": "code",
   "execution_count": 14,
   "metadata": {},
   "outputs": [
    {
     "name": "stdout",
     "output_type": "stream",
     "text": [
      "Hello World\n"
     ]
    }
   ],
   "source": [
    "#function with no argument and return type\n",
    "def hello():\n",
    "    return 'Hello World'\n",
    "x=hello()\n",
    "print(x)\n"
   ]
  },
  {
   "cell_type": "code",
   "execution_count": 3,
   "metadata": {},
   "outputs": [
    {
     "name": "stdout",
     "output_type": "stream",
     "text": [
      "The area is 2000\n",
      "20000\n"
     ]
    }
   ],
   "source": [
    "def area(): #function with no argument and return type\n",
    "    l=100\n",
    "    b=20\n",
    "    a=l*b\n",
    "    return a\n",
    "ar=area()\n",
    "print('The area is',ar)\n",
    "h=10\n",
    "v=ar*h\n",
    "print(v)"
   ]
  },
  {
   "cell_type": "code",
   "execution_count": null,
   "metadata": {},
   "outputs": [],
   "source": [
    "#function with argument and return type\n",
    "def area(x,y): \n",
    "    a=x*y\n",
    "    return a\n",
    "l=100\n",
    "b=20\n",
    "ar=area(l,b)\n",
    "print('The area is',ar)\n",
    "h=10\n",
    "v=ar*h\n",
    "print(v)"
   ]
  },
  {
   "cell_type": "code",
   "execution_count": 4,
   "metadata": {},
   "outputs": [
    {
     "name": "stdout",
     "output_type": "stream",
     "text": [
      "The area is 2000\n",
      "20000\n"
     ]
    }
   ],
   "source": [
    "def area(x,y):  #function with argument and return type\n",
    "    a=x*y\n",
    "    return a\n",
    "# l=100\n",
    "# b=20\n",
    "ar=area(100,20)\n",
    "print('The area is',ar)\n",
    "h=10\n",
    "v=ar*h\n",
    "print(v)"
   ]
  },
  {
   "cell_type": "code",
   "execution_count": null,
   "metadata": {},
   "outputs": [],
   "source": []
  }
 ],
 "metadata": {
  "kernelspec": {
   "display_name": "Python 3",
   "language": "python",
   "name": "python3"
  },
  "language_info": {
   "codemirror_mode": {
    "name": "ipython",
    "version": 3
   },
   "file_extension": ".py",
   "mimetype": "text/x-python",
   "name": "python",
   "nbconvert_exporter": "python",
   "pygments_lexer": "ipython3",
   "version": "3.8.5"
  }
 },
 "nbformat": 4,
 "nbformat_minor": 4
}
