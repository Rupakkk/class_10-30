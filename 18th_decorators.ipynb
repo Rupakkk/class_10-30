{
 "cells": [
  {
   "cell_type": "code",
   "execution_count": 1,
   "metadata": {},
   "outputs": [
    {
     "name": "stdout",
     "output_type": "stream",
     "text": [
      "Hello World\n"
     ]
    }
   ],
   "source": [
    "def outer_function(fun):\n",
    "    \n",
    "    def inner_function():\n",
    "        x=fun()\n",
    "    return inner_function()\n",
    "\n",
    "@outer_function            #decorators\n",
    "def hello():\n",
    "    print('Hello World')"
   ]
  },
  {
   "cell_type": "code",
   "execution_count": 2,
   "metadata": {},
   "outputs": [
    {
     "name": "stdout",
     "output_type": "stream",
     "text": [
      "Hello World\n"
     ]
    }
   ],
   "source": [
    "def outer_function(fun):\n",
    "    \n",
    "    def inner_function():\n",
    "        fun()\n",
    "    return inner_function()\n",
    "\n",
    "@outer_function            #decorators\n",
    "def hello():\n",
    "    print('Hello World')"
   ]
  },
  {
   "cell_type": "code",
   "execution_count": 5,
   "metadata": {},
   "outputs": [
    {
     "name": "stdout",
     "output_type": "stream",
     "text": [
      "hello world\n"
     ]
    }
   ],
   "source": [
    "def strings(function):\n",
    "    def wrapper():\n",
    "        fun=function()\n",
    "        x=fun.lower()\n",
    "        return x\n",
    "    return wrapper\n",
    "@strings\n",
    "def info():\n",
    "    return 'Hello World'\n",
    "print(info())"
   ]
  },
  {
   "cell_type": "code",
   "execution_count": 6,
   "metadata": {},
   "outputs": [
    {
     "name": "stdout",
     "output_type": "stream",
     "text": [
      "['hello', 'world']\n"
     ]
    }
   ],
   "source": [
    "def strings(function):\n",
    "    def wrapper():\n",
    "        fun=function()\n",
    "        x=fun.lower()\n",
    "        return x\n",
    "    return wrapper\n",
    "def new_string(function):\n",
    "    def wrappe():\n",
    "        fun1=function()\n",
    "        x=fun1.split()\n",
    "        return x\n",
    "    return wrappe\n",
    "@new_string\n",
    "@strings\n",
    "def info():\n",
    "    return 'Hello World'\n",
    "print(info())"
   ]
  },
  {
   "cell_type": "code",
   "execution_count": 15,
   "metadata": {},
   "outputs": [
    {
     "name": "stdout",
     "output_type": "stream",
     "text": [
      "Hello World\n"
     ]
    }
   ],
   "source": [
    "def outer(fun):\n",
    "    def inner():\n",
    "        x=fun()\n",
    "    return inner()\n",
    "@outer\n",
    "def hello():\n",
    "    print('Hello World')"
   ]
  },
  {
   "cell_type": "code",
   "execution_count": 16,
   "metadata": {},
   "outputs": [
    {
     "name": "stdout",
     "output_type": "stream",
     "text": [
      "Hello World\n"
     ]
    }
   ],
   "source": [
    "def outer(fun):\n",
    "    def inner():\n",
    "        x=fun()\n",
    "    return inner()\n",
    "@outer \n",
    "def hello():\n",
    "    print('Hello World')\n"
   ]
  },
  {
   "cell_type": "code",
   "execution_count": 19,
   "metadata": {},
   "outputs": [
    {
     "data": {
      "text/plain": [
       "'Hello'"
      ]
     },
     "execution_count": 19,
     "metadata": {},
     "output_type": "execute_result"
    }
   ],
   "source": [
    "def outer(fun):\n",
    "    def wrapper():\n",
    "        x=fun()\n",
    "        return x\n",
    "    return wrapper\n",
    "@outer\n",
    "def hello():\n",
    "    return 'Hello'\n",
    "hello()"
   ]
  },
  {
   "cell_type": "code",
   "execution_count": 21,
   "metadata": {},
   "outputs": [
    {
     "name": "stdout",
     "output_type": "stream",
     "text": [
      "hello\n"
     ]
    }
   ],
   "source": [
    "def outer(fun):\n",
    "    def wrapper():\n",
    "        x=fun()\n",
    "        return x.lower()\n",
    "    return wrapper\n",
    "\n",
    "\n",
    "@outer\n",
    "def ello():\n",
    "    return 'Hello'\n",
    "print(ello())"
   ]
  },
  {
   "cell_type": "code",
   "execution_count": 24,
   "metadata": {},
   "outputs": [
    {
     "name": "stdout",
     "output_type": "stream",
     "text": [
      "['hello']\n"
     ]
    }
   ],
   "source": [
    "def outer(fun):\n",
    "    def wrapper():\n",
    "        x=fun()\n",
    "        y=x.lower()\n",
    "        return y\n",
    "    return wrapper\n",
    "def inner(function):\n",
    "    def wrapper():\n",
    "        fun=function()\n",
    "        return fun.split()\n",
    "    return wrapper\n",
    "\n",
    "@inner\n",
    "@outer\n",
    "def ello():\n",
    "    return 'Hello'\n",
    "print(ello())"
   ]
  },
  {
   "cell_type": "code",
   "execution_count": 25,
   "metadata": {},
   "outputs": [
    {
     "data": {
      "text/plain": [
       "'HELLO WORLD'"
      ]
     },
     "execution_count": 25,
     "metadata": {},
     "output_type": "execute_result"
    }
   ],
   "source": [
    "def outer(function):\n",
    "    def wrapper():\n",
    "        x=function()\n",
    "        return x\n",
    "    return wrapper\n",
    "def n_outer(function):\n",
    "    def wrapper():\n",
    "        y=function()\n",
    "        return y.upper()\n",
    "    return wrapper\n",
    "@n_outer\n",
    "@outer\n",
    "def hell():\n",
    "    return 'hello world'\n",
    "hell()\n",
    "    "
   ]
  }
 ],
 "metadata": {
  "kernelspec": {
   "display_name": "Python 3",
   "language": "python",
   "name": "python3"
  },
  "language_info": {
   "codemirror_mode": {
    "name": "ipython",
    "version": 3
   },
   "file_extension": ".py",
   "mimetype": "text/x-python",
   "name": "python",
   "nbconvert_exporter": "python",
   "pygments_lexer": "ipython3",
   "version": "3.8.5"
  }
 },
 "nbformat": 4,
 "nbformat_minor": 4
}
