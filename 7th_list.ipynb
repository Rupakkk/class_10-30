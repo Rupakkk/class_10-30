{
 "cells": [
  {
   "cell_type": "code",
   "execution_count": 3,
   "metadata": {
    "scrolled": false
   },
   "outputs": [
    {
     "name": "stdout",
     "output_type": "stream",
     "text": [
      "[1, 2, 3] ['Apple', 'Ball', 'Cat']\n",
      "<class 'list'> <class 'list'>\n"
     ]
    }
   ],
   "source": [
    "#List is Mutable datatype\n",
    "#indexing\n",
    "#ordered\n",
    "#duplicate values\n",
    "\n",
    "a=[1,2,3]\n",
    "b=['Apple','Ball','Cat']\n",
    "print(a,b)\n",
    "# print(b)\n",
    "print(type(a),type(b))"
   ]
  },
  {
   "cell_type": "code",
   "execution_count": 7,
   "metadata": {},
   "outputs": [
    {
     "name": "stdout",
     "output_type": "stream",
     "text": [
      "Ball\n",
      "Dog\n"
     ]
    }
   ],
   "source": [
    "b=['Apple','Ball','Cat','Dog']\n",
    "print(b[1])\n",
    "print(b[-1])"
   ]
  },
  {
   "cell_type": "code",
   "execution_count": 14,
   "metadata": {},
   "outputs": [
    {
     "name": "stdout",
     "output_type": "stream",
     "text": [
      "['Apple', 'Ball', 'Cat', 'Dog']\n",
      "['Apple', 'Cat']\n",
      "A\n"
     ]
    }
   ],
   "source": [
    "b=['Apple','Ball','Cat','Dog','Fish']\n",
    "print(b[0:4])\n",
    "print(b[0:4:2])\n",
    "print(b[0][0])"
   ]
  },
  {
   "cell_type": "code",
   "execution_count": 18,
   "metadata": {},
   "outputs": [
    {
     "name": "stdout",
     "output_type": "stream",
     "text": [
      "[4, 3, 2, 1, 'Fish', 'Dog', 'Cat', 'Ball', 'Apple']\n",
      "[4, 3, 2, 1, 'Fish', 'Dog', 'Cat', 'Ball', 'Apple']\n",
      "['Apple', 'Ball', 'Cat', 'Dog', 'Fish', 1, 2, 3]\n"
     ]
    }
   ],
   "source": [
    "b=['Apple','Ball','Cat','Dog','Fish',1,2,3,4]\n",
    "print(b[8::-1])\n",
    "print(b[-1::-1])\n",
    "print(b[:8])"
   ]
  },
  {
   "cell_type": "code",
   "execution_count": 20,
   "metadata": {},
   "outputs": [
    {
     "name": "stdout",
     "output_type": "stream",
     "text": [
      "['Apple', 'Ball']\n",
      "['Ball', 'Apple']\n"
     ]
    }
   ],
   "source": [
    "a=['Apple']\n",
    "b=['Ball']\n",
    "print(a+b) #we can concatinate and it is ordered\n",
    "print(b+a)"
   ]
  },
  {
   "cell_type": "code",
   "execution_count": 21,
   "metadata": {},
   "outputs": [
    {
     "name": "stdout",
     "output_type": "stream",
     "text": [
      "['Apple', 'Ball', 'Apple', 'Ball']\n"
     ]
    }
   ],
   "source": [
    "a=['Apple', 'Ball']\n",
    "print(a*2)    #list can be enlarged"
   ]
  },
  {
   "cell_type": "code",
   "execution_count": 22,
   "metadata": {},
   "outputs": [
    {
     "name": "stdout",
     "output_type": "stream",
     "text": [
      "3\n"
     ]
    }
   ],
   "source": [
    "a=['Apple','Apple','Ball']\n",
    "print(len(a))"
   ]
  },
  {
   "cell_type": "code",
   "execution_count": 23,
   "metadata": {},
   "outputs": [
    {
     "name": "stdout",
     "output_type": "stream",
     "text": [
      "['Ant', 'Ball', 'Cat', 'Dog', 'Fish', 1, 2, 3, 4]\n"
     ]
    }
   ],
   "source": [
    "b=['Apple','Ball','Cat','Dog','Fish',1,2,3,4]\n",
    "b[0]='Ant'  #It replaces the original value with the new value\n",
    "print(b)"
   ]
  },
  {
   "cell_type": "code",
   "execution_count": 24,
   "metadata": {},
   "outputs": [
    {
     "name": "stdout",
     "output_type": "stream",
     "text": [
      "['Apple']\n"
     ]
    }
   ],
   "source": [
    "a=list()  #empty list\n",
    "# a=[]\n",
    "b=['Apple']\n",
    "print(a+b)\n"
   ]
  },
  {
   "cell_type": "code",
   "execution_count": 26,
   "metadata": {},
   "outputs": [
    {
     "name": "stdout",
     "output_type": "stream",
     "text": [
      "Enter value of n = 3\n",
      "Enter the value of x = 500\n",
      "Enter the value of x = 600\n",
      "Enter the value of x = 300\n",
      "[500, 600, 300]\n"
     ]
    }
   ],
   "source": [
    "s=[]\n",
    "n=int(input('Enter value of n = '))\n",
    "for i in range(n):\n",
    "    x=int(input('Enter the value of x = '))\n",
    "    s=s+[x]\n",
    "print(s)\n",
    "    "
   ]
  },
  {
   "cell_type": "code",
   "execution_count": 27,
   "metadata": {},
   "outputs": [
    {
     "name": "stdout",
     "output_type": "stream",
     "text": [
      "Enter value of n = 5\n",
      "Enter the value of x = Apple\n",
      "Enter the value of x = Ball\n",
      "Enter the value of x = Cat\n",
      "Enter the value of x = Dog\n",
      "Enter the value of x = Fish\n",
      "The list =  ['Apple', 'Ball', 'Cat', 'Dog', 'Fish']\n"
     ]
    }
   ],
   "source": [
    "s=[]\n",
    "n=int(input('Enter value of n = '))\n",
    "for i in range(n):\n",
    "    x=input('Enter the value of x = ')\n",
    "    s=s+[x]\n",
    "print('The list = ',s)\n",
    "\n"
   ]
  },
  {
   "cell_type": "code",
   "execution_count": 28,
   "metadata": {},
   "outputs": [
    {
     "name": "stdout",
     "output_type": "stream",
     "text": [
      "Apple\n",
      "Ball\n",
      "Cat\n",
      "Dog\n",
      "Fish\n"
     ]
    }
   ],
   "source": [
    "for i in s:\n",
    "    print(i)"
   ]
  },
  {
   "cell_type": "code",
   "execution_count": 30,
   "metadata": {},
   "outputs": [
    {
     "name": "stdout",
     "output_type": "stream",
     "text": [
      "0\n",
      "Apple\n",
      "1\n",
      "Ball\n",
      "2\n",
      "Cat\n",
      "3\n",
      "Dog\n",
      "4\n",
      "Fish\n"
     ]
    }
   ],
   "source": [
    "s= ['Apple', 'Ball', 'Cat', 'Dog', 'Fish']\n",
    "n=len(s)\n",
    "for i in range(n):\n",
    "    print(i)\n",
    "    print(s[i])"
   ]
  },
  {
   "cell_type": "code",
   "execution_count": 1,
   "metadata": {},
   "outputs": [
    {
     "name": "stdout",
     "output_type": "stream",
     "text": [
      "Yes 1\n"
     ]
    }
   ],
   "source": [
    "s= ['Apple', 'Ball', 'Cat', 'Dog', 'Fish']\n",
    "if 'Apple' in s:\n",
    "    print('Yes',s.count('Apple'))\n"
   ]
  },
  {
   "cell_type": "code",
   "execution_count": 1,
   "metadata": {},
   "outputs": [
    {
     "name": "stdout",
     "output_type": "stream",
     "text": [
      "Yes\n",
      "No\n",
      "No\n",
      "No\n",
      "No\n",
      "Yes\n"
     ]
    }
   ],
   "source": [
    "s= ['Apple', 'Ball', 'Cat', 'Dog', 'Fish','Apple']\n",
    "n=len(s)\n",
    "for i in range(n):\n",
    "    if s[i]=='Apple':\n",
    "        print('Yes')\n",
    "    else:\n",
    "        print('No')"
   ]
  },
  {
   "cell_type": "code",
   "execution_count": 34,
   "metadata": {},
   "outputs": [
    {
     "name": "stdout",
     "output_type": "stream",
     "text": [
      "0\n",
      "5\n"
     ]
    }
   ],
   "source": [
    "s= ['Apple', 'Ball', 'Cat', 'Dog', 'Fish','Apple']\n",
    "n=len(s)\n",
    "for i in range(n):\n",
    "    if s[i]=='Apple':\n",
    "        print(i)"
   ]
  },
  {
   "cell_type": "code",
   "execution_count": 82,
   "metadata": {},
   "outputs": [
    {
     "name": "stdout",
     "output_type": "stream",
     "text": [
      "0\n",
      "0\n",
      "5\n",
      "[0, 5]\n"
     ]
    }
   ],
   "source": [
    "index=[]\n",
    "s= ['Apple', 'Ball', 'Cat', 'Dog', 'Fish','Apple']\n",
    "print(s.index('Apple'))\n",
    "n=len(s)\n",
    "for i in range(n):\n",
    "    if s[i]=='Apple':\n",
    "        print(i)\n",
    "        index=index+[i]\n",
    "print(index)"
   ]
  },
  {
   "cell_type": "code",
   "execution_count": 130,
   "metadata": {},
   "outputs": [
    {
     "name": "stdout",
     "output_type": "stream",
     "text": [
      "Enter the value : DOG\n",
      "Yes 1\n"
     ]
    }
   ],
   "source": [
    "#WAP to search any item by removing case sensitive\n",
    "s= ['Apple', 'Ball', 'Cat', 'Dog', 'Fish','Apple',1,2,3.5,4,15,'1']\n",
    "value=input('Enter the value : ').lower()\n",
    "for i in s:\n",
    "    j=str(i)\n",
    "    if value==j.lower():\n",
    "        print('Yes',s.count(i))\n",
    "        break\n",
    "    else:\n",
    "        continue\n",
    "else:\n",
    "    print('No')\n",
    " "
   ]
  },
  {
   "cell_type": "code",
   "execution_count": 6,
   "metadata": {},
   "outputs": [
    {
     "name": "stdout",
     "output_type": "stream",
     "text": [
      "Enter the value : 15\n",
      "15 is present 1 times in the given list\n",
      "The index of 15 in ['Apple', 'Ball', 'Cat', 'Dog', 'Fish', 'Apple', 1, 2, 3.5, 4, 15, 1] is [10]\n"
     ]
    }
   ],
   "source": [
    "s= ['Apple', 'Ball', 'Cat', 'Dog', 'Fish','Apple',1,2,3.5,4,15,1]\n",
    "v=input('Enter the value : ')\n",
    "value=v.lower()\n",
    "n=[]\n",
    "y=''\n",
    "for i in s:\n",
    "    j=str(i)\n",
    "    if value==j.lower():\n",
    "        print(f'{v} is present {s.count(i)} times in the given list')\n",
    "        y='yes'\n",
    "        break\n",
    "\n",
    "else:\n",
    "    print(f'{v} is not in the following list\\n{s}')\n",
    "if y=='yes':\n",
    "    for k in range(len(s)):\n",
    "        l=str(s[k])\n",
    "        if value==l.lower():\n",
    "            n.append(k)\n",
    "    else:\n",
    "        if len(n)>1:\n",
    "            print(f'The indexes of {v} in {s} are {n}')\n",
    "        else:\n",
    "            print(f'The index of {v} in {s} is {n}')\n",
    "\n",
    " "
   ]
  },
  {
   "cell_type": "code",
   "execution_count": 10,
   "metadata": {},
   "outputs": [
    {
     "name": "stdout",
     "output_type": "stream",
     "text": [
      "Enter the value : 1\n",
      "1 is present 2 times in the given list\n",
      "The indexes of 1 in ['Apple', 'Ball', 'Cat', 'Dog', 'Fish', 'Apple', 1, 2, 3.5, 4, 15, 1, '1'] are [6, 6, 12]\n"
     ]
    }
   ],
   "source": [
    "s= ['Apple', 'Ball', 'Cat', 'Dog', 'Fish','Apple',1,2,3.5,4,15,1,'1']\n",
    "v=input('Enter the value : ')\n",
    "value=v.lower()\n",
    "n=[]\n",
    "y=''\n",
    "for i in s:\n",
    "    j=str(i)\n",
    "    if value==j.lower():\n",
    "        print(f'{v} is present {s.count(i)} times in the given list')\n",
    "        y='yes'\n",
    "        break\n",
    "    else:\n",
    "        continue\n",
    "else:\n",
    "    print(f'{v} is not in the following list\\n{s}')\n",
    "if y=='yes':\n",
    "    for k in s:\n",
    "        l=str(k)\n",
    "        if value==l.lower():\n",
    "            n.append(s.index(k))\n",
    "    if len(n)>1:\n",
    "        print(f'The indexes of {v} in {s} are {n}')\n",
    "    else:\n",
    "        print(f'The index of {v} in {s} is {n}')"
   ]
  },
  {
   "cell_type": "code",
   "execution_count": 139,
   "metadata": {},
   "outputs": [
    {
     "name": "stdout",
     "output_type": "stream",
     "text": [
      "1\n",
      "<class 'str'>\n"
     ]
    }
   ],
   "source": [
    "a='1'\n",
    "print(a)\n",
    "print(type(a))"
   ]
  },
  {
   "cell_type": "code",
   "execution_count": 40,
   "metadata": {},
   "outputs": [
    {
     "name": "stdout",
     "output_type": "stream",
     "text": [
      "['Ball']\n"
     ]
    }
   ],
   "source": [
    "#append\n",
    "a=[]\n",
    "b='Ball'\n",
    "a.append(b)\n",
    "print(a)"
   ]
  },
  {
   "cell_type": "code",
   "execution_count": 44,
   "metadata": {},
   "outputs": [
    {
     "name": "stdout",
     "output_type": "stream",
     "text": [
      "Enter value of n = 2\n",
      "Enter the value of x = 5\n",
      "Enter the value of x = 6\n",
      "[5, 6]\n"
     ]
    }
   ],
   "source": [
    "s=[]\n",
    "n=int(input('Enter value of n = '))\n",
    "for i in range(n):\n",
    "    x=int(input('Enter the value of x = '))\n",
    "    s.append(x)\n",
    "print(s)"
   ]
  },
  {
   "cell_type": "code",
   "execution_count": 46,
   "metadata": {},
   "outputs": [
    {
     "name": "stdout",
     "output_type": "stream",
     "text": [
      "Enter value of n = 3\n",
      "Enter the value of x = 5\n",
      "Enter the value of x = 10\n",
      "Enter the value of x = 15\n",
      "The list is =  [5, 10, 15]\n",
      "The sum of s =  30\n",
      "The max of s =  15\n",
      "The min of s =  5\n",
      "The avg of s =  10.0\n"
     ]
    }
   ],
   "source": [
    "s=[]\n",
    "n=int(input('Enter value of n = '))\n",
    "for i in range(n):\n",
    "    x=int(input('Enter the value of x = '))\n",
    "    s.append(x)\n",
    "print('The list is = ',s)\n",
    "print('The sum of s = ',sum(s))\n",
    "print('The max of s = ',max(s))\n",
    "print('The min of s = ',min(s))\n",
    "print('The avg of s = ',sum(s)/n)\n"
   ]
  },
  {
   "cell_type": "code",
   "execution_count": 49,
   "metadata": {},
   "outputs": [
    {
     "name": "stdout",
     "output_type": "stream",
     "text": [
      "[5, 10, 15]\n"
     ]
    }
   ],
   "source": [
    "s.sort()\n",
    "print(s)"
   ]
  },
  {
   "cell_type": "code",
   "execution_count": 6,
   "metadata": {},
   "outputs": [
    {
     "name": "stdout",
     "output_type": "stream",
     "text": [
      "['Apple', 'Apple', 'Ball', 'Cat', 'Dog', 'Fish']\n",
      "2\n"
     ]
    }
   ],
   "source": [
    "s= ['Apple', 'Ball', 'Cat', 'Dog', 'Fish','Apple']\n",
    "s.sort()\n",
    "print(s)\n",
    "print(s.count('Apple'))"
   ]
  },
  {
   "cell_type": "code",
   "execution_count": 46,
   "metadata": {},
   "outputs": [
    {
     "name": "stdout",
     "output_type": "stream",
     "text": [
      "['Apple', 'Apple', 'Ball', 'Cat', 'Dog', 'Fish']\n"
     ]
    }
   ],
   "source": [
    "s= ['Apple', 'Ball', 'Cat', 'Dog', 'Fish','Apple']\n",
    "print(sorted(s))"
   ]
  },
  {
   "cell_type": "code",
   "execution_count": 12,
   "metadata": {},
   "outputs": [
    {
     "name": "stdout",
     "output_type": "stream",
     "text": [
      "['hey', 'hello', 'Mango', 'Banana', 'Apple']\n",
      "[9, 7, 5, 4, 3, 2, 1, 0]\n",
      "0 hey\n",
      "1 hello\n",
      "2 Mango\n",
      "3 Banana\n",
      "4 Apple\n"
     ]
    }
   ],
   "source": [
    "a=['hello','hey','Apple','Mango','Banana']\n",
    "b=[1,2,7,9,3,5,4,0]\n",
    "a.sort(reverse=True)\n",
    "b.sort(reverse=True)\n",
    "print(a)\n",
    "print(b)\n",
    "for indx,item in enumerate(a):   #remember this\n",
    "    print(indx,item)"
   ]
  },
  {
   "cell_type": "code",
   "execution_count": 5,
   "metadata": {},
   "outputs": [
    {
     "name": "stdout",
     "output_type": "stream",
     "text": [
      "1 hello\n",
      "2 hey\n",
      "3 Apple\n",
      "4 Mango\n",
      "5 Banana\n"
     ]
    }
   ],
   "source": [
    "a=['hello','hey','Apple','Mango','Banana']\n",
    "for ind,item in enumerate(a,start=1):      #ind ==index and item==items in a  \n",
    "    print(ind,item)"
   ]
  },
  {
   "cell_type": "code",
   "execution_count": 8,
   "metadata": {},
   "outputs": [
    {
     "name": "stdout",
     "output_type": "stream",
     "text": [
      "hello       hey       Apple       Mango       Banana\n",
      "<class 'str'>\n"
     ]
    }
   ],
   "source": [
    "#change list to string\n",
    "a=['hello','hey','Apple','Mango','Banana']\n",
    "b='       '.join(a)\n",
    "print(b)\n",
    "print(type(b))"
   ]
  },
  {
   "cell_type": "code",
   "execution_count": 23,
   "metadata": {},
   "outputs": [
    {
     "name": "stdout",
     "output_type": "stream",
     "text": [
      "['hello', 'hey', 'Apple', 'Mango', 'Banana']\n",
      "<class 'list'>\n"
     ]
    }
   ],
   "source": [
    "a= 'hello hey Apple Mango Banana'\n",
    "a=a.split()   #change string to list\n",
    "print(a)\n",
    "print(type(a))"
   ]
  },
  {
   "cell_type": "code",
   "execution_count": 25,
   "metadata": {},
   "outputs": [
    {
     "name": "stdout",
     "output_type": "stream",
     "text": [
      "Enter n = 2\n",
      "Enter name = sdfdsfs\n",
      "Enter phone = 89889\n",
      "Enter name = fdsfsfs\n",
      "Enter phone = 6556\n",
      "sdfdsfs--89889\n",
      "fdsfsfs--6556\n",
      "\n",
      "['sdfdsfs--89889', 'fdsfsfs--6556']\n"
     ]
    }
   ],
   "source": [
    "s = \"\"\n",
    "n = int(input(\"Enter n = \"))\n",
    "for i in range(n):\n",
    "    name = input(\"Enter name = \")\n",
    "    phone = int(input(\"Enter phone = \"))\n",
    "    info = f\"{name}--{phone}\\n\"\n",
    "    s = s+info\n",
    "print(s)\n",
    "data = s.split('\\n')\n",
    "data1=data[0:-1]\n",
    "print(data1)\n"
   ]
  },
  {
   "cell_type": "code",
   "execution_count": 30,
   "metadata": {},
   "outputs": [
    {
     "name": "stdout",
     "output_type": "stream",
     "text": [
      "Enter roll no = 2\n"
     ]
    },
    {
     "ename": "IndexError",
     "evalue": "list index out of range",
     "output_type": "error",
     "traceback": [
      "\u001b[1;31m---------------------------------------------------------------------------\u001b[0m",
      "\u001b[1;31mIndexError\u001b[0m                                Traceback (most recent call last)",
      "\u001b[1;32m<ipython-input-30-348abc7d9851>\u001b[0m in \u001b[0;36m<module>\u001b[1;34m\u001b[0m\n\u001b[0;32m      1\u001b[0m \u001b[0mindex\u001b[0m\u001b[1;33m=\u001b[0m\u001b[0mint\u001b[0m\u001b[1;33m(\u001b[0m\u001b[0minput\u001b[0m\u001b[1;33m(\u001b[0m\u001b[1;34m'Enter roll no = '\u001b[0m\u001b[1;33m)\u001b[0m\u001b[1;33m)\u001b[0m\u001b[1;33m\u001b[0m\u001b[1;33m\u001b[0m\u001b[0m\n\u001b[1;32m----> 2\u001b[1;33m \u001b[0mprint\u001b[0m\u001b[1;33m(\u001b[0m\u001b[0mdata1\u001b[0m\u001b[1;33m[\u001b[0m\u001b[0mindex\u001b[0m\u001b[1;33m]\u001b[0m\u001b[1;33m)\u001b[0m\u001b[1;33m\u001b[0m\u001b[1;33m\u001b[0m\u001b[0m\n\u001b[0m\u001b[0;32m      3\u001b[0m \u001b[1;33m\u001b[0m\u001b[0m\n\u001b[0;32m      4\u001b[0m \u001b[1;31m# index=int(input('Enter roll no = '))\u001b[0m\u001b[1;33m\u001b[0m\u001b[1;33m\u001b[0m\u001b[1;33m\u001b[0m\u001b[0m\n\u001b[0;32m      5\u001b[0m \u001b[1;31m# print(data1[index-1])\u001b[0m\u001b[1;33m\u001b[0m\u001b[1;33m\u001b[0m\u001b[1;33m\u001b[0m\u001b[0m\n",
      "\u001b[1;31mIndexError\u001b[0m: list index out of range"
     ]
    }
   ],
   "source": [
    "index=int(input('Enter roll no = '))\n",
    "print(data1[index]) \n",
    "\n",
    "# index=int(input('Enter roll no = '))\n",
    "# print(data1[index-1])  "
   ]
  },
  {
   "cell_type": "code",
   "execution_count": 4,
   "metadata": {
    "scrolled": true
   },
   "outputs": [
    {
     "name": "stdout",
     "output_type": "stream",
     "text": [
      "['Hello ', 'orld']\n"
     ]
    }
   ],
   "source": [
    "a='Hello World'\n",
    "a=a.split('W')\n",
    "print(a)"
   ]
  },
  {
   "cell_type": "code",
   "execution_count": 6,
   "metadata": {},
   "outputs": [
    {
     "name": "stdout",
     "output_type": "stream",
     "text": [
      "['Ball', 'Cat', 'Dog']\n"
     ]
    }
   ],
   "source": [
    "#delete (del remove pop)\n",
    "a=['Apple','Ball','Cat','Dog','Fish']\n",
    "del a[0]\n",
    "print(a)\n"
   ]
  },
  {
   "cell_type": "code",
   "execution_count": 8,
   "metadata": {},
   "outputs": [
    {
     "name": "stdout",
     "output_type": "stream",
     "text": [
      "['Dog', 'Fish']\n"
     ]
    }
   ],
   "source": [
    "a=['Apple','Ball','Cat','Dog','Fish']\n",
    "del a[0:3]\n",
    "print(a)"
   ]
  },
  {
   "cell_type": "code",
   "execution_count": 4,
   "metadata": {},
   "outputs": [
    {
     "name": "stdout",
     "output_type": "stream",
     "text": [
      "['Apple', 'Cat']\n",
      "['Apple', 'Dog']\n",
      "['Ball', 'Cat', 'Fish']\n"
     ]
    }
   ],
   "source": [
    "a=['Apple','Ball','Cat','Dog','Fish']\n",
    "print (a[0:4:2])\n",
    "print (a[0:4:3])\n",
    "del a[0:4:2]  #try harder\n",
    "print(a)"
   ]
  },
  {
   "cell_type": "code",
   "execution_count": 11,
   "metadata": {},
   "outputs": [
    {
     "name": "stdout",
     "output_type": "stream",
     "text": [
      "['Ball', 'Cat', 'Dog', 'Fish']\n"
     ]
    }
   ],
   "source": [
    "a=['Apple','Ball','Cat','Dog','Fish']\n",
    "a.remove('Apple')\n",
    "print(a)"
   ]
  },
  {
   "cell_type": "code",
   "execution_count": 12,
   "metadata": {},
   "outputs": [
    {
     "name": "stdout",
     "output_type": "stream",
     "text": [
      "['Ball', 'Cat', 'Dog', 'Fish']\n"
     ]
    }
   ],
   "source": [
    "a=['Apple','Ball','Cat','Dog','Fish']\n",
    "for i in a:\n",
    "    if i=='Apple':  \n",
    "        a.remove('Apple')\n",
    "print(a)"
   ]
  },
  {
   "cell_type": "code",
   "execution_count": 7,
   "metadata": {},
   "outputs": [
    {
     "name": "stdout",
     "output_type": "stream",
     "text": [
      "Ball\n",
      "['Apple', 'Cat', 'Dog', 'Fish', 'Apple']\n"
     ]
    }
   ],
   "source": [
    "a=['Apple','Ball','Cat','Dog','Fish','Apple']\n",
    "b=a.pop(1) #b takes the value of a[1]\n",
    "print(b)    \n",
    "print(a)"
   ]
  },
  {
   "cell_type": "code",
   "execution_count": 14,
   "metadata": {},
   "outputs": [
    {
     "name": "stdout",
     "output_type": "stream",
     "text": [
      "['Apple', 'Ball', 'Cat', 'Dog', 'Fish']\n"
     ]
    }
   ],
   "source": [
    "a=['Apple','Ball','Cat','Dog','Fish','Apple']\n",
    "a.pop()\n",
    "print(a)"
   ]
  },
  {
   "cell_type": "code",
   "execution_count": 8,
   "metadata": {},
   "outputs": [
    {
     "name": "stdout",
     "output_type": "stream",
     "text": [
      "['Ball', 'Cat', 'Dog', 'Apple', 'Fish', 'Apple']\n"
     ]
    }
   ],
   "source": [
    "a=['Apple','Ball','Cat','Dog','Apple','Fish','Apple']\n",
    "n=a.count('Apple') \n",
    "for i in range(n):   \n",
    "    if a[i]=='Apple':   \n",
    "        a.remove('Apple')  # every time this happens, the index of  values inside a changes # this is important\n",
    "print(a)"
   ]
  },
  {
   "cell_type": "code",
   "execution_count": 18,
   "metadata": {
    "scrolled": true
   },
   "outputs": [
    {
     "name": "stdout",
     "output_type": "stream",
     "text": [
      "['Ant', 'Ball', 'Cat', 'Dog', 'Fish', 'Apple']\n"
     ]
    }
   ],
   "source": [
    "a=['Apple','Ball','Cat','Dog','Fish','Apple']\n",
    "a[0]='Ant'  # it replaces the value at given index\n",
    "print(a)"
   ]
  },
  {
   "cell_type": "code",
   "execution_count": 19,
   "metadata": {},
   "outputs": [
    {
     "name": "stdout",
     "output_type": "stream",
     "text": [
      "[1, 2, 3, 'Dog', 'Fish', 'Apple']\n"
     ]
    }
   ],
   "source": [
    "a=['Apple','Ball','Cat','Dog','Fish','Apple']\n",
    "a[0:3]=[1,2,3]  #multiple value update  #this assigns 1,2,3 at 0,1,2 index of a\n",
    "print(a)"
   ]
  },
  {
   "cell_type": "code",
   "execution_count": 32,
   "metadata": {},
   "outputs": [
    {
     "name": "stdout",
     "output_type": "stream",
     "text": [
      "['Ball', 'Cat', 'Dog', 'Fish']\n"
     ]
    }
   ],
   "source": [
    "a=['Apple','Ball','Cat','Apple','Dog','Fish','Apple']\n",
    "for i in a:  \n",
    "    if i=='Apple':   \n",
    "        a.remove('Apple')\n",
    "        \n",
    "print(a)"
   ]
  },
  {
   "cell_type": "code",
   "execution_count": 9,
   "metadata": {},
   "outputs": [
    {
     "name": "stdout",
     "output_type": "stream",
     "text": [
      "['Apple', 'Ball', 'Cat', 'Dog', 'Fish']\n"
     ]
    }
   ],
   "source": [
    "# Check if an item is present and if present then check repeated in the list and if repeated then remove the repetition and just leave one of that kind\n",
    "a=['Apple','Ball','Cat','Apple','Fish','Dog','Fish','Apple']\n",
    "# value=input('Enter the value : ')\n",
    "# if a.count(value)!=0:\n",
    "#     while a.count(value)!=1:\n",
    "#             a.remove(value)\n",
    "#     print(a)\n",
    "# else:\n",
    "#     print(f'{value} is not present in the list' )\n",
    "print(list(set(a)))\n",
    "        "
   ]
  },
  {
   "cell_type": "code",
   "execution_count": 21,
   "metadata": {
    "scrolled": true
   },
   "outputs": [
    {
     "name": "stdout",
     "output_type": "stream",
     "text": [
      "['Ant', 'Apple', 'Ball', 'Cat', 'Dog', 'Fish', 'Apple']\n"
     ]
    }
   ],
   "source": [
    "a=['Apple','Ball','Cat','Dog','Fish','Apple']\n",
    "a.insert(0,'Ant')  #it inserts the given value at given index without replacing the previous value at that index\n",
    "print(a)"
   ]
  },
  {
   "cell_type": "code",
   "execution_count": 38,
   "metadata": {},
   "outputs": [
    {
     "name": "stdout",
     "output_type": "stream",
     "text": [
      "[0, 3, 6]\n"
     ]
    }
   ],
   "source": [
    "b=[]\n",
    "a=['Apple','Ball','Cat','Apple','Dog','Fish','Apple']\n",
    "for i in range(len(a)):\n",
    "    if a[i]=='Apple':\n",
    "        b.append(i)\n",
    "print(b)"
   ]
  },
  {
   "cell_type": "code",
   "execution_count": 2,
   "metadata": {},
   "outputs": [
    {
     "name": "stdout",
     "output_type": "stream",
     "text": [
      "[]\n"
     ]
    }
   ],
   "source": [
    "a=['hello','hey','what','who']\n",
    "b=['wassup','apple','mango']\n",
    "a=a[4:]  # it gives value of a as an empty list but i don't know why\n",
    "print(a)"
   ]
  },
  {
   "cell_type": "code",
   "execution_count": 3,
   "metadata": {},
   "outputs": [
    {
     "name": "stdout",
     "output_type": "stream",
     "text": [
      "[1, 4, 9, 16, 25, 36, 49, 64, 81, 100]\n"
     ]
    }
   ],
   "source": [
    "# List comprehensions\n",
    "print([i**2 for i in range(1,11)])"
   ]
  },
  {
   "cell_type": "code",
   "execution_count": 8,
   "metadata": {},
   "outputs": [
    {
     "name": "stdout",
     "output_type": "stream",
     "text": [
      "[(2, 2), (3, 3)]\n"
     ]
    }
   ],
   "source": [
    "print([(x,y) for x in [1,2,3] for y in [3,4,2] if (x==y)])"
   ]
  },
  {
   "cell_type": "code",
   "execution_count": 13,
   "metadata": {},
   "outputs": [
    {
     "name": "stdout",
     "output_type": "stream",
     "text": [
      "[2, 4, 6, 8, 10]\n"
     ]
    }
   ],
   "source": [
    "x=[1,2,3,4,5]\n",
    "print([i*2 for i in x])"
   ]
  },
  {
   "cell_type": "code",
   "execution_count": 10,
   "metadata": {},
   "outputs": [
    {
     "name": "stdout",
     "output_type": "stream",
     "text": [
      "[1, 2, 3, 5, 8]\n",
      "['  BANANA', '  LOGANBERRY ', 'PASSION FRUIT  ']\n"
     ]
    }
   ],
   "source": [
    "# filter the list to exclude negative numbers\n",
    "x=[1,2,3,-4,5,-7,8]\n",
    "# print([i for i in x if(i>0)])\n",
    "for i in x:\n",
    "    if i<0:\n",
    "        x.remove(i)\n",
    "print(x)\n",
    "        \n",
    "\n",
    "# call a method on each element\n",
    "freshfruit = ['  banana', '  loganberry ', 'passion fruit  ']\n",
    "print([i.upper() for i in freshfruit])    \n"
   ]
  },
  {
   "cell_type": "code",
   "execution_count": 41,
   "metadata": {
    "scrolled": true
   },
   "outputs": [
    {
     "name": "stdout",
     "output_type": "stream",
     "text": [
      "5\n",
      "10\n",
      "15\n",
      "-20\n",
      "25\n",
      "-35\n",
      "40\n"
     ]
    }
   ],
   "source": [
    "# apply a function to all the elements\n",
    "x=[1,2,3,-4,5,-7,8]\n",
    "def add(n):\n",
    "    print(5*n)\n",
    "y=[add(i) for i in x]\n"
   ]
  },
  {
   "cell_type": "code",
   "execution_count": 46,
   "metadata": {},
   "outputs": [
    {
     "name": "stdout",
     "output_type": "stream",
     "text": [
      "['banana', 'loganberry', 'passion fruit']\n"
     ]
    }
   ],
   "source": [
    "freshfruit = ['  banana', '  loganberry ', 'passion fruit  ']\n",
    "print([i.strip() for i in freshfruit])   #strips all the spaces"
   ]
  },
  {
   "cell_type": "code",
   "execution_count": 4,
   "metadata": {},
   "outputs": [
    {
     "name": "stdout",
     "output_type": "stream",
     "text": [
      "[[1, 2, 3, 4], [1, 2, 3, 4], [1, 2, 3, 4]]\n"
     ]
    }
   ],
   "source": [
    "m=[]\n",
    "for x in range(3):\n",
    "    matrix=[]\n",
    "    for y in range(1,5):\n",
    "        matrix.append(y)\n",
    "    m.append(matrix)\n",
    "print(m)"
   ]
  },
  {
   "cell_type": "code",
   "execution_count": 8,
   "metadata": {},
   "outputs": [
    {
     "name": "stdout",
     "output_type": "stream",
     "text": [
      "[[1, 2, 3, 4], [1, 2, 3, 4], [1, 2, 3, 4]]\n"
     ]
    }
   ],
   "source": [
    " [1, 2, 3, 4],\n",
    "#     [5, 6, 7, 8],\n",
    "#     [9, 10, 11, 12]\n",
    "m=[]\n",
    "for x in range(3):\n",
    "    matrix=[]\n",
    "    for y in range(1,5):\n",
    "        matrix.append(y)\n",
    "    m.append(matrix)\n",
    "print(m)\n",
    "# matrix = [\n",
    "#     [1, 2, 3, 4],\n",
    "#     [5, 6, 7, 8],\n",
    "#     [9, 10, 11, 12],\n",
    "# ]"
   ]
  },
  {
   "cell_type": "code",
   "execution_count": 10,
   "metadata": {
    "scrolled": true
   },
   "outputs": [
    {
     "name": "stdout",
     "output_type": "stream",
     "text": [
      "[[1, 1, 1], [2, 2, 2], [3, 3, 3], [4, 4, 4]]\n"
     ]
    }
   ],
   "source": [
    "x=[]\n",
    "m=[[1, 2, 3, 4], [1, 2, 3, 4], [1, 2, 3, 4]]\n",
    "for i in range(4):\n",
    "    transposed=[]\n",
    "    for row in m:\n",
    "        transposed.append(row[i])\n",
    "    x.append(transposed)\n",
    "print(x)    \n",
    "    "
   ]
  },
  {
   "cell_type": "code",
   "execution_count": 4,
   "metadata": {},
   "outputs": [
    {
     "name": "stdout",
     "output_type": "stream",
     "text": [
      "Enter the number of rows = 3\n",
      "Enter the number of column = 3\n",
      "Enter the element1\n",
      "Enter the element2\n",
      "Enter the element3\n",
      "Enter the element1\n",
      "Enter the element2\n",
      "Enter the element3\n",
      "Enter the element1\n",
      "Enter the element2\n",
      "Enter the element3\n",
      "[[1, 2, 3], [1, 2, 3], [1, 2, 3]]\n"
     ]
    }
   ],
   "source": [
    "matrix=[]\n",
    "rows=int(input('Enter the number of rows = '))\n",
    "columns=int(input('Enter the number of column = '))\n",
    "for i in range(rows):\n",
    "    mini=[]\n",
    "    for j in range(columns):\n",
    "        x=int(input('Enter the element'))\n",
    "        mini.append(x)\n",
    "    matrix.append(mini)\n",
    "print(matrix)\n",
    "    "
   ]
  },
  {
   "cell_type": "code",
   "execution_count": 5,
   "metadata": {},
   "outputs": [
    {
     "name": "stdout",
     "output_type": "stream",
     "text": [
      "[[1, 1, 1], [2, 2, 2], [3, 3, 3], [4, 4, 4]]\n"
     ]
    }
   ],
   "source": [
    "matrix=[[1, 2, 3, 4], [1, 2, 3, 4], [1, 2, 3, 4]]\n",
    "new_matrix=[]\n",
    "for i in range(4):\n",
    "    mini=[]\n",
    "    for j in matrix:\n",
    "        mini.append(j[i])\n",
    "    new_matrix.append(mini)\n",
    "print(new_matrix)"
   ]
  },
  {
   "cell_type": "code",
   "execution_count": 7,
   "metadata": {},
   "outputs": [
    {
     "name": "stdout",
     "output_type": "stream",
     "text": [
      "[[1, 2, 3, 4], [1, 2, 3, 4], [1, 2, 3, 4]]\n"
     ]
    }
   ],
   "source": [
    "matrix= [[1, 1, 1], [2, 2, 2], [3, 3, 3], [4, 4, 4]]\n",
    "new=[]\n",
    "for i in range(3):\n",
    "    mini=[]\n",
    "    for j in matrix:\n",
    "        mini.append(j[i])\n",
    "    new.append(mini)\n",
    "print(new)"
   ]
  },
  {
   "cell_type": "code",
   "execution_count": 10,
   "metadata": {},
   "outputs": [
    {
     "name": "stdout",
     "output_type": "stream",
     "text": [
      "Enter the number of rows =3\n",
      "Enter the number of column =4\n",
      "Enter the items1\n",
      "Enter the items2\n",
      "Enter the items3\n",
      "Enter the items4\n",
      "Enter the items1\n",
      "Enter the items2\n",
      "Enter the items3\n",
      "Enter the items4\n",
      "Enter the items1\n",
      "Enter the items2\n",
      "Enter the items3\n",
      "Enter the items4\n",
      "[[1, 2, 3, 4], [1, 2, 3, 4], [1, 2, 3, 4]]\n"
     ]
    }
   ],
   "source": [
    "row=int(input('Enter the number of rows ='))\n",
    "column=int(input('Enter the number of column ='))\n",
    "matrix=[]\n",
    "for i in range(row):\n",
    "    mini=[]\n",
    "    for j in range(column):\n",
    "        x=int(input('Enter the items'))\n",
    "        mini.append(x)\n",
    "    matrix.append(mini)\n",
    "print(matrix)"
   ]
  },
  {
   "cell_type": "code",
   "execution_count": 3,
   "metadata": {},
   "outputs": [
    {
     "name": "stdout",
     "output_type": "stream",
     "text": [
      "Enter the number of rows : 3\n",
      "Enter the number of column : 4\n",
      "Enter the elements :1\n",
      "Enter the elements :2\n",
      "Enter the elements :3\n",
      "Enter the elements :4\n",
      "Enter the elements :5\n",
      "Enter the elements :6\n",
      "Enter the elements :7\n",
      "Enter the elements :8\n",
      "Enter the elements :9\n",
      "Enter the elements :10\n",
      "Enter the elements :11\n",
      "Enter the elements :12\n",
      "[[1, 2, 3, 4], [5, 6, 7, 8], [9, 10, 11, 12]]\n"
     ]
    }
   ],
   "source": [
    "matrix=[]\n",
    "row=int(input('Enter the number of rows : '))\n",
    "column=int(input('Enter the number of column : '))\n",
    "for i in range(row):\n",
    "    mini=[]\n",
    "    for j in range(column):\n",
    "        x=int(input('Enter the elements :'))\n",
    "        mini.append(x)\n",
    "    matrix.append(mini)\n",
    "print(matrix)\n",
    "        \n",
    "        "
   ]
  },
  {
   "cell_type": "code",
   "execution_count": 6,
   "metadata": {},
   "outputs": [
    {
     "name": "stdout",
     "output_type": "stream",
     "text": [
      "[[1, 5, 9], [2, 6, 10], [3, 7, 11], [4, 8, 12]]\n"
     ]
    }
   ],
   "source": [
    "mat=[[1, 2, 3, 4], [5, 6, 7, 8], [9, 10, 11, 12]]\n",
    "new_mat=[]\n",
    "for i in range(4\n",
    "              ):\n",
    "    mini=[]\n",
    "    for j in mat:\n",
    "        mini.append(j[i])\n",
    "    new_mat.append(mini)\n",
    "print(new_mat)\n",
    "        \n",
    "    \n"
   ]
  },
  {
   "cell_type": "code",
   "execution_count": null,
   "metadata": {},
   "outputs": [],
   "source": []
  }
 ],
 "metadata": {
  "kernelspec": {
   "display_name": "Python 3",
   "language": "python",
   "name": "python3"
  },
  "language_info": {
   "codemirror_mode": {
    "name": "ipython",
    "version": 3
   },
   "file_extension": ".py",
   "mimetype": "text/x-python",
   "name": "python",
   "nbconvert_exporter": "python",
   "pygments_lexer": "ipython3",
   "version": "3.8.5"
  }
 },
 "nbformat": 4,
 "nbformat_minor": 4
}
