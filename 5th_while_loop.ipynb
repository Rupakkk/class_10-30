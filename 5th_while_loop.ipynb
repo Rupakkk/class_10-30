{
 "cells": [
  {
   "cell_type": "code",
   "execution_count": null,
   "metadata": {},
   "outputs": [],
   "source": [
    "#while loop\n",
    "while <condition>:\n",
    "    <operations>\n",
    "    <increment or decrement>"
   ]
  },
  {
   "cell_type": "code",
   "execution_count": 1,
   "metadata": {},
   "outputs": [
    {
     "name": "stdout",
     "output_type": "stream",
     "text": [
      "Hello World\n",
      "Hello World\n",
      "Hello World\n",
      "Hello World\n",
      "Hello World\n"
     ]
    }
   ],
   "source": [
    "a=0\n",
    "while a<5:\n",
    "    print('Hello World')\n",
    "    a=a+1"
   ]
  },
  {
   "cell_type": "code",
   "execution_count": 2,
   "metadata": {},
   "outputs": [
    {
     "name": "stdout",
     "output_type": "stream",
     "text": [
      "Hello World\n",
      "Hello World\n",
      "Hello World\n",
      "Hello World\n",
      "Hello World\n"
     ]
    }
   ],
   "source": [
    "a=5\n",
    "while a>0:\n",
    "    print('Hello World')\n",
    "    a=a-1"
   ]
  },
  {
   "cell_type": "code",
   "execution_count": 4,
   "metadata": {},
   "outputs": [
    {
     "name": "stdout",
     "output_type": "stream",
     "text": [
      "Enter n = 4\n",
      "Enter x= 1\n",
      "Enter x= 2\n",
      "Enter x= 3\n",
      "Enter x= 5\n",
      "11\n"
     ]
    }
   ],
   "source": [
    "s=0\n",
    "i=0\n",
    "n=int(input('Enter n = '))\n",
    "while i<n:\n",
    "    x=int(input('Enter x= '))\n",
    "    s=s+x\n",
    "    i=i+1\n",
    "print(s)"
   ]
  },
  {
   "cell_type": "code",
   "execution_count": 12,
   "metadata": {},
   "outputs": [
    {
     "name": "stdout",
     "output_type": "stream",
     "text": [
      "Enter n = 200\n",
      "200 * 10 = 2000\n",
      "200 * 9 = 1800\n",
      "200 * 8 = 1600\n",
      "200 * 7 = 1400\n",
      "200 * 6 = 1200\n",
      "200 * 5 = 1000\n",
      "200 * 4 = 800\n",
      "200 * 3 = 600\n",
      "200 * 2 = 400\n",
      "200 * 1 = 200\n"
     ]
    }
   ],
   "source": [
    "n=int(input('Enter n = '))\n",
    "i=10\n",
    "while i>=1:\n",
    "    print(n,'*',i,'=',n*i)\n",
    "    i=i-1\n",
    "    \n",
    "    "
   ]
  },
  {
   "cell_type": "code",
   "execution_count": 1,
   "metadata": {},
   "outputs": [
    {
     "name": "stdout",
     "output_type": "stream",
     "text": [
      "Enter n= 3\n",
      "Enter the name= ram\n",
      "Enter the number 4342\n",
      "Enter the name= shyam\n",
      "Enter the number 434q\n",
      "Enter the name= hari\n",
      "Enter the number 7657567\n",
      "1 ram 4342\n",
      "2 shyam 434q\n",
      "3 hari 7657567\n",
      "\n"
     ]
    }
   ],
   "source": [
    "s=''\n",
    "n=int(input('Enter n= '))\n",
    "i=1\n",
    "while i<=n:\n",
    "    name=input('Enter the name= ')\n",
    "    number=input('Enter the number ')\n",
    "    s=s+str(i)+' '+name+' '+number+'\\n' #we use + to concatinate a string # we use , to print values\n",
    "    i=i+1\n",
    "print(s)"
   ]
  },
  {
   "cell_type": "code",
   "execution_count": 5,
   "metadata": {},
   "outputs": [
    {
     "name": "stdout",
     "output_type": "stream",
     "text": [
      "Enter n = 0\n",
      "1\n"
     ]
    }
   ],
   "source": [
    "fac=1\n",
    "i=1\n",
    "n=int(input('Enter n = '))\n",
    "while i<=n:\n",
    "    fac=fac*i\n",
    "    i=i+1\n",
    "print(fac)"
   ]
  },
  {
   "cell_type": "code",
   "execution_count": 6,
   "metadata": {},
   "outputs": [
    {
     "name": "stdout",
     "output_type": "stream",
     "text": [
      "Hello World\n",
      "Hello World\n",
      "Hello World\n",
      "Hello World\n",
      "Hello World\n"
     ]
    }
   ],
   "source": [
    "i=5\n",
    "while i>=1:\n",
    "    print('Hello World')\n",
    "    i=i-1\n"
   ]
  },
  {
   "cell_type": "code",
   "execution_count": 9,
   "metadata": {},
   "outputs": [
    {
     "name": "stdout",
     "output_type": "stream",
     "text": [
      "nohtyp"
     ]
    }
   ],
   "source": [
    "a='python'\n",
    "n=len(a)-1\n",
    "while n>=0:\n",
    "    print(a[n],end='')\n",
    "    n=n-1"
   ]
  },
  {
   "cell_type": "code",
   "execution_count": 10,
   "metadata": {},
   "outputs": [
    {
     "name": "stdout",
     "output_type": "stream",
     "text": [
      "nohtyp"
     ]
    }
   ],
   "source": [
    "a='python'\n",
    "n=len(a)\n",
    "while n>0:\n",
    "    print(a[n-1],end='')\n",
    "    n=n-1"
   ]
  },
  {
   "cell_type": "code",
   "execution_count": 12,
   "metadata": {},
   "outputs": [
    {
     "name": "stdout",
     "output_type": "stream",
     "text": [
      "5 n\n",
      "4 o\n",
      "3 h\n",
      "2 t\n",
      "1 y\n",
      "0 p\n"
     ]
    }
   ],
   "source": [
    "a='python'\n",
    "n=len(a)-1\n",
    "while n>=0:\n",
    "    print(n,a[n])\n",
    "    n=n-1"
   ]
  },
  {
   "cell_type": "code",
   "execution_count": null,
   "metadata": {},
   "outputs": [],
   "source": [
    "#while as if/else\n"
   ]
  },
  {
   "cell_type": "code",
   "execution_count": 15,
   "metadata": {},
   "outputs": [
    {
     "name": "stdout",
     "output_type": "stream",
     "text": [
      "Hello"
     ]
    }
   ],
   "source": [
    "#break continue pass =>control statements\n",
    "a='Hello World'\n",
    "for i in a:\n",
    "    if i==' ':\n",
    "        break\n",
    "    print(i,end='')"
   ]
  },
  {
   "cell_type": "code",
   "execution_count": 21,
   "metadata": {},
   "outputs": [
    {
     "name": "stdout",
     "output_type": "stream",
     "text": [
      "Hello"
     ]
    }
   ],
   "source": [
    "a='Hello World'\n",
    "for i in a:\n",
    "    if i==' ':\n",
    "        break\n",
    "    else:\n",
    "        print(i,end='')"
   ]
  },
  {
   "cell_type": "code",
   "execution_count": 17,
   "metadata": {},
   "outputs": [
    {
     "name": "stdout",
     "output_type": "stream",
     "text": [
      "HelloWorld"
     ]
    }
   ],
   "source": [
    "a='Hello World'\n",
    "for i in a:\n",
    "    if i==' ':\n",
    "        continue\n",
    "    print(i,end='')"
   ]
  },
  {
   "cell_type": "code",
   "execution_count": 19,
   "metadata": {},
   "outputs": [
    {
     "name": "stdout",
     "output_type": "stream",
     "text": [
      "5\n",
      "10\n",
      "15\n",
      "20\n",
      "25\n",
      "30\n",
      "35\n",
      "40\n",
      "45\n",
      "50\n"
     ]
    }
   ],
   "source": [
    "for i in range(1,51):\n",
    "    if i%5!=0:\n",
    "        continue\n",
    "    print(i)"
   ]
  },
  {
   "cell_type": "code",
   "execution_count": 20,
   "metadata": {},
   "outputs": [
    {
     "name": "stdout",
     "output_type": "stream",
     "text": [
      "5\n",
      "10\n",
      "15\n",
      "20\n",
      "25\n",
      "30\n",
      "35\n",
      "40\n",
      "45\n",
      "50\n"
     ]
    }
   ],
   "source": [
    "for i in range(1,51):\n",
    "    if i%5!=0:\n",
    "        continue\n",
    "    else:\n",
    "        print(i)"
   ]
  },
  {
   "cell_type": "code",
   "execution_count": 22,
   "metadata": {},
   "outputs": [
    {
     "name": "stdout",
     "output_type": "stream",
     "text": [
      "apple\n",
      "cat\n"
     ]
    }
   ],
   "source": [
    "a=['apple','ball','cat','ball']\n",
    "for i in a:\n",
    "    if i=='ball':\n",
    "        continue\n",
    "    print(i)"
   ]
  },
  {
   "cell_type": "code",
   "execution_count": 24,
   "metadata": {},
   "outputs": [],
   "source": [
    "def cal():\n",
    "    pass  #it makes the function executable\n",
    "cal()"
   ]
  },
  {
   "cell_type": "code",
   "execution_count": 23,
   "metadata": {},
   "outputs": [],
   "source": [
    "for i in range(5):\n",
    "    pass\n"
   ]
  },
  {
   "cell_type": "code",
   "execution_count": null,
   "metadata": {},
   "outputs": [],
   "source": [
    "a=10\n",
    "b=20\n",
    "if a<b:\n",
    "    pass\n",
    "else:\n",
    "    pass"
   ]
  }
 ],
 "metadata": {
  "kernelspec": {
   "display_name": "Python 3",
   "language": "python",
   "name": "python3"
  },
  "language_info": {
   "codemirror_mode": {
    "name": "ipython",
    "version": 3
   },
   "file_extension": ".py",
   "mimetype": "text/x-python",
   "name": "python",
   "nbconvert_exporter": "python",
   "pygments_lexer": "ipython3",
   "version": "3.8.5"
  }
 },
 "nbformat": 4,
 "nbformat_minor": 4
}
