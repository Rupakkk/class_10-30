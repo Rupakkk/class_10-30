{
 "cells": [
  {
   "cell_type": "code",
   "execution_count": 1,
   "metadata": {},
   "outputs": [
    {
     "ename": "TypeError",
     "evalue": "unsupported operand type(s) for +: 'Point' and 'Point'",
     "output_type": "error",
     "traceback": [
      "\u001b[1;31m---------------------------------------------------------------------------\u001b[0m",
      "\u001b[1;31mTypeError\u001b[0m                                 Traceback (most recent call last)",
      "\u001b[1;32m<ipython-input-1-6a8d8c27e5a2>\u001b[0m in \u001b[0;36m<module>\u001b[1;34m\u001b[0m\n\u001b[0;32m      6\u001b[0m \u001b[0mp1\u001b[0m\u001b[1;33m=\u001b[0m\u001b[0mPoint\u001b[0m\u001b[1;33m(\u001b[0m\u001b[1;36m2\u001b[0m\u001b[1;33m,\u001b[0m\u001b[1;36m3\u001b[0m\u001b[1;33m)\u001b[0m\u001b[1;33m\u001b[0m\u001b[1;33m\u001b[0m\u001b[0m\n\u001b[0;32m      7\u001b[0m \u001b[0mp2\u001b[0m\u001b[1;33m=\u001b[0m\u001b[0mPoint\u001b[0m\u001b[1;33m(\u001b[0m\u001b[1;33m-\u001b[0m\u001b[1;36m1\u001b[0m\u001b[1;33m,\u001b[0m\u001b[1;36m3\u001b[0m\u001b[1;33m)\u001b[0m\u001b[1;33m\u001b[0m\u001b[1;33m\u001b[0m\u001b[0m\n\u001b[1;32m----> 8\u001b[1;33m \u001b[0mp1\u001b[0m\u001b[1;33m+\u001b[0m\u001b[0mp2\u001b[0m\u001b[1;33m\u001b[0m\u001b[1;33m\u001b[0m\u001b[0m\n\u001b[0m\u001b[0;32m      9\u001b[0m \u001b[1;33m\u001b[0m\u001b[0m\n",
      "\u001b[1;31mTypeError\u001b[0m: unsupported operand type(s) for +: 'Point' and 'Point'"
     ]
    }
   ],
   "source": [
    "# 17th_operator overloading\n",
    "class Point:\n",
    "    def __init__(self,x=0,y=0):\n",
    "        self.x=x\n",
    "        self.y=y\n",
    "p1=Point(2,3)\n",
    "p2=Point(-1,3)\n",
    "p1+p2     # Not alloweded\n",
    "    "
   ]
  },
  {
   "cell_type": "code",
   "execution_count": 2,
   "metadata": {},
   "outputs": [
    {
     "name": "stdout",
     "output_type": "stream",
     "text": [
      "200\n",
      "500\n"
     ]
    }
   ],
   "source": [
    "# 17th_operator overloading\n",
    "class Point:\n",
    "    def __init__(self,x=0):\n",
    "        self.x=x\n",
    "        \n",
    "        \n",
    "    def __str__(self):\n",
    "        return f'{self.x}'\n",
    "    \n",
    "    def __add__(self,other):\n",
    "        x=self.x + other.x\n",
    "        return Point(x)\n",
    "p1=Point(200)\n",
    "print(p1)\n",
    "p2=Point(300)\n",
    "print(p1+p2)\n",
    "    "
   ]
  },
  {
   "cell_type": "code",
   "execution_count": 7,
   "metadata": {},
   "outputs": [
    {
     "name": "stdout",
     "output_type": "stream",
     "text": [
      "1000\n",
      "<class '__main__.Point'>\n"
     ]
    }
   ],
   "source": [
    "# 17th_operator overloading\n",
    "class Point:\n",
    "    def __init__(self,x=0):\n",
    "        self.x=x\n",
    "        \n",
    "        \n",
    "    def __str__(self):\n",
    "        return f'{self.x}'\n",
    "    \n",
    "    def __add__(self,other):\n",
    "        x=self.x + other.x\n",
    "        return Point(x)\n",
    "p1=Point(200)\n",
    "p2=Point(300)\n",
    "p3=Point(500)\n",
    "print(p1+p2+p3)\n",
    "print(type(p1+p2+p3))  200,300,500,500,500,1000,1000"
   ]
  },
  {
   "cell_type": "code",
   "execution_count": 15,
   "metadata": {},
   "outputs": [
    {
     "name": "stdout",
     "output_type": "stream",
     "text": [
      "200\n",
      "300\n",
      "500\n",
      "500\n",
      "500\n",
      "1000\n",
      "1000\n",
      "1000\n"
     ]
    }
   ],
   "source": [
    "# 17th_operator overloading\n",
    "class Point:\n",
    "    def __init__(self,x=0):\n",
    "        self.x=x\n",
    "        print(x)\n",
    "        \n",
    "    def __str__(self):\n",
    "        return f'{self.x}'\n",
    "    \n",
    "    def __add__(self,other):\n",
    "        y=self.x + other.x\n",
    "        print(y)\n",
    "        return Point(y)\n",
    "p1=Point(200)\n",
    "p2=Point(300)\n",
    "p3=Point(500)\n",
    "print(p1+p2+p3)\n",
    "# print(type(p1+p2+p3))   200,300,500,500,500,1000,1000,1000"
   ]
  },
  {
   "cell_type": "code",
   "execution_count": 4,
   "metadata": {},
   "outputs": [
    {
     "name": "stdout",
     "output_type": "stream",
     "text": [
      "200\n"
     ]
    }
   ],
   "source": [
    "# 17th_operator overloading\n",
    "class Point:\n",
    "    def __init__(self,x=0):\n",
    "        self.x=x\n",
    "        \n",
    "        \n",
    "    def __str__(self):\n",
    "        return f'{self.x}'\n",
    "    \n",
    "    def __add__(self,other):\n",
    "        x=self.x - other.x\n",
    "        return Point(x)\n",
    "p1=Point(500)\n",
    "p2=Point(300)\n",
    "print(p1+p2)\n",
    "    "
   ]
  },
  {
   "cell_type": "code",
   "execution_count": 5,
   "metadata": {},
   "outputs": [
    {
     "name": "stdout",
     "output_type": "stream",
     "text": [
      "500\n"
     ]
    }
   ],
   "source": [
    "class Point:\n",
    "    def __init__(self,x=0):\n",
    "        self.x=x\n",
    "        \n",
    "        \n",
    "#     def __str__(self):\n",
    "#         return f'{self.x}'\n",
    "    \n",
    "    def __add__(self,other):\n",
    "        x=self.x + other.x\n",
    "        return x\n",
    "p1=Point(200)\n",
    "# print(p1)\n",
    "p2=Point(300)\n",
    "print(p1+p2)"
   ]
  },
  {
   "cell_type": "code",
   "execution_count": 5,
   "metadata": {},
   "outputs": [
    {
     "name": "stdout",
     "output_type": "stream",
     "text": [
      "(600,360)\n"
     ]
    }
   ],
   "source": [
    "class Point:\n",
    "    def __init__(self,x=0,y=0):\n",
    "        self.x=x\n",
    "        self.y=y\n",
    "        \n",
    "        \n",
    "    def __str__(self):\n",
    "        return f'({self.x},{self.y})'\n",
    "    \n",
    "    def __add__(self,other):\n",
    "        x=self.x + other.x\n",
    "        y=self.y + other.y\n",
    "        return Point(x,y)\n",
    "p1=Point(200,10)\n",
    "# print(p1)\n",
    "p2=Point(300,50)\n",
    "p3=Point(100,300)\n",
    "print(p1+p2+p3)"
   ]
  },
  {
   "cell_type": "code",
   "execution_count": 10,
   "metadata": {},
   "outputs": [
    {
     "name": "stdout",
     "output_type": "stream",
     "text": [
      "200\n",
      "300\n",
      "500\n",
      "1000\n"
     ]
    }
   ],
   "source": [
    "class Point:\n",
    "    def __init__(self,x=0):\n",
    "        self.x=x\n",
    "#         print(x)\n",
    "        \n",
    "    def __str__(self):\n",
    "        return f'{self.x}'\n",
    "    \n",
    "    def __add__(self,other):\n",
    "        y=self.x + other.x\n",
    "#         print(y)\n",
    "        return Point(y)\n",
    "p1=Point(200)\n",
    "print(p1)\n",
    "p2=Point(300)\n",
    "print(p2)\n",
    "p3=Point(500)\n",
    "print(p3)\n",
    "print(p1+p2+p3)"
   ]
  },
  {
   "cell_type": "code",
   "execution_count": 8,
   "metadata": {},
   "outputs": [
    {
     "name": "stdout",
     "output_type": "stream",
     "text": [
      "-100\n"
     ]
    }
   ],
   "source": [
    "class Point:\n",
    "    def __init__(self,x=0):\n",
    "        self.x=x\n",
    "        \n",
    "        \n",
    "#     def __str__(self):\n",
    "#         return f'{self.x}'\n",
    "    \n",
    "    def __sub__(self,other):\n",
    "        x=self.x - other.x\n",
    "        return x\n",
    "p1=Point(200)\n",
    "# print(p1) \n",
    "p2=Point(300)\n",
    "print(p1-p2)"
   ]
  }
 ],
 "metadata": {
  "kernelspec": {
   "display_name": "Python 3",
   "language": "python",
   "name": "python3"
  },
  "language_info": {
   "codemirror_mode": {
    "name": "ipython",
    "version": 3
   },
   "file_extension": ".py",
   "mimetype": "text/x-python",
   "name": "python",
   "nbconvert_exporter": "python",
   "pygments_lexer": "ipython3",
   "version": "3.8.5"
  }
 },
 "nbformat": 4,
 "nbformat_minor": 4
}
