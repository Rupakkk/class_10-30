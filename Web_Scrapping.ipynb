{
 "cells": [
  {
   "cell_type": "code",
   "execution_count": 1,
   "metadata": {},
   "outputs": [
    {
     "data": {
      "text/plain": [
       "<Response [200]>"
      ]
     },
     "execution_count": 1,
     "metadata": {},
     "output_type": "execute_result"
    }
   ],
   "source": [
    "import requests\n",
    "from bs4 import BeautifulSoup\n",
    "response=requests.get('https://www.worldometers.info/coronavirus/')\n",
    "soup=BeautifulSoup(response.text,'html.parser')\n",
    "response"
   ]
  },
  {
   "cell_type": "code",
   "execution_count": 16,
   "metadata": {
    "scrolled": false
   },
   "outputs": [
    {
     "data": {
      "text/html": [
       "<div>\n",
       "<style scoped>\n",
       "    .dataframe tbody tr th:only-of-type {\n",
       "        vertical-align: middle;\n",
       "    }\n",
       "\n",
       "    .dataframe tbody tr th {\n",
       "        vertical-align: top;\n",
       "    }\n",
       "\n",
       "    .dataframe thead th {\n",
       "        text-align: right;\n",
       "    }\n",
       "</style>\n",
       "<table border=\"1\" class=\"dataframe\">\n",
       "  <thead>\n",
       "    <tr style=\"text-align: right;\">\n",
       "      <th></th>\n",
       "      <th>#</th>\n",
       "      <th>Country,Other</th>\n",
       "      <th>TotalCases</th>\n",
       "      <th>NewCases</th>\n",
       "      <th>TotalDeaths</th>\n",
       "      <th>NewDeaths</th>\n",
       "      <th>TotalRecovered</th>\n",
       "      <th>NewRecovered</th>\n",
       "      <th>ActiveCases</th>\n",
       "      <th>Serious,Critical</th>\n",
       "      <th>Tot Cases/1M pop</th>\n",
       "      <th>Deaths/1M pop</th>\n",
       "      <th>TotalTests</th>\n",
       "      <th>Tests/1M pop</th>\n",
       "      <th>Population</th>\n",
       "      <th>Continent</th>\n",
       "      <th>1 Caseevery X ppl</th>\n",
       "    </tr>\n",
       "  </thead>\n",
       "  <tbody>\n",
       "    <tr>\n",
       "      <th>0</th>\n",
       "      <td>NaN</td>\n",
       "      <td>World</td>\n",
       "      <td>113,696,997</td>\n",
       "      <td>+157,637</td>\n",
       "      <td>2,522,032</td>\n",
       "      <td>+3,612</td>\n",
       "      <td>89,248,451</td>\n",
       "      <td>+116,839</td>\n",
       "      <td>21,926,514</td>\n",
       "      <td>91,579</td>\n",
       "      <td>14,586</td>\n",
       "      <td>323.6</td>\n",
       "      <td>NaN</td>\n",
       "      <td>NaN</td>\n",
       "      <td>NaN</td>\n",
       "      <td>All</td>\n",
       "      <td>NaN</td>\n",
       "    </tr>\n",
       "    <tr>\n",
       "      <th>1</th>\n",
       "      <td>1.0</td>\n",
       "      <td>USA</td>\n",
       "      <td>29,202,824</td>\n",
       "      <td>NaN</td>\n",
       "      <td>524,669</td>\n",
       "      <td>NaN</td>\n",
       "      <td>19,632,523</td>\n",
       "      <td>NaN</td>\n",
       "      <td>9,045,632</td>\n",
       "      <td>15,084</td>\n",
       "      <td>87,885</td>\n",
       "      <td>1,579</td>\n",
       "      <td>357,707,996</td>\n",
       "      <td>1,076,515</td>\n",
       "      <td>332,283,263</td>\n",
       "      <td>North America</td>\n",
       "      <td>116331</td>\n",
       "    </tr>\n",
       "    <tr>\n",
       "      <th>2</th>\n",
       "      <td>2.0</td>\n",
       "      <td>India</td>\n",
       "      <td>11,096,731</td>\n",
       "      <td>+291</td>\n",
       "      <td>157,087</td>\n",
       "      <td>NaN</td>\n",
       "      <td>10,775,169</td>\n",
       "      <td>+1,894</td>\n",
       "      <td>164,475</td>\n",
       "      <td>8,944</td>\n",
       "      <td>7,989</td>\n",
       "      <td>113</td>\n",
       "      <td>216,231,106</td>\n",
       "      <td>155,681</td>\n",
       "      <td>1,388,938,259</td>\n",
       "      <td>Asia</td>\n",
       "      <td>1258,8426</td>\n",
       "    </tr>\n",
       "    <tr>\n",
       "      <th>3</th>\n",
       "      <td>3.0</td>\n",
       "      <td>Brazil</td>\n",
       "      <td>10,517,232</td>\n",
       "      <td>NaN</td>\n",
       "      <td>254,263</td>\n",
       "      <td>NaN</td>\n",
       "      <td>9,386,440</td>\n",
       "      <td>NaN</td>\n",
       "      <td>876,529</td>\n",
       "      <td>8,318</td>\n",
       "      <td>49,248</td>\n",
       "      <td>1,191</td>\n",
       "      <td>28,600,000</td>\n",
       "      <td>133,923</td>\n",
       "      <td>213,555,702</td>\n",
       "      <td>South America</td>\n",
       "      <td>208407</td>\n",
       "    </tr>\n",
       "    <tr>\n",
       "      <th>4</th>\n",
       "      <td>4.0</td>\n",
       "      <td>Russia</td>\n",
       "      <td>4,234,720</td>\n",
       "      <td>NaN</td>\n",
       "      <td>85,743</td>\n",
       "      <td>NaN</td>\n",
       "      <td>3,799,406</td>\n",
       "      <td>NaN</td>\n",
       "      <td>349,571</td>\n",
       "      <td>2,300</td>\n",
       "      <td>29,010</td>\n",
       "      <td>587</td>\n",
       "      <td>110,600,000</td>\n",
       "      <td>757,660</td>\n",
       "      <td>145,975,854</td>\n",
       "      <td>Europe</td>\n",
       "      <td>341,7021</td>\n",
       "    </tr>\n",
       "    <tr>\n",
       "      <th>5</th>\n",
       "      <td>5.0</td>\n",
       "      <td>UK</td>\n",
       "      <td>4,170,519</td>\n",
       "      <td>NaN</td>\n",
       "      <td>122,705</td>\n",
       "      <td>NaN</td>\n",
       "      <td>2,846,208</td>\n",
       "      <td>NaN</td>\n",
       "      <td>1,201,606</td>\n",
       "      <td>1,971</td>\n",
       "      <td>61,222</td>\n",
       "      <td>1,801</td>\n",
       "      <td>89,162,545</td>\n",
       "      <td>1,308,878</td>\n",
       "      <td>68,121,360</td>\n",
       "      <td>Europe</td>\n",
       "      <td>165551</td>\n",
       "    </tr>\n",
       "    <tr>\n",
       "      <th>6</th>\n",
       "      <td>6.0</td>\n",
       "      <td>France</td>\n",
       "      <td>3,736,016</td>\n",
       "      <td>NaN</td>\n",
       "      <td>86,332</td>\n",
       "      <td>NaN</td>\n",
       "      <td>254,868</td>\n",
       "      <td>NaN</td>\n",
       "      <td>3,394,816</td>\n",
       "      <td>3,430</td>\n",
       "      <td>57,153</td>\n",
       "      <td>1,321</td>\n",
       "      <td>51,853,607</td>\n",
       "      <td>793,245</td>\n",
       "      <td>65,368,972</td>\n",
       "      <td>Europe</td>\n",
       "      <td>177571</td>\n",
       "    </tr>\n",
       "    <tr>\n",
       "      <th>7</th>\n",
       "      <td>7.0</td>\n",
       "      <td>Spain</td>\n",
       "      <td>3,188,553</td>\n",
       "      <td>NaN</td>\n",
       "      <td>69,142</td>\n",
       "      <td>NaN</td>\n",
       "      <td>2,647,446</td>\n",
       "      <td>NaN</td>\n",
       "      <td>471,965</td>\n",
       "      <td>3,021</td>\n",
       "      <td>68,180</td>\n",
       "      <td>1,478</td>\n",
       "      <td>38,491,517</td>\n",
       "      <td>823,053</td>\n",
       "      <td>46,766,757</td>\n",
       "      <td>Europe</td>\n",
       "      <td>156761</td>\n",
       "    </tr>\n",
       "    <tr>\n",
       "      <th>8</th>\n",
       "      <td>8.0</td>\n",
       "      <td>Italy</td>\n",
       "      <td>2,907,825</td>\n",
       "      <td>NaN</td>\n",
       "      <td>97,507</td>\n",
       "      <td>NaN</td>\n",
       "      <td>2,398,352</td>\n",
       "      <td>NaN</td>\n",
       "      <td>411,966</td>\n",
       "      <td>2,216</td>\n",
       "      <td>48,140</td>\n",
       "      <td>1,614</td>\n",
       "      <td>39,875,863</td>\n",
       "      <td>660,164</td>\n",
       "      <td>60,402,967</td>\n",
       "      <td>Europe</td>\n",
       "      <td>216192</td>\n",
       "    </tr>\n",
       "    <tr>\n",
       "      <th>9</th>\n",
       "      <td>9.0</td>\n",
       "      <td>Turkey</td>\n",
       "      <td>2,693,164</td>\n",
       "      <td>NaN</td>\n",
       "      <td>28,503</td>\n",
       "      <td>NaN</td>\n",
       "      <td>2,565,723</td>\n",
       "      <td>NaN</td>\n",
       "      <td>98,938</td>\n",
       "      <td>1,187</td>\n",
       "      <td>31,708</td>\n",
       "      <td>336</td>\n",
       "      <td>33,065,377</td>\n",
       "      <td>389,296</td>\n",
       "      <td>84,936,363</td>\n",
       "      <td>Asia</td>\n",
       "      <td>322,9803</td>\n",
       "    </tr>\n",
       "    <tr>\n",
       "      <th>10</th>\n",
       "      <td>10.0</td>\n",
       "      <td>Germany</td>\n",
       "      <td>2,444,177</td>\n",
       "      <td>NaN</td>\n",
       "      <td>70,589</td>\n",
       "      <td>NaN</td>\n",
       "      <td>2,243,200</td>\n",
       "      <td>NaN</td>\n",
       "      <td>130,388</td>\n",
       "      <td>2,848</td>\n",
       "      <td>29,111</td>\n",
       "      <td>841</td>\n",
       "      <td>43,950,029</td>\n",
       "      <td>523,458</td>\n",
       "      <td>83,960,923</td>\n",
       "      <td>Europe</td>\n",
       "      <td>341,1892</td>\n",
       "    </tr>\n",
       "    <tr>\n",
       "      <th>11</th>\n",
       "      <td>11.0</td>\n",
       "      <td>Colombia</td>\n",
       "      <td>2,248,135</td>\n",
       "      <td>NaN</td>\n",
       "      <td>59,660</td>\n",
       "      <td>NaN</td>\n",
       "      <td>2,145,450</td>\n",
       "      <td>NaN</td>\n",
       "      <td>43,025</td>\n",
       "      <td>2,240</td>\n",
       "      <td>43,875</td>\n",
       "      <td>1,164</td>\n",
       "      <td>11,427,482</td>\n",
       "      <td>223,019</td>\n",
       "      <td>51,239,855</td>\n",
       "      <td>South America</td>\n",
       "      <td>238594</td>\n",
       "    </tr>\n",
       "    <tr>\n",
       "      <th>12</th>\n",
       "      <td>12.0</td>\n",
       "      <td>Argentina</td>\n",
       "      <td>2,104,197</td>\n",
       "      <td>NaN</td>\n",
       "      <td>51,946</td>\n",
       "      <td>NaN</td>\n",
       "      <td>1,899,087</td>\n",
       "      <td>NaN</td>\n",
       "      <td>153,164</td>\n",
       "      <td>3,494</td>\n",
       "      <td>46,278</td>\n",
       "      <td>1,142</td>\n",
       "      <td>7,405,891</td>\n",
       "      <td>162,878</td>\n",
       "      <td>45,468,950</td>\n",
       "      <td>South America</td>\n",
       "      <td>228756</td>\n",
       "    </tr>\n",
       "    <tr>\n",
       "      <th>13</th>\n",
       "      <td>13.0</td>\n",
       "      <td>Mexico</td>\n",
       "      <td>2,084,128</td>\n",
       "      <td>+7,246</td>\n",
       "      <td>185,257</td>\n",
       "      <td>+783</td>\n",
       "      <td>1,630,002</td>\n",
       "      <td>+4,674</td>\n",
       "      <td>268,869</td>\n",
       "      <td>4,798</td>\n",
       "      <td>16,053</td>\n",
       "      <td>1,427</td>\n",
       "      <td>5,443,167</td>\n",
       "      <td>41,927</td>\n",
       "      <td>129,824,421</td>\n",
       "      <td>North America</td>\n",
       "      <td>6270124</td>\n",
       "    </tr>\n",
       "    <tr>\n",
       "      <th>14</th>\n",
       "      <td>14.0</td>\n",
       "      <td>Poland</td>\n",
       "      <td>1,696,885</td>\n",
       "      <td>NaN</td>\n",
       "      <td>43,656</td>\n",
       "      <td>NaN</td>\n",
       "      <td>1,414,461</td>\n",
       "      <td>NaN</td>\n",
       "      <td>238,768</td>\n",
       "      <td>1,446</td>\n",
       "      <td>44,868</td>\n",
       "      <td>1,154</td>\n",
       "      <td>9,824,524</td>\n",
       "      <td>259,776</td>\n",
       "      <td>37,819,173</td>\n",
       "      <td>Europe</td>\n",
       "      <td>228664</td>\n",
       "    </tr>\n",
       "    <tr>\n",
       "      <th>15</th>\n",
       "      <td>15.0</td>\n",
       "      <td>Iran</td>\n",
       "      <td>1,623,159</td>\n",
       "      <td>NaN</td>\n",
       "      <td>59,980</td>\n",
       "      <td>NaN</td>\n",
       "      <td>1,386,534</td>\n",
       "      <td>NaN</td>\n",
       "      <td>176,645</td>\n",
       "      <td>3,729</td>\n",
       "      <td>19,164</td>\n",
       "      <td>708</td>\n",
       "      <td>10,797,788</td>\n",
       "      <td>127,483</td>\n",
       "      <td>84,699,762</td>\n",
       "      <td>Asia</td>\n",
       "      <td>521,4128</td>\n",
       "    </tr>\n",
       "    <tr>\n",
       "      <th>16</th>\n",
       "      <td>16.0</td>\n",
       "      <td>South Africa</td>\n",
       "      <td>1,512,225</td>\n",
       "      <td>NaN</td>\n",
       "      <td>49,941</td>\n",
       "      <td>NaN</td>\n",
       "      <td>1,429,047</td>\n",
       "      <td>NaN</td>\n",
       "      <td>33,237</td>\n",
       "      <td>546</td>\n",
       "      <td>25,288</td>\n",
       "      <td>835</td>\n",
       "      <td>9,054,643</td>\n",
       "      <td>151,415</td>\n",
       "      <td>59,800,365</td>\n",
       "      <td>Africa</td>\n",
       "      <td>401,1977</td>\n",
       "    </tr>\n",
       "    <tr>\n",
       "      <th>17</th>\n",
       "      <td>17.0</td>\n",
       "      <td>Ukraine</td>\n",
       "      <td>1,342,016</td>\n",
       "      <td>NaN</td>\n",
       "      <td>25,893</td>\n",
       "      <td>NaN</td>\n",
       "      <td>1,168,321</td>\n",
       "      <td>NaN</td>\n",
       "      <td>147,802</td>\n",
       "      <td>177</td>\n",
       "      <td>30,809</td>\n",
       "      <td>594</td>\n",
       "      <td>6,845,974</td>\n",
       "      <td>157,164</td>\n",
       "      <td>43,559,469</td>\n",
       "      <td>Europe</td>\n",
       "      <td>321,6826</td>\n",
       "    </tr>\n",
       "    <tr>\n",
       "      <th>18</th>\n",
       "      <td>18.0</td>\n",
       "      <td>Indonesia</td>\n",
       "      <td>1,329,074</td>\n",
       "      <td>NaN</td>\n",
       "      <td>35,981</td>\n",
       "      <td>NaN</td>\n",
       "      <td>1,136,054</td>\n",
       "      <td>NaN</td>\n",
       "      <td>157,039</td>\n",
       "      <td>NaN</td>\n",
       "      <td>4,825</td>\n",
       "      <td>131</td>\n",
       "      <td>10,763,757</td>\n",
       "      <td>39,080</td>\n",
       "      <td>275,427,405</td>\n",
       "      <td>Asia</td>\n",
       "      <td>2077,65526</td>\n",
       "    </tr>\n",
       "    <tr>\n",
       "      <th>19</th>\n",
       "      <td>19.0</td>\n",
       "      <td>Peru</td>\n",
       "      <td>1,323,863</td>\n",
       "      <td>NaN</td>\n",
       "      <td>46,299</td>\n",
       "      <td>NaN</td>\n",
       "      <td>1,225,994</td>\n",
       "      <td>NaN</td>\n",
       "      <td>51,570</td>\n",
       "      <td>2,141</td>\n",
       "      <td>39,787</td>\n",
       "      <td>1,391</td>\n",
       "      <td>7,541,959</td>\n",
       "      <td>226,665</td>\n",
       "      <td>33,273,645</td>\n",
       "      <td>South America</td>\n",
       "      <td>257194</td>\n",
       "    </tr>\n",
       "    <tr>\n",
       "      <th>20</th>\n",
       "      <td>20.0</td>\n",
       "      <td>Czechia</td>\n",
       "      <td>1,227,595</td>\n",
       "      <td>NaN</td>\n",
       "      <td>20,194</td>\n",
       "      <td>NaN</td>\n",
       "      <td>1,064,022</td>\n",
       "      <td>NaN</td>\n",
       "      <td>143,379</td>\n",
       "      <td>1,507</td>\n",
       "      <td>114,492</td>\n",
       "      <td>1,883</td>\n",
       "      <td>7,972,909</td>\n",
       "      <td>743,595</td>\n",
       "      <td>10,722,114</td>\n",
       "      <td>Europe</td>\n",
       "      <td>95311</td>\n",
       "    </tr>\n",
       "    <tr>\n",
       "      <th>21</th>\n",
       "      <td>21.0</td>\n",
       "      <td>Netherlands</td>\n",
       "      <td>1,084,021</td>\n",
       "      <td>NaN</td>\n",
       "      <td>15,543</td>\n",
       "      <td>NaN</td>\n",
       "      <td>NaN</td>\n",
       "      <td>NaN</td>\n",
       "      <td>NaN</td>\n",
       "      <td>518</td>\n",
       "      <td>63,172</td>\n",
       "      <td>906</td>\n",
       "      <td>6,970,400</td>\n",
       "      <td>406,202</td>\n",
       "      <td>17,159,930</td>\n",
       "      <td>Europe</td>\n",
       "      <td>161,1042</td>\n",
       "    </tr>\n",
       "    <tr>\n",
       "      <th>22</th>\n",
       "      <td>22.0</td>\n",
       "      <td>Canada</td>\n",
       "      <td>864,196</td>\n",
       "      <td>NaN</td>\n",
       "      <td>21,960</td>\n",
       "      <td>NaN</td>\n",
       "      <td>811,372</td>\n",
       "      <td>NaN</td>\n",
       "      <td>30,864</td>\n",
       "      <td>567</td>\n",
       "      <td>22,766</td>\n",
       "      <td>579</td>\n",
       "      <td>24,328,440</td>\n",
       "      <td>640,894</td>\n",
       "      <td>37,960,170</td>\n",
       "      <td>North America</td>\n",
       "      <td>441,7292</td>\n",
       "    </tr>\n",
       "    <tr>\n",
       "      <th>23</th>\n",
       "      <td>23.0</td>\n",
       "      <td>Chile</td>\n",
       "      <td>821,418</td>\n",
       "      <td>NaN</td>\n",
       "      <td>20,476</td>\n",
       "      <td>NaN</td>\n",
       "      <td>776,955</td>\n",
       "      <td>NaN</td>\n",
       "      <td>23,987</td>\n",
       "      <td>1,659</td>\n",
       "      <td>42,728</td>\n",
       "      <td>1,065</td>\n",
       "      <td>9,313,533</td>\n",
       "      <td>484,466</td>\n",
       "      <td>19,224,319</td>\n",
       "      <td>South America</td>\n",
       "      <td>239392</td>\n",
       "    </tr>\n",
       "    <tr>\n",
       "      <th>24</th>\n",
       "      <td>24.0</td>\n",
       "      <td>Portugal</td>\n",
       "      <td>803,844</td>\n",
       "      <td>NaN</td>\n",
       "      <td>16,276</td>\n",
       "      <td>NaN</td>\n",
       "      <td>717,313</td>\n",
       "      <td>NaN</td>\n",
       "      <td>70,255</td>\n",
       "      <td>492</td>\n",
       "      <td>78,986</td>\n",
       "      <td>1,599</td>\n",
       "      <td>8,200,169</td>\n",
       "      <td>805,754</td>\n",
       "      <td>10,177,013</td>\n",
       "      <td>Europe</td>\n",
       "      <td>136251</td>\n",
       "    </tr>\n",
       "    <tr>\n",
       "      <th>25</th>\n",
       "      <td>25.0</td>\n",
       "      <td>Romania</td>\n",
       "      <td>799,164</td>\n",
       "      <td>NaN</td>\n",
       "      <td>20,287</td>\n",
       "      <td>NaN</td>\n",
       "      <td>738,569</td>\n",
       "      <td>NaN</td>\n",
       "      <td>40,308</td>\n",
       "      <td>997</td>\n",
       "      <td>41,726</td>\n",
       "      <td>1,059</td>\n",
       "      <td>6,039,706</td>\n",
       "      <td>315,348</td>\n",
       "      <td>19,152,536</td>\n",
       "      <td>Europe</td>\n",
       "      <td>249443</td>\n",
       "    </tr>\n",
       "    <tr>\n",
       "      <th>26</th>\n",
       "      <td>26.0</td>\n",
       "      <td>Israel</td>\n",
       "      <td>773,335</td>\n",
       "      <td>NaN</td>\n",
       "      <td>5,732</td>\n",
       "      <td>NaN</td>\n",
       "      <td>727,802</td>\n",
       "      <td>NaN</td>\n",
       "      <td>39,801</td>\n",
       "      <td>760</td>\n",
       "      <td>84,080</td>\n",
       "      <td>623</td>\n",
       "      <td>11,934,829</td>\n",
       "      <td>1,297,604</td>\n",
       "      <td>9,197,590</td>\n",
       "      <td>Asia</td>\n",
       "      <td>121,6051</td>\n",
       "    </tr>\n",
       "    <tr>\n",
       "      <th>27</th>\n",
       "      <td>27.0</td>\n",
       "      <td>Belgium</td>\n",
       "      <td>769,414</td>\n",
       "      <td>+2,760</td>\n",
       "      <td>22,052</td>\n",
       "      <td>+18</td>\n",
       "      <td>52,359</td>\n",
       "      <td>+126</td>\n",
       "      <td>695,003</td>\n",
       "      <td>393</td>\n",
       "      <td>66,198</td>\n",
       "      <td>1,897</td>\n",
       "      <td>9,432,460</td>\n",
       "      <td>811,539</td>\n",
       "      <td>11,622,926</td>\n",
       "      <td>Europe</td>\n",
       "      <td>155271</td>\n",
       "    </tr>\n",
       "    <tr>\n",
       "      <th>28</th>\n",
       "      <td>28.0</td>\n",
       "      <td>Iraq</td>\n",
       "      <td>692,241</td>\n",
       "      <td>NaN</td>\n",
       "      <td>13,383</td>\n",
       "      <td>NaN</td>\n",
       "      <td>632,998</td>\n",
       "      <td>NaN</td>\n",
       "      <td>45,860</td>\n",
       "      <td>373</td>\n",
       "      <td>16,961</td>\n",
       "      <td>328</td>\n",
       "      <td>6,810,718</td>\n",
       "      <td>166,877</td>\n",
       "      <td>40,812,799</td>\n",
       "      <td>Asia</td>\n",
       "      <td>593,0506</td>\n",
       "    </tr>\n",
       "    <tr>\n",
       "      <th>29</th>\n",
       "      <td>29.0</td>\n",
       "      <td>Sweden</td>\n",
       "      <td>657,309</td>\n",
       "      <td>NaN</td>\n",
       "      <td>12,826</td>\n",
       "      <td>NaN</td>\n",
       "      <td>NaN</td>\n",
       "      <td>NaN</td>\n",
       "      <td>NaN</td>\n",
       "      <td>223</td>\n",
       "      <td>64,818</td>\n",
       "      <td>1,265</td>\n",
       "      <td>5,917,399</td>\n",
       "      <td>583,524</td>\n",
       "      <td>10,140,806</td>\n",
       "      <td>Europe</td>\n",
       "      <td>157912</td>\n",
       "    </tr>\n",
       "    <tr>\n",
       "      <th>30</th>\n",
       "      <td>30.0</td>\n",
       "      <td>Pakistan</td>\n",
       "      <td>579,973</td>\n",
       "      <td>+1,176</td>\n",
       "      <td>12,860</td>\n",
       "      <td>+23</td>\n",
       "      <td>545,277</td>\n",
       "      <td>+871</td>\n",
       "      <td>21,836</td>\n",
       "      <td>1,562</td>\n",
       "      <td>2,593</td>\n",
       "      <td>57</td>\n",
       "      <td>8,951,838</td>\n",
       "      <td>40,017</td>\n",
       "      <td>223,702,202</td>\n",
       "      <td>Asia</td>\n",
       "      <td>38617,39525</td>\n",
       "    </tr>\n",
       "    <tr>\n",
       "      <th>31</th>\n",
       "      <td>31.0</td>\n",
       "      <td>Philippines</td>\n",
       "      <td>574,247</td>\n",
       "      <td>NaN</td>\n",
       "      <td>12,289</td>\n",
       "      <td>NaN</td>\n",
       "      <td>524,865</td>\n",
       "      <td>NaN</td>\n",
       "      <td>37,093</td>\n",
       "      <td>785</td>\n",
       "      <td>5,195</td>\n",
       "      <td>111</td>\n",
       "      <td>8,753,147</td>\n",
       "      <td>79,186</td>\n",
       "      <td>110,539,720</td>\n",
       "      <td>Asia</td>\n",
       "      <td>1928,99513</td>\n",
       "    </tr>\n",
       "    <tr>\n",
       "      <th>32</th>\n",
       "      <td>32.0</td>\n",
       "      <td>Switzerland</td>\n",
       "      <td>554,932</td>\n",
       "      <td>NaN</td>\n",
       "      <td>9,966</td>\n",
       "      <td>NaN</td>\n",
       "      <td>507,856</td>\n",
       "      <td>NaN</td>\n",
       "      <td>37,110</td>\n",
       "      <td>180</td>\n",
       "      <td>63,812</td>\n",
       "      <td>1,146</td>\n",
       "      <td>5,025,401</td>\n",
       "      <td>577,875</td>\n",
       "      <td>8,696,351</td>\n",
       "      <td>Europe</td>\n",
       "      <td>168732</td>\n",
       "    </tr>\n",
       "    <tr>\n",
       "      <th>33</th>\n",
       "      <td>33.0</td>\n",
       "      <td>Bangladesh</td>\n",
       "      <td>545,831</td>\n",
       "      <td>NaN</td>\n",
       "      <td>8,400</td>\n",
       "      <td>NaN</td>\n",
       "      <td>496,107</td>\n",
       "      <td>NaN</td>\n",
       "      <td>41,324</td>\n",
       "      <td>NaN</td>\n",
       "      <td>3,293</td>\n",
       "      <td>51</td>\n",
       "      <td>4,030,616</td>\n",
       "      <td>24,315</td>\n",
       "      <td>165,769,700</td>\n",
       "      <td>Asia</td>\n",
       "      <td>30419,73441</td>\n",
       "    </tr>\n",
       "    <tr>\n",
       "      <th>34</th>\n",
       "      <td>34.0</td>\n",
       "      <td>Morocco</td>\n",
       "      <td>483,410</td>\n",
       "      <td>NaN</td>\n",
       "      <td>8,615</td>\n",
       "      <td>NaN</td>\n",
       "      <td>468,807</td>\n",
       "      <td>NaN</td>\n",
       "      <td>5,988</td>\n",
       "      <td>285</td>\n",
       "      <td>12,995</td>\n",
       "      <td>232</td>\n",
       "      <td>5,647,131</td>\n",
       "      <td>151,811</td>\n",
       "      <td>37,198,337</td>\n",
       "      <td>Africa</td>\n",
       "      <td>774,3187</td>\n",
       "    </tr>\n",
       "    <tr>\n",
       "      <th>35</th>\n",
       "      <td>35.0</td>\n",
       "      <td>Austria</td>\n",
       "      <td>457,317</td>\n",
       "      <td>NaN</td>\n",
       "      <td>8,538</td>\n",
       "      <td>NaN</td>\n",
       "      <td>428,904</td>\n",
       "      <td>NaN</td>\n",
       "      <td>19,875</td>\n",
       "      <td>264</td>\n",
       "      <td>50,586</td>\n",
       "      <td>944</td>\n",
       "      <td>5,341,373</td>\n",
       "      <td>590,840</td>\n",
       "      <td>9,040,305</td>\n",
       "      <td>Europe</td>\n",
       "      <td>201,0592</td>\n",
       "    </tr>\n",
       "    <tr>\n",
       "      <th>36</th>\n",
       "      <td>36.0</td>\n",
       "      <td>Serbia</td>\n",
       "      <td>456,450</td>\n",
       "      <td>NaN</td>\n",
       "      <td>4,429</td>\n",
       "      <td>NaN</td>\n",
       "      <td>400,347</td>\n",
       "      <td>NaN</td>\n",
       "      <td>51,674</td>\n",
       "      <td>160</td>\n",
       "      <td>52,381</td>\n",
       "      <td>508</td>\n",
       "      <td>2,930,139</td>\n",
       "      <td>336,255</td>\n",
       "      <td>8,714,045</td>\n",
       "      <td>Europe</td>\n",
       "      <td>191,9673</td>\n",
       "    </tr>\n",
       "    <tr>\n",
       "      <th>37</th>\n",
       "      <td>37.0</td>\n",
       "      <td>Japan</td>\n",
       "      <td>430,539</td>\n",
       "      <td>NaN</td>\n",
       "      <td>7,807</td>\n",
       "      <td>NaN</td>\n",
       "      <td>408,020</td>\n",
       "      <td>NaN</td>\n",
       "      <td>14,712</td>\n",
       "      <td>440</td>\n",
       "      <td>3,411</td>\n",
       "      <td>62</td>\n",
       "      <td>8,203,285</td>\n",
       "      <td>64,992</td>\n",
       "      <td>126,219,952</td>\n",
       "      <td>Asia</td>\n",
       "      <td>29316,16815</td>\n",
       "    </tr>\n",
       "    <tr>\n",
       "      <th>38</th>\n",
       "      <td>38.0</td>\n",
       "      <td>Hungary</td>\n",
       "      <td>424,130</td>\n",
       "      <td>NaN</td>\n",
       "      <td>14,902</td>\n",
       "      <td>NaN</td>\n",
       "      <td>319,691</td>\n",
       "      <td>NaN</td>\n",
       "      <td>89,537</td>\n",
       "      <td>482</td>\n",
       "      <td>43,978</td>\n",
       "      <td>1,545</td>\n",
       "      <td>3,632,712</td>\n",
       "      <td>376,677</td>\n",
       "      <td>9,644,104</td>\n",
       "      <td>Europe</td>\n",
       "      <td>236473</td>\n",
       "    </tr>\n",
       "    <tr>\n",
       "      <th>39</th>\n",
       "      <td>39.0</td>\n",
       "      <td>UAE</td>\n",
       "      <td>388,594</td>\n",
       "      <td>NaN</td>\n",
       "      <td>1,213</td>\n",
       "      <td>NaN</td>\n",
       "      <td>379,708</td>\n",
       "      <td>NaN</td>\n",
       "      <td>7,673</td>\n",
       "      <td>NaN</td>\n",
       "      <td>38,980</td>\n",
       "      <td>122</td>\n",
       "      <td>30,439,712</td>\n",
       "      <td>3,053,438</td>\n",
       "      <td>9,968,996</td>\n",
       "      <td>Asia</td>\n",
       "      <td>268,2180</td>\n",
       "    </tr>\n",
       "    <tr>\n",
       "      <th>40</th>\n",
       "      <td>40.0</td>\n",
       "      <td>Jordan</td>\n",
       "      <td>386,496</td>\n",
       "      <td>NaN</td>\n",
       "      <td>4,675</td>\n",
       "      <td>NaN</td>\n",
       "      <td>346,287</td>\n",
       "      <td>NaN</td>\n",
       "      <td>35,534</td>\n",
       "      <td>284</td>\n",
       "      <td>37,634</td>\n",
       "      <td>455</td>\n",
       "      <td>4,566,735</td>\n",
       "      <td>444,675</td>\n",
       "      <td>10,269,828</td>\n",
       "      <td>Asia</td>\n",
       "      <td>272,1972</td>\n",
       "    </tr>\n",
       "    <tr>\n",
       "      <th>41</th>\n",
       "      <td>41.0</td>\n",
       "      <td>Saudi Arabia</td>\n",
       "      <td>377,061</td>\n",
       "      <td>NaN</td>\n",
       "      <td>6,488</td>\n",
       "      <td>NaN</td>\n",
       "      <td>368,011</td>\n",
       "      <td>NaN</td>\n",
       "      <td>2,562</td>\n",
       "      <td>475</td>\n",
       "      <td>10,721</td>\n",
       "      <td>184</td>\n",
       "      <td>13,594,146</td>\n",
       "      <td>386,529</td>\n",
       "      <td>35,169,802</td>\n",
       "      <td>Asia</td>\n",
       "      <td>935,4213</td>\n",
       "    </tr>\n",
       "    <tr>\n",
       "      <th>42</th>\n",
       "      <td>42.0</td>\n",
       "      <td>Lebanon</td>\n",
       "      <td>372,792</td>\n",
       "      <td>NaN</td>\n",
       "      <td>4,652</td>\n",
       "      <td>NaN</td>\n",
       "      <td>288,505</td>\n",
       "      <td>NaN</td>\n",
       "      <td>79,635</td>\n",
       "      <td>912</td>\n",
       "      <td>54,781</td>\n",
       "      <td>684</td>\n",
       "      <td>3,008,920</td>\n",
       "      <td>442,151</td>\n",
       "      <td>6,805,183</td>\n",
       "      <td>Asia</td>\n",
       "      <td>181,4632</td>\n",
       "    </tr>\n",
       "    <tr>\n",
       "      <th>43</th>\n",
       "      <td>43.0</td>\n",
       "      <td>Panama</td>\n",
       "      <td>340,445</td>\n",
       "      <td>NaN</td>\n",
       "      <td>5,831</td>\n",
       "      <td>NaN</td>\n",
       "      <td>325,491</td>\n",
       "      <td>NaN</td>\n",
       "      <td>9,123</td>\n",
       "      <td>195</td>\n",
       "      <td>78,095</td>\n",
       "      <td>1,338</td>\n",
       "      <td>1,903,339</td>\n",
       "      <td>436,610</td>\n",
       "      <td>4,359,353</td>\n",
       "      <td>North America</td>\n",
       "      <td>137482</td>\n",
       "    </tr>\n",
       "    <tr>\n",
       "      <th>44</th>\n",
       "      <td>44.0</td>\n",
       "      <td>Slovakia</td>\n",
       "      <td>306,268</td>\n",
       "      <td>NaN</td>\n",
       "      <td>7,075</td>\n",
       "      <td>NaN</td>\n",
       "      <td>255,300</td>\n",
       "      <td>NaN</td>\n",
       "      <td>43,893</td>\n",
       "      <td>669</td>\n",
       "      <td>56,079</td>\n",
       "      <td>1,295</td>\n",
       "      <td>2,037,732</td>\n",
       "      <td>373,116</td>\n",
       "      <td>5,461,391</td>\n",
       "      <td>Europe</td>\n",
       "      <td>187723</td>\n",
       "    </tr>\n",
       "    <tr>\n",
       "      <th>45</th>\n",
       "      <td>45.0</td>\n",
       "      <td>Malaysia</td>\n",
       "      <td>298,315</td>\n",
       "      <td>NaN</td>\n",
       "      <td>1,121</td>\n",
       "      <td>NaN</td>\n",
       "      <td>270,166</td>\n",
       "      <td>NaN</td>\n",
       "      <td>27,028</td>\n",
       "      <td>190</td>\n",
       "      <td>9,140</td>\n",
       "      <td>34</td>\n",
       "      <td>6,138,208</td>\n",
       "      <td>188,066</td>\n",
       "      <td>32,638,635</td>\n",
       "      <td>Asia</td>\n",
       "      <td>10929,1165</td>\n",
       "    </tr>\n",
       "    <tr>\n",
       "      <th>46</th>\n",
       "      <td>46.0</td>\n",
       "      <td>Belarus</td>\n",
       "      <td>285,959</td>\n",
       "      <td>NaN</td>\n",
       "      <td>1,966</td>\n",
       "      <td>NaN</td>\n",
       "      <td>276,234</td>\n",
       "      <td>NaN</td>\n",
       "      <td>7,759</td>\n",
       "      <td>NaN</td>\n",
       "      <td>30,269</td>\n",
       "      <td>208</td>\n",
       "      <td>4,879,018</td>\n",
       "      <td>516,448</td>\n",
       "      <td>9,447,266</td>\n",
       "      <td>Europe</td>\n",
       "      <td>334,8052</td>\n",
       "    </tr>\n",
       "    <tr>\n",
       "      <th>47</th>\n",
       "      <td>47.0</td>\n",
       "      <td>Ecuador</td>\n",
       "      <td>284,347</td>\n",
       "      <td>NaN</td>\n",
       "      <td>15,779</td>\n",
       "      <td>NaN</td>\n",
       "      <td>238,817</td>\n",
       "      <td>NaN</td>\n",
       "      <td>29,751</td>\n",
       "      <td>531</td>\n",
       "      <td>15,958</td>\n",
       "      <td>886</td>\n",
       "      <td>1,005,188</td>\n",
       "      <td>56,411</td>\n",
       "      <td>17,818,969</td>\n",
       "      <td>South America</td>\n",
       "      <td>631,12918</td>\n",
       "    </tr>\n",
       "    <tr>\n",
       "      <th>48</th>\n",
       "      <td>48.0</td>\n",
       "      <td>Nepal</td>\n",
       "      <td>274,065</td>\n",
       "      <td>NaN</td>\n",
       "      <td>2,773</td>\n",
       "      <td>NaN</td>\n",
       "      <td>270,325</td>\n",
       "      <td>NaN</td>\n",
       "      <td>967</td>\n",
       "      <td>NaN</td>\n",
       "      <td>9,297</td>\n",
       "      <td>94</td>\n",
       "      <td>2,160,404</td>\n",
       "      <td>73,283</td>\n",
       "      <td>29,480,392</td>\n",
       "      <td>Asia</td>\n",
       "      <td>10810,63114</td>\n",
       "    </tr>\n",
       "    <tr>\n",
       "      <th>49</th>\n",
       "      <td>49.0</td>\n",
       "      <td>Georgia</td>\n",
       "      <td>270,510</td>\n",
       "      <td>NaN</td>\n",
       "      <td>3,499</td>\n",
       "      <td>NaN</td>\n",
       "      <td>264,589</td>\n",
       "      <td>NaN</td>\n",
       "      <td>2,422</td>\n",
       "      <td>NaN</td>\n",
       "      <td>67,897</td>\n",
       "      <td>878</td>\n",
       "      <td>2,684,212</td>\n",
       "      <td>673,732</td>\n",
       "      <td>3,984,097</td>\n",
       "      <td>Asia</td>\n",
       "      <td>151,1391</td>\n",
       "    </tr>\n",
       "  </tbody>\n",
       "</table>\n",
       "</div>"
      ],
      "text/plain": [
       "       # Country,Other   TotalCases  NewCases TotalDeaths NewDeaths  \\\n",
       "0    NaN         World  113,696,997  +157,637   2,522,032    +3,612   \n",
       "1    1.0           USA   29,202,824       NaN    524,669        NaN   \n",
       "2    2.0         India   11,096,731      +291    157,087        NaN   \n",
       "3    3.0        Brazil   10,517,232       NaN    254,263        NaN   \n",
       "4    4.0        Russia    4,234,720       NaN     85,743        NaN   \n",
       "5    5.0            UK    4,170,519       NaN    122,705        NaN   \n",
       "6    6.0        France    3,736,016       NaN     86,332        NaN   \n",
       "7    7.0         Spain    3,188,553       NaN     69,142        NaN   \n",
       "8    8.0         Italy    2,907,825       NaN     97,507        NaN   \n",
       "9    9.0        Turkey    2,693,164       NaN     28,503        NaN   \n",
       "10  10.0       Germany    2,444,177       NaN     70,589        NaN   \n",
       "11  11.0      Colombia    2,248,135       NaN     59,660        NaN   \n",
       "12  12.0     Argentina    2,104,197       NaN     51,946        NaN   \n",
       "13  13.0        Mexico    2,084,128    +7,246    185,257       +783   \n",
       "14  14.0        Poland    1,696,885       NaN     43,656        NaN   \n",
       "15  15.0          Iran    1,623,159       NaN     59,980        NaN   \n",
       "16  16.0  South Africa    1,512,225       NaN     49,941        NaN   \n",
       "17  17.0       Ukraine    1,342,016       NaN     25,893        NaN   \n",
       "18  18.0     Indonesia    1,329,074       NaN     35,981        NaN   \n",
       "19  19.0          Peru    1,323,863       NaN     46,299        NaN   \n",
       "20  20.0       Czechia    1,227,595       NaN     20,194        NaN   \n",
       "21  21.0   Netherlands    1,084,021       NaN     15,543        NaN   \n",
       "22  22.0        Canada      864,196       NaN     21,960        NaN   \n",
       "23  23.0         Chile      821,418       NaN     20,476        NaN   \n",
       "24  24.0      Portugal      803,844       NaN     16,276        NaN   \n",
       "25  25.0       Romania      799,164       NaN     20,287        NaN   \n",
       "26  26.0        Israel      773,335       NaN      5,732        NaN   \n",
       "27  27.0       Belgium      769,414    +2,760     22,052        +18   \n",
       "28  28.0          Iraq      692,241       NaN     13,383        NaN   \n",
       "29  29.0        Sweden      657,309       NaN     12,826        NaN   \n",
       "30  30.0      Pakistan      579,973    +1,176     12,860        +23   \n",
       "31  31.0   Philippines      574,247       NaN     12,289        NaN   \n",
       "32  32.0   Switzerland      554,932       NaN      9,966        NaN   \n",
       "33  33.0    Bangladesh      545,831       NaN      8,400        NaN   \n",
       "34  34.0       Morocco      483,410       NaN      8,615        NaN   \n",
       "35  35.0       Austria      457,317       NaN      8,538        NaN   \n",
       "36  36.0        Serbia      456,450       NaN      4,429        NaN   \n",
       "37  37.0         Japan      430,539       NaN      7,807        NaN   \n",
       "38  38.0       Hungary      424,130       NaN     14,902        NaN   \n",
       "39  39.0           UAE      388,594       NaN      1,213        NaN   \n",
       "40  40.0        Jordan      386,496       NaN      4,675        NaN   \n",
       "41  41.0  Saudi Arabia      377,061       NaN      6,488        NaN   \n",
       "42  42.0       Lebanon      372,792       NaN      4,652        NaN   \n",
       "43  43.0        Panama      340,445       NaN      5,831        NaN   \n",
       "44  44.0      Slovakia      306,268       NaN      7,075        NaN   \n",
       "45  45.0      Malaysia      298,315       NaN      1,121        NaN   \n",
       "46  46.0       Belarus      285,959       NaN      1,966        NaN   \n",
       "47  47.0       Ecuador      284,347       NaN     15,779        NaN   \n",
       "48  48.0         Nepal      274,065       NaN      2,773        NaN   \n",
       "49  49.0       Georgia      270,510       NaN      3,499        NaN   \n",
       "\n",
       "   TotalRecovered NewRecovered ActiveCases Serious,Critical Tot Cases/1M pop  \\\n",
       "0      89,248,451     +116,839  21,926,514           91,579           14,586   \n",
       "1      19,632,523          NaN   9,045,632           15,084           87,885   \n",
       "2      10,775,169       +1,894     164,475            8,944            7,989   \n",
       "3       9,386,440          NaN     876,529            8,318           49,248   \n",
       "4       3,799,406          NaN     349,571            2,300           29,010   \n",
       "5       2,846,208          NaN   1,201,606            1,971           61,222   \n",
       "6         254,868          NaN   3,394,816            3,430           57,153   \n",
       "7       2,647,446          NaN     471,965            3,021           68,180   \n",
       "8       2,398,352          NaN     411,966            2,216           48,140   \n",
       "9       2,565,723          NaN      98,938            1,187           31,708   \n",
       "10      2,243,200          NaN     130,388            2,848           29,111   \n",
       "11      2,145,450          NaN      43,025            2,240           43,875   \n",
       "12      1,899,087          NaN     153,164            3,494           46,278   \n",
       "13      1,630,002       +4,674     268,869            4,798           16,053   \n",
       "14      1,414,461          NaN     238,768            1,446           44,868   \n",
       "15      1,386,534          NaN     176,645            3,729           19,164   \n",
       "16      1,429,047          NaN      33,237              546           25,288   \n",
       "17      1,168,321          NaN     147,802              177           30,809   \n",
       "18      1,136,054          NaN     157,039              NaN            4,825   \n",
       "19      1,225,994          NaN      51,570            2,141           39,787   \n",
       "20      1,064,022          NaN     143,379            1,507          114,492   \n",
       "21            NaN          NaN         NaN              518           63,172   \n",
       "22        811,372          NaN      30,864              567           22,766   \n",
       "23        776,955          NaN      23,987            1,659           42,728   \n",
       "24        717,313          NaN      70,255              492           78,986   \n",
       "25        738,569          NaN      40,308              997           41,726   \n",
       "26        727,802          NaN      39,801              760           84,080   \n",
       "27         52,359         +126     695,003              393           66,198   \n",
       "28        632,998          NaN      45,860              373           16,961   \n",
       "29            NaN          NaN         NaN              223           64,818   \n",
       "30        545,277         +871      21,836            1,562            2,593   \n",
       "31        524,865          NaN      37,093              785            5,195   \n",
       "32        507,856          NaN      37,110              180           63,812   \n",
       "33        496,107          NaN      41,324              NaN            3,293   \n",
       "34        468,807          NaN       5,988              285           12,995   \n",
       "35        428,904          NaN      19,875              264           50,586   \n",
       "36        400,347          NaN      51,674              160           52,381   \n",
       "37        408,020          NaN      14,712              440            3,411   \n",
       "38        319,691          NaN      89,537              482           43,978   \n",
       "39        379,708          NaN       7,673              NaN           38,980   \n",
       "40        346,287          NaN      35,534              284           37,634   \n",
       "41        368,011          NaN       2,562              475           10,721   \n",
       "42        288,505          NaN      79,635              912           54,781   \n",
       "43        325,491          NaN       9,123              195           78,095   \n",
       "44        255,300          NaN      43,893              669           56,079   \n",
       "45        270,166          NaN      27,028              190            9,140   \n",
       "46        276,234          NaN       7,759              NaN           30,269   \n",
       "47        238,817          NaN      29,751              531           15,958   \n",
       "48        270,325          NaN         967              NaN            9,297   \n",
       "49        264,589          NaN       2,422              NaN           67,897   \n",
       "\n",
       "   Deaths/1M pop   TotalTests Tests/1M pop      Population      Continent  \\\n",
       "0          323.6          NaN          NaN             NaN            All   \n",
       "1          1,579  357,707,996    1,076,515    332,283,263   North America   \n",
       "2            113  216,231,106      155,681  1,388,938,259            Asia   \n",
       "3          1,191   28,600,000      133,923    213,555,702   South America   \n",
       "4            587  110,600,000      757,660    145,975,854          Europe   \n",
       "5          1,801   89,162,545    1,308,878     68,121,360          Europe   \n",
       "6          1,321   51,853,607      793,245     65,368,972          Europe   \n",
       "7          1,478   38,491,517      823,053     46,766,757          Europe   \n",
       "8          1,614   39,875,863      660,164     60,402,967          Europe   \n",
       "9            336   33,065,377      389,296     84,936,363            Asia   \n",
       "10           841   43,950,029      523,458     83,960,923          Europe   \n",
       "11         1,164   11,427,482      223,019     51,239,855   South America   \n",
       "12         1,142    7,405,891      162,878     45,468,950   South America   \n",
       "13         1,427    5,443,167       41,927    129,824,421   North America   \n",
       "14         1,154    9,824,524      259,776     37,819,173          Europe   \n",
       "15           708   10,797,788      127,483     84,699,762            Asia   \n",
       "16           835    9,054,643      151,415     59,800,365          Africa   \n",
       "17           594    6,845,974      157,164     43,559,469          Europe   \n",
       "18           131   10,763,757       39,080    275,427,405            Asia   \n",
       "19         1,391    7,541,959      226,665     33,273,645   South America   \n",
       "20         1,883    7,972,909      743,595     10,722,114          Europe   \n",
       "21           906    6,970,400      406,202     17,159,930          Europe   \n",
       "22           579   24,328,440      640,894     37,960,170   North America   \n",
       "23         1,065    9,313,533      484,466     19,224,319   South America   \n",
       "24         1,599    8,200,169      805,754     10,177,013          Europe   \n",
       "25         1,059    6,039,706      315,348     19,152,536          Europe   \n",
       "26           623   11,934,829    1,297,604      9,197,590            Asia   \n",
       "27         1,897    9,432,460      811,539     11,622,926          Europe   \n",
       "28           328    6,810,718      166,877     40,812,799            Asia   \n",
       "29         1,265    5,917,399      583,524     10,140,806          Europe   \n",
       "30            57    8,951,838       40,017    223,702,202            Asia   \n",
       "31           111    8,753,147       79,186    110,539,720            Asia   \n",
       "32         1,146    5,025,401      577,875      8,696,351          Europe   \n",
       "33            51    4,030,616       24,315    165,769,700            Asia   \n",
       "34           232    5,647,131      151,811     37,198,337          Africa   \n",
       "35           944    5,341,373      590,840      9,040,305          Europe   \n",
       "36           508    2,930,139      336,255      8,714,045          Europe   \n",
       "37            62    8,203,285       64,992    126,219,952            Asia   \n",
       "38         1,545    3,632,712      376,677      9,644,104          Europe   \n",
       "39           122   30,439,712    3,053,438      9,968,996            Asia   \n",
       "40           455    4,566,735      444,675     10,269,828            Asia   \n",
       "41           184   13,594,146      386,529     35,169,802            Asia   \n",
       "42           684    3,008,920      442,151      6,805,183            Asia   \n",
       "43         1,338    1,903,339      436,610      4,359,353   North America   \n",
       "44         1,295    2,037,732      373,116      5,461,391          Europe   \n",
       "45            34    6,138,208      188,066     32,638,635            Asia   \n",
       "46           208    4,879,018      516,448      9,447,266          Europe   \n",
       "47           886    1,005,188       56,411     17,818,969   South America   \n",
       "48            94    2,160,404       73,283     29,480,392            Asia   \n",
       "49           878    2,684,212      673,732      3,984,097            Asia   \n",
       "\n",
       "   1 Caseevery X ppl  \n",
       "0                NaN  \n",
       "1             116331  \n",
       "2          1258,8426  \n",
       "3             208407  \n",
       "4           341,7021  \n",
       "5             165551  \n",
       "6             177571  \n",
       "7             156761  \n",
       "8             216192  \n",
       "9           322,9803  \n",
       "10          341,1892  \n",
       "11            238594  \n",
       "12            228756  \n",
       "13           6270124  \n",
       "14            228664  \n",
       "15          521,4128  \n",
       "16          401,1977  \n",
       "17          321,6826  \n",
       "18        2077,65526  \n",
       "19            257194  \n",
       "20             95311  \n",
       "21          161,1042  \n",
       "22          441,7292  \n",
       "23            239392  \n",
       "24            136251  \n",
       "25            249443  \n",
       "26          121,6051  \n",
       "27            155271  \n",
       "28          593,0506  \n",
       "29            157912  \n",
       "30       38617,39525  \n",
       "31        1928,99513  \n",
       "32            168732  \n",
       "33       30419,73441  \n",
       "34          774,3187  \n",
       "35          201,0592  \n",
       "36          191,9673  \n",
       "37       29316,16815  \n",
       "38            236473  \n",
       "39          268,2180  \n",
       "40          272,1972  \n",
       "41          935,4213  \n",
       "42          181,4632  \n",
       "43            137482  \n",
       "44            187723  \n",
       "45        10929,1165  \n",
       "46          334,8052  \n",
       "47         631,12918  \n",
       "48       10810,63114  \n",
       "49          151,1391  "
      ]
     },
     "execution_count": 16,
     "metadata": {},
     "output_type": "execute_result"
    }
   ],
   "source": [
    "table=soup.table\n",
    "tags=table.find_all('tr')\n",
    "\n",
    "data=[]\n",
    "for i in tags:\n",
    "    data.append(i.text)\n",
    "    \n",
    "data[0]='\\n#\\nCountry,Other\\nTotalCases\\nNewCases\\nTotalDeaths\\nNewDeaths\\nTotalRecovered\\nNewRecovered\\nActiveCases\\nSerious,Critical\\nTot Cases/1M pop\\nDeaths/1M pop\\nTotalTests\\nTests/1M pop\\nPopulation\\nContinent\\n1 Caseevery X ppl\\n'\n",
    "data[8]= '\\n\\nWorld\\n113,696,997\\n+157,637\\n2,522,032\\n+3,612\\n89,248,451\\n+116,839\\n21,926,514\\n91,579\\n14,586\\n323.6\\n\\n\\n\\nAll\\n\\n'    \n",
    "del data[1:8]\n",
    "data=data[0:-7]  \n",
    "data[-1]='\\n\\nTotal:\\n33,424,479\\n+8,180\\n755,723\\n+800\\n23,067,337\\n+5,768\\n9,601,419\\n22,044\\n\\n\\n\\n\\n\\nNorth America\\n\\n'\n",
    "data\n",
    "final_output=[]\n",
    "for i in data:\n",
    "  output = i.split('\\n')[1:-1]\n",
    "  final_output.append(output)\n",
    "final_output\n",
    "\n",
    "import csv\n",
    "with open('corona2.csv','w') as f:\n",
    "    x=csv.writer(f)\n",
    "    for i in final_output:\n",
    "        x.writerow(i)\n",
    "\n",
    "import pandas as pd \n",
    "df=pd.read_csv('corona2.csv',encoding='latin',nrows=50)\n",
    "df\n",
    "   \n",
    "\n",
    "    "
   ]
  },
  {
   "cell_type": "code",
   "execution_count": 17,
   "metadata": {},
   "outputs": [
    {
     "data": {
      "application/vnd.plotly.v1+json": {
       "config": {
        "plotlyServerURL": "https://plot.ly"
       },
       "data": [
        {
         "alignmentgroup": "True",
         "hovertemplate": "Country,Other=%{x}<br>Deaths/1M pop=%{y}<extra></extra>",
         "legendgroup": "",
         "marker": {
          "color": "#636efa"
         },
         "name": "",
         "offsetgroup": "",
         "orientation": "v",
         "showlegend": false,
         "textposition": "auto",
         "type": "bar",
         "x": [
          "World",
          "USA",
          "India",
          "Brazil",
          "Russia",
          "UK",
          "France",
          "Spain",
          "Italy",
          "Turkey",
          "Germany",
          "Colombia",
          "Argentina",
          "Mexico",
          "Poland",
          "Iran",
          "South Africa",
          "Ukraine",
          "Indonesia",
          "Peru",
          "Czechia",
          "Netherlands",
          "Canada",
          "Chile",
          "Portugal",
          "Romania",
          "Israel",
          "Belgium",
          "Iraq",
          "Sweden",
          "Pakistan",
          "Philippines",
          "Switzerland",
          "Bangladesh",
          "Morocco",
          "Austria",
          "Serbia",
          "Japan",
          "Hungary",
          "UAE",
          "Jordan",
          "Saudi Arabia",
          "Lebanon",
          "Panama",
          "Slovakia",
          "Malaysia",
          "Belarus",
          "Ecuador",
          "Nepal",
          "Georgia"
         ],
         "xaxis": "x",
         "y": [
          "323.6",
          "1,579",
          "113",
          "1,191",
          "587",
          "1,801",
          "1,321",
          "1,478",
          "1,614",
          "336",
          "841",
          "1,164",
          "1,142",
          "1,427",
          "1,154",
          "708",
          "835",
          "594",
          "131",
          "1,391",
          "1,883",
          "906",
          "579",
          "1,065",
          "1,599",
          "1,059",
          "623",
          "1,897",
          "328",
          "1,265",
          "57",
          "111",
          "1,146",
          "51",
          "232",
          "944",
          "508",
          "62",
          "1,545",
          "122",
          "455",
          "184",
          "684",
          "1,338",
          "1,295",
          "34",
          "208",
          "886",
          "94",
          "878"
         ],
         "yaxis": "y"
        }
       ],
       "layout": {
        "barmode": "relative",
        "legend": {
         "tracegroupgap": 0
        },
        "margin": {
         "t": 60
        },
        "template": {
         "data": {
          "bar": [
           {
            "error_x": {
             "color": "#2a3f5f"
            },
            "error_y": {
             "color": "#2a3f5f"
            },
            "marker": {
             "line": {
              "color": "#E5ECF6",
              "width": 0.5
             }
            },
            "type": "bar"
           }
          ],
          "barpolar": [
           {
            "marker": {
             "line": {
              "color": "#E5ECF6",
              "width": 0.5
             }
            },
            "type": "barpolar"
           }
          ],
          "carpet": [
           {
            "aaxis": {
             "endlinecolor": "#2a3f5f",
             "gridcolor": "white",
             "linecolor": "white",
             "minorgridcolor": "white",
             "startlinecolor": "#2a3f5f"
            },
            "baxis": {
             "endlinecolor": "#2a3f5f",
             "gridcolor": "white",
             "linecolor": "white",
             "minorgridcolor": "white",
             "startlinecolor": "#2a3f5f"
            },
            "type": "carpet"
           }
          ],
          "choropleth": [
           {
            "colorbar": {
             "outlinewidth": 0,
             "ticks": ""
            },
            "type": "choropleth"
           }
          ],
          "contour": [
           {
            "colorbar": {
             "outlinewidth": 0,
             "ticks": ""
            },
            "colorscale": [
             [
              0,
              "#0d0887"
             ],
             [
              0.1111111111111111,
              "#46039f"
             ],
             [
              0.2222222222222222,
              "#7201a8"
             ],
             [
              0.3333333333333333,
              "#9c179e"
             ],
             [
              0.4444444444444444,
              "#bd3786"
             ],
             [
              0.5555555555555556,
              "#d8576b"
             ],
             [
              0.6666666666666666,
              "#ed7953"
             ],
             [
              0.7777777777777778,
              "#fb9f3a"
             ],
             [
              0.8888888888888888,
              "#fdca26"
             ],
             [
              1,
              "#f0f921"
             ]
            ],
            "type": "contour"
           }
          ],
          "contourcarpet": [
           {
            "colorbar": {
             "outlinewidth": 0,
             "ticks": ""
            },
            "type": "contourcarpet"
           }
          ],
          "heatmap": [
           {
            "colorbar": {
             "outlinewidth": 0,
             "ticks": ""
            },
            "colorscale": [
             [
              0,
              "#0d0887"
             ],
             [
              0.1111111111111111,
              "#46039f"
             ],
             [
              0.2222222222222222,
              "#7201a8"
             ],
             [
              0.3333333333333333,
              "#9c179e"
             ],
             [
              0.4444444444444444,
              "#bd3786"
             ],
             [
              0.5555555555555556,
              "#d8576b"
             ],
             [
              0.6666666666666666,
              "#ed7953"
             ],
             [
              0.7777777777777778,
              "#fb9f3a"
             ],
             [
              0.8888888888888888,
              "#fdca26"
             ],
             [
              1,
              "#f0f921"
             ]
            ],
            "type": "heatmap"
           }
          ],
          "heatmapgl": [
           {
            "colorbar": {
             "outlinewidth": 0,
             "ticks": ""
            },
            "colorscale": [
             [
              0,
              "#0d0887"
             ],
             [
              0.1111111111111111,
              "#46039f"
             ],
             [
              0.2222222222222222,
              "#7201a8"
             ],
             [
              0.3333333333333333,
              "#9c179e"
             ],
             [
              0.4444444444444444,
              "#bd3786"
             ],
             [
              0.5555555555555556,
              "#d8576b"
             ],
             [
              0.6666666666666666,
              "#ed7953"
             ],
             [
              0.7777777777777778,
              "#fb9f3a"
             ],
             [
              0.8888888888888888,
              "#fdca26"
             ],
             [
              1,
              "#f0f921"
             ]
            ],
            "type": "heatmapgl"
           }
          ],
          "histogram": [
           {
            "marker": {
             "colorbar": {
              "outlinewidth": 0,
              "ticks": ""
             }
            },
            "type": "histogram"
           }
          ],
          "histogram2d": [
           {
            "colorbar": {
             "outlinewidth": 0,
             "ticks": ""
            },
            "colorscale": [
             [
              0,
              "#0d0887"
             ],
             [
              0.1111111111111111,
              "#46039f"
             ],
             [
              0.2222222222222222,
              "#7201a8"
             ],
             [
              0.3333333333333333,
              "#9c179e"
             ],
             [
              0.4444444444444444,
              "#bd3786"
             ],
             [
              0.5555555555555556,
              "#d8576b"
             ],
             [
              0.6666666666666666,
              "#ed7953"
             ],
             [
              0.7777777777777778,
              "#fb9f3a"
             ],
             [
              0.8888888888888888,
              "#fdca26"
             ],
             [
              1,
              "#f0f921"
             ]
            ],
            "type": "histogram2d"
           }
          ],
          "histogram2dcontour": [
           {
            "colorbar": {
             "outlinewidth": 0,
             "ticks": ""
            },
            "colorscale": [
             [
              0,
              "#0d0887"
             ],
             [
              0.1111111111111111,
              "#46039f"
             ],
             [
              0.2222222222222222,
              "#7201a8"
             ],
             [
              0.3333333333333333,
              "#9c179e"
             ],
             [
              0.4444444444444444,
              "#bd3786"
             ],
             [
              0.5555555555555556,
              "#d8576b"
             ],
             [
              0.6666666666666666,
              "#ed7953"
             ],
             [
              0.7777777777777778,
              "#fb9f3a"
             ],
             [
              0.8888888888888888,
              "#fdca26"
             ],
             [
              1,
              "#f0f921"
             ]
            ],
            "type": "histogram2dcontour"
           }
          ],
          "mesh3d": [
           {
            "colorbar": {
             "outlinewidth": 0,
             "ticks": ""
            },
            "type": "mesh3d"
           }
          ],
          "parcoords": [
           {
            "line": {
             "colorbar": {
              "outlinewidth": 0,
              "ticks": ""
             }
            },
            "type": "parcoords"
           }
          ],
          "pie": [
           {
            "automargin": true,
            "type": "pie"
           }
          ],
          "scatter": [
           {
            "marker": {
             "colorbar": {
              "outlinewidth": 0,
              "ticks": ""
             }
            },
            "type": "scatter"
           }
          ],
          "scatter3d": [
           {
            "line": {
             "colorbar": {
              "outlinewidth": 0,
              "ticks": ""
             }
            },
            "marker": {
             "colorbar": {
              "outlinewidth": 0,
              "ticks": ""
             }
            },
            "type": "scatter3d"
           }
          ],
          "scattercarpet": [
           {
            "marker": {
             "colorbar": {
              "outlinewidth": 0,
              "ticks": ""
             }
            },
            "type": "scattercarpet"
           }
          ],
          "scattergeo": [
           {
            "marker": {
             "colorbar": {
              "outlinewidth": 0,
              "ticks": ""
             }
            },
            "type": "scattergeo"
           }
          ],
          "scattergl": [
           {
            "marker": {
             "colorbar": {
              "outlinewidth": 0,
              "ticks": ""
             }
            },
            "type": "scattergl"
           }
          ],
          "scattermapbox": [
           {
            "marker": {
             "colorbar": {
              "outlinewidth": 0,
              "ticks": ""
             }
            },
            "type": "scattermapbox"
           }
          ],
          "scatterpolar": [
           {
            "marker": {
             "colorbar": {
              "outlinewidth": 0,
              "ticks": ""
             }
            },
            "type": "scatterpolar"
           }
          ],
          "scatterpolargl": [
           {
            "marker": {
             "colorbar": {
              "outlinewidth": 0,
              "ticks": ""
             }
            },
            "type": "scatterpolargl"
           }
          ],
          "scatterternary": [
           {
            "marker": {
             "colorbar": {
              "outlinewidth": 0,
              "ticks": ""
             }
            },
            "type": "scatterternary"
           }
          ],
          "surface": [
           {
            "colorbar": {
             "outlinewidth": 0,
             "ticks": ""
            },
            "colorscale": [
             [
              0,
              "#0d0887"
             ],
             [
              0.1111111111111111,
              "#46039f"
             ],
             [
              0.2222222222222222,
              "#7201a8"
             ],
             [
              0.3333333333333333,
              "#9c179e"
             ],
             [
              0.4444444444444444,
              "#bd3786"
             ],
             [
              0.5555555555555556,
              "#d8576b"
             ],
             [
              0.6666666666666666,
              "#ed7953"
             ],
             [
              0.7777777777777778,
              "#fb9f3a"
             ],
             [
              0.8888888888888888,
              "#fdca26"
             ],
             [
              1,
              "#f0f921"
             ]
            ],
            "type": "surface"
           }
          ],
          "table": [
           {
            "cells": {
             "fill": {
              "color": "#EBF0F8"
             },
             "line": {
              "color": "white"
             }
            },
            "header": {
             "fill": {
              "color": "#C8D4E3"
             },
             "line": {
              "color": "white"
             }
            },
            "type": "table"
           }
          ]
         },
         "layout": {
          "annotationdefaults": {
           "arrowcolor": "#2a3f5f",
           "arrowhead": 0,
           "arrowwidth": 1
          },
          "autotypenumbers": "strict",
          "coloraxis": {
           "colorbar": {
            "outlinewidth": 0,
            "ticks": ""
           }
          },
          "colorscale": {
           "diverging": [
            [
             0,
             "#8e0152"
            ],
            [
             0.1,
             "#c51b7d"
            ],
            [
             0.2,
             "#de77ae"
            ],
            [
             0.3,
             "#f1b6da"
            ],
            [
             0.4,
             "#fde0ef"
            ],
            [
             0.5,
             "#f7f7f7"
            ],
            [
             0.6,
             "#e6f5d0"
            ],
            [
             0.7,
             "#b8e186"
            ],
            [
             0.8,
             "#7fbc41"
            ],
            [
             0.9,
             "#4d9221"
            ],
            [
             1,
             "#276419"
            ]
           ],
           "sequential": [
            [
             0,
             "#0d0887"
            ],
            [
             0.1111111111111111,
             "#46039f"
            ],
            [
             0.2222222222222222,
             "#7201a8"
            ],
            [
             0.3333333333333333,
             "#9c179e"
            ],
            [
             0.4444444444444444,
             "#bd3786"
            ],
            [
             0.5555555555555556,
             "#d8576b"
            ],
            [
             0.6666666666666666,
             "#ed7953"
            ],
            [
             0.7777777777777778,
             "#fb9f3a"
            ],
            [
             0.8888888888888888,
             "#fdca26"
            ],
            [
             1,
             "#f0f921"
            ]
           ],
           "sequentialminus": [
            [
             0,
             "#0d0887"
            ],
            [
             0.1111111111111111,
             "#46039f"
            ],
            [
             0.2222222222222222,
             "#7201a8"
            ],
            [
             0.3333333333333333,
             "#9c179e"
            ],
            [
             0.4444444444444444,
             "#bd3786"
            ],
            [
             0.5555555555555556,
             "#d8576b"
            ],
            [
             0.6666666666666666,
             "#ed7953"
            ],
            [
             0.7777777777777778,
             "#fb9f3a"
            ],
            [
             0.8888888888888888,
             "#fdca26"
            ],
            [
             1,
             "#f0f921"
            ]
           ]
          },
          "colorway": [
           "#636efa",
           "#EF553B",
           "#00cc96",
           "#ab63fa",
           "#FFA15A",
           "#19d3f3",
           "#FF6692",
           "#B6E880",
           "#FF97FF",
           "#FECB52"
          ],
          "font": {
           "color": "#2a3f5f"
          },
          "geo": {
           "bgcolor": "white",
           "lakecolor": "white",
           "landcolor": "#E5ECF6",
           "showlakes": true,
           "showland": true,
           "subunitcolor": "white"
          },
          "hoverlabel": {
           "align": "left"
          },
          "hovermode": "closest",
          "mapbox": {
           "style": "light"
          },
          "paper_bgcolor": "white",
          "plot_bgcolor": "#E5ECF6",
          "polar": {
           "angularaxis": {
            "gridcolor": "white",
            "linecolor": "white",
            "ticks": ""
           },
           "bgcolor": "#E5ECF6",
           "radialaxis": {
            "gridcolor": "white",
            "linecolor": "white",
            "ticks": ""
           }
          },
          "scene": {
           "xaxis": {
            "backgroundcolor": "#E5ECF6",
            "gridcolor": "white",
            "gridwidth": 2,
            "linecolor": "white",
            "showbackground": true,
            "ticks": "",
            "zerolinecolor": "white"
           },
           "yaxis": {
            "backgroundcolor": "#E5ECF6",
            "gridcolor": "white",
            "gridwidth": 2,
            "linecolor": "white",
            "showbackground": true,
            "ticks": "",
            "zerolinecolor": "white"
           },
           "zaxis": {
            "backgroundcolor": "#E5ECF6",
            "gridcolor": "white",
            "gridwidth": 2,
            "linecolor": "white",
            "showbackground": true,
            "ticks": "",
            "zerolinecolor": "white"
           }
          },
          "shapedefaults": {
           "line": {
            "color": "#2a3f5f"
           }
          },
          "ternary": {
           "aaxis": {
            "gridcolor": "white",
            "linecolor": "white",
            "ticks": ""
           },
           "baxis": {
            "gridcolor": "white",
            "linecolor": "white",
            "ticks": ""
           },
           "bgcolor": "#E5ECF6",
           "caxis": {
            "gridcolor": "white",
            "linecolor": "white",
            "ticks": ""
           }
          },
          "title": {
           "x": 0.05
          },
          "xaxis": {
           "automargin": true,
           "gridcolor": "white",
           "linecolor": "white",
           "ticks": "",
           "title": {
            "standoff": 15
           },
           "zerolinecolor": "white",
           "zerolinewidth": 2
          },
          "yaxis": {
           "automargin": true,
           "gridcolor": "white",
           "linecolor": "white",
           "ticks": "",
           "title": {
            "standoff": 15
           },
           "zerolinecolor": "white",
           "zerolinewidth": 2
          }
         }
        },
        "xaxis": {
         "anchor": "y",
         "domain": [
          0,
          1
         ],
         "title": {
          "text": "Country,Other"
         }
        },
        "yaxis": {
         "anchor": "x",
         "domain": [
          0,
          1
         ],
         "title": {
          "text": "Deaths/1M pop"
         }
        }
       }
      },
      "text/html": [
       "<div>                            <div id=\"b9d0a3b9-57d1-4147-97f9-574e85c9595b\" class=\"plotly-graph-div\" style=\"height:525px; width:100%;\"></div>            <script type=\"text/javascript\">                require([\"plotly\"], function(Plotly) {                    window.PLOTLYENV=window.PLOTLYENV || {};                                    if (document.getElementById(\"b9d0a3b9-57d1-4147-97f9-574e85c9595b\")) {                    Plotly.newPlot(                        \"b9d0a3b9-57d1-4147-97f9-574e85c9595b\",                        [{\"alignmentgroup\": \"True\", \"hovertemplate\": \"Country,Other=%{x}<br>Deaths/1M pop=%{y}<extra></extra>\", \"legendgroup\": \"\", \"marker\": {\"color\": \"#636efa\"}, \"name\": \"\", \"offsetgroup\": \"\", \"orientation\": \"v\", \"showlegend\": false, \"textposition\": \"auto\", \"type\": \"bar\", \"x\": [\"World\", \"USA\", \"India\", \"Brazil\", \"Russia\", \"UK\", \"France\", \"Spain\", \"Italy\", \"Turkey\", \"Germany\", \"Colombia\", \"Argentina\", \"Mexico\", \"Poland\", \"Iran\", \"South Africa\", \"Ukraine\", \"Indonesia\", \"Peru\", \"Czechia\", \"Netherlands\", \"Canada\", \"Chile\", \"Portugal\", \"Romania\", \"Israel\", \"Belgium\", \"Iraq\", \"Sweden\", \"Pakistan\", \"Philippines\", \"Switzerland\", \"Bangladesh\", \"Morocco\", \"Austria\", \"Serbia\", \"Japan\", \"Hungary\", \"UAE\", \"Jordan\", \"Saudi Arabia\", \"Lebanon\", \"Panama\", \"Slovakia\", \"Malaysia\", \"Belarus\", \"Ecuador\", \"Nepal\", \"Georgia\"], \"xaxis\": \"x\", \"y\": [\"323.6\", \"1,579\", \"113\", \"1,191\", \"587\", \"1,801\", \"1,321\", \"1,478\", \"1,614\", \"336\", \"841\", \"1,164\", \"1,142\", \"1,427\", \"1,154\", \"708\", \"835\", \"594\", \"131\", \"1,391\", \"1,883\", \"906\", \"579\", \"1,065\", \"1,599\", \"1,059\", \"623\", \"1,897\", \"328\", \"1,265\", \"57\", \"111\", \"1,146\", \"51\", \"232\", \"944\", \"508\", \"62\", \"1,545\", \"122\", \"455\", \"184\", \"684\", \"1,338\", \"1,295\", \"34\", \"208\", \"886\", \"94\", \"878\"], \"yaxis\": \"y\"}],                        {\"barmode\": \"relative\", \"legend\": {\"tracegroupgap\": 0}, \"margin\": {\"t\": 60}, \"template\": {\"data\": {\"bar\": [{\"error_x\": {\"color\": \"#2a3f5f\"}, \"error_y\": {\"color\": \"#2a3f5f\"}, \"marker\": {\"line\": {\"color\": \"#E5ECF6\", \"width\": 0.5}}, \"type\": \"bar\"}], \"barpolar\": [{\"marker\": {\"line\": {\"color\": \"#E5ECF6\", \"width\": 0.5}}, \"type\": \"barpolar\"}], \"carpet\": [{\"aaxis\": {\"endlinecolor\": \"#2a3f5f\", \"gridcolor\": \"white\", \"linecolor\": \"white\", \"minorgridcolor\": \"white\", \"startlinecolor\": \"#2a3f5f\"}, \"baxis\": {\"endlinecolor\": \"#2a3f5f\", \"gridcolor\": \"white\", \"linecolor\": \"white\", \"minorgridcolor\": \"white\", \"startlinecolor\": \"#2a3f5f\"}, \"type\": \"carpet\"}], \"choropleth\": [{\"colorbar\": {\"outlinewidth\": 0, \"ticks\": \"\"}, \"type\": \"choropleth\"}], \"contour\": [{\"colorbar\": {\"outlinewidth\": 0, \"ticks\": \"\"}, \"colorscale\": [[0.0, \"#0d0887\"], [0.1111111111111111, \"#46039f\"], [0.2222222222222222, \"#7201a8\"], [0.3333333333333333, \"#9c179e\"], [0.4444444444444444, \"#bd3786\"], [0.5555555555555556, \"#d8576b\"], [0.6666666666666666, \"#ed7953\"], [0.7777777777777778, \"#fb9f3a\"], [0.8888888888888888, \"#fdca26\"], [1.0, \"#f0f921\"]], \"type\": \"contour\"}], \"contourcarpet\": [{\"colorbar\": {\"outlinewidth\": 0, \"ticks\": \"\"}, \"type\": \"contourcarpet\"}], \"heatmap\": [{\"colorbar\": {\"outlinewidth\": 0, \"ticks\": \"\"}, \"colorscale\": [[0.0, \"#0d0887\"], [0.1111111111111111, \"#46039f\"], [0.2222222222222222, \"#7201a8\"], [0.3333333333333333, \"#9c179e\"], [0.4444444444444444, \"#bd3786\"], [0.5555555555555556, \"#d8576b\"], [0.6666666666666666, \"#ed7953\"], [0.7777777777777778, \"#fb9f3a\"], [0.8888888888888888, \"#fdca26\"], [1.0, \"#f0f921\"]], \"type\": \"heatmap\"}], \"heatmapgl\": [{\"colorbar\": {\"outlinewidth\": 0, \"ticks\": \"\"}, \"colorscale\": [[0.0, \"#0d0887\"], [0.1111111111111111, \"#46039f\"], [0.2222222222222222, \"#7201a8\"], [0.3333333333333333, \"#9c179e\"], [0.4444444444444444, \"#bd3786\"], [0.5555555555555556, \"#d8576b\"], [0.6666666666666666, \"#ed7953\"], [0.7777777777777778, \"#fb9f3a\"], [0.8888888888888888, \"#fdca26\"], [1.0, \"#f0f921\"]], \"type\": \"heatmapgl\"}], \"histogram\": [{\"marker\": {\"colorbar\": {\"outlinewidth\": 0, \"ticks\": \"\"}}, \"type\": \"histogram\"}], \"histogram2d\": [{\"colorbar\": {\"outlinewidth\": 0, \"ticks\": \"\"}, \"colorscale\": [[0.0, \"#0d0887\"], [0.1111111111111111, \"#46039f\"], [0.2222222222222222, \"#7201a8\"], [0.3333333333333333, \"#9c179e\"], [0.4444444444444444, \"#bd3786\"], [0.5555555555555556, \"#d8576b\"], [0.6666666666666666, \"#ed7953\"], [0.7777777777777778, \"#fb9f3a\"], [0.8888888888888888, \"#fdca26\"], [1.0, \"#f0f921\"]], \"type\": \"histogram2d\"}], \"histogram2dcontour\": [{\"colorbar\": {\"outlinewidth\": 0, \"ticks\": \"\"}, \"colorscale\": [[0.0, \"#0d0887\"], [0.1111111111111111, \"#46039f\"], [0.2222222222222222, \"#7201a8\"], [0.3333333333333333, \"#9c179e\"], [0.4444444444444444, \"#bd3786\"], [0.5555555555555556, \"#d8576b\"], [0.6666666666666666, \"#ed7953\"], [0.7777777777777778, \"#fb9f3a\"], [0.8888888888888888, \"#fdca26\"], [1.0, \"#f0f921\"]], \"type\": \"histogram2dcontour\"}], \"mesh3d\": [{\"colorbar\": {\"outlinewidth\": 0, \"ticks\": \"\"}, \"type\": \"mesh3d\"}], \"parcoords\": [{\"line\": {\"colorbar\": {\"outlinewidth\": 0, \"ticks\": \"\"}}, \"type\": \"parcoords\"}], \"pie\": [{\"automargin\": true, \"type\": \"pie\"}], \"scatter\": [{\"marker\": {\"colorbar\": {\"outlinewidth\": 0, \"ticks\": \"\"}}, \"type\": \"scatter\"}], \"scatter3d\": [{\"line\": {\"colorbar\": {\"outlinewidth\": 0, \"ticks\": \"\"}}, \"marker\": {\"colorbar\": {\"outlinewidth\": 0, \"ticks\": \"\"}}, \"type\": \"scatter3d\"}], \"scattercarpet\": [{\"marker\": {\"colorbar\": {\"outlinewidth\": 0, \"ticks\": \"\"}}, \"type\": \"scattercarpet\"}], \"scattergeo\": [{\"marker\": {\"colorbar\": {\"outlinewidth\": 0, \"ticks\": \"\"}}, \"type\": \"scattergeo\"}], \"scattergl\": [{\"marker\": {\"colorbar\": {\"outlinewidth\": 0, \"ticks\": \"\"}}, \"type\": \"scattergl\"}], \"scattermapbox\": [{\"marker\": {\"colorbar\": {\"outlinewidth\": 0, \"ticks\": \"\"}}, \"type\": \"scattermapbox\"}], \"scatterpolar\": [{\"marker\": {\"colorbar\": {\"outlinewidth\": 0, \"ticks\": \"\"}}, \"type\": \"scatterpolar\"}], \"scatterpolargl\": [{\"marker\": {\"colorbar\": {\"outlinewidth\": 0, \"ticks\": \"\"}}, \"type\": \"scatterpolargl\"}], \"scatterternary\": [{\"marker\": {\"colorbar\": {\"outlinewidth\": 0, \"ticks\": \"\"}}, \"type\": \"scatterternary\"}], \"surface\": [{\"colorbar\": {\"outlinewidth\": 0, \"ticks\": \"\"}, \"colorscale\": [[0.0, \"#0d0887\"], [0.1111111111111111, \"#46039f\"], [0.2222222222222222, \"#7201a8\"], [0.3333333333333333, \"#9c179e\"], [0.4444444444444444, \"#bd3786\"], [0.5555555555555556, \"#d8576b\"], [0.6666666666666666, \"#ed7953\"], [0.7777777777777778, \"#fb9f3a\"], [0.8888888888888888, \"#fdca26\"], [1.0, \"#f0f921\"]], \"type\": \"surface\"}], \"table\": [{\"cells\": {\"fill\": {\"color\": \"#EBF0F8\"}, \"line\": {\"color\": \"white\"}}, \"header\": {\"fill\": {\"color\": \"#C8D4E3\"}, \"line\": {\"color\": \"white\"}}, \"type\": \"table\"}]}, \"layout\": {\"annotationdefaults\": {\"arrowcolor\": \"#2a3f5f\", \"arrowhead\": 0, \"arrowwidth\": 1}, \"autotypenumbers\": \"strict\", \"coloraxis\": {\"colorbar\": {\"outlinewidth\": 0, \"ticks\": \"\"}}, \"colorscale\": {\"diverging\": [[0, \"#8e0152\"], [0.1, \"#c51b7d\"], [0.2, \"#de77ae\"], [0.3, \"#f1b6da\"], [0.4, \"#fde0ef\"], [0.5, \"#f7f7f7\"], [0.6, \"#e6f5d0\"], [0.7, \"#b8e186\"], [0.8, \"#7fbc41\"], [0.9, \"#4d9221\"], [1, \"#276419\"]], \"sequential\": [[0.0, \"#0d0887\"], [0.1111111111111111, \"#46039f\"], [0.2222222222222222, \"#7201a8\"], [0.3333333333333333, \"#9c179e\"], [0.4444444444444444, \"#bd3786\"], [0.5555555555555556, \"#d8576b\"], [0.6666666666666666, \"#ed7953\"], [0.7777777777777778, \"#fb9f3a\"], [0.8888888888888888, \"#fdca26\"], [1.0, \"#f0f921\"]], \"sequentialminus\": [[0.0, \"#0d0887\"], [0.1111111111111111, \"#46039f\"], [0.2222222222222222, \"#7201a8\"], [0.3333333333333333, \"#9c179e\"], [0.4444444444444444, \"#bd3786\"], [0.5555555555555556, \"#d8576b\"], [0.6666666666666666, \"#ed7953\"], [0.7777777777777778, \"#fb9f3a\"], [0.8888888888888888, \"#fdca26\"], [1.0, \"#f0f921\"]]}, \"colorway\": [\"#636efa\", \"#EF553B\", \"#00cc96\", \"#ab63fa\", \"#FFA15A\", \"#19d3f3\", \"#FF6692\", \"#B6E880\", \"#FF97FF\", \"#FECB52\"], \"font\": {\"color\": \"#2a3f5f\"}, \"geo\": {\"bgcolor\": \"white\", \"lakecolor\": \"white\", \"landcolor\": \"#E5ECF6\", \"showlakes\": true, \"showland\": true, \"subunitcolor\": \"white\"}, \"hoverlabel\": {\"align\": \"left\"}, \"hovermode\": \"closest\", \"mapbox\": {\"style\": \"light\"}, \"paper_bgcolor\": \"white\", \"plot_bgcolor\": \"#E5ECF6\", \"polar\": {\"angularaxis\": {\"gridcolor\": \"white\", \"linecolor\": \"white\", \"ticks\": \"\"}, \"bgcolor\": \"#E5ECF6\", \"radialaxis\": {\"gridcolor\": \"white\", \"linecolor\": \"white\", \"ticks\": \"\"}}, \"scene\": {\"xaxis\": {\"backgroundcolor\": \"#E5ECF6\", \"gridcolor\": \"white\", \"gridwidth\": 2, \"linecolor\": \"white\", \"showbackground\": true, \"ticks\": \"\", \"zerolinecolor\": \"white\"}, \"yaxis\": {\"backgroundcolor\": \"#E5ECF6\", \"gridcolor\": \"white\", \"gridwidth\": 2, \"linecolor\": \"white\", \"showbackground\": true, \"ticks\": \"\", \"zerolinecolor\": \"white\"}, \"zaxis\": {\"backgroundcolor\": \"#E5ECF6\", \"gridcolor\": \"white\", \"gridwidth\": 2, \"linecolor\": \"white\", \"showbackground\": true, \"ticks\": \"\", \"zerolinecolor\": \"white\"}}, \"shapedefaults\": {\"line\": {\"color\": \"#2a3f5f\"}}, \"ternary\": {\"aaxis\": {\"gridcolor\": \"white\", \"linecolor\": \"white\", \"ticks\": \"\"}, \"baxis\": {\"gridcolor\": \"white\", \"linecolor\": \"white\", \"ticks\": \"\"}, \"bgcolor\": \"#E5ECF6\", \"caxis\": {\"gridcolor\": \"white\", \"linecolor\": \"white\", \"ticks\": \"\"}}, \"title\": {\"x\": 0.05}, \"xaxis\": {\"automargin\": true, \"gridcolor\": \"white\", \"linecolor\": \"white\", \"ticks\": \"\", \"title\": {\"standoff\": 15}, \"zerolinecolor\": \"white\", \"zerolinewidth\": 2}, \"yaxis\": {\"automargin\": true, \"gridcolor\": \"white\", \"linecolor\": \"white\", \"ticks\": \"\", \"title\": {\"standoff\": 15}, \"zerolinecolor\": \"white\", \"zerolinewidth\": 2}}}, \"xaxis\": {\"anchor\": \"y\", \"domain\": [0.0, 1.0], \"title\": {\"text\": \"Country,Other\"}}, \"yaxis\": {\"anchor\": \"x\", \"domain\": [0.0, 1.0], \"title\": {\"text\": \"Deaths/1M pop\"}}},                        {\"responsive\": true}                    ).then(function(){\n",
       "                            \n",
       "var gd = document.getElementById('b9d0a3b9-57d1-4147-97f9-574e85c9595b');\n",
       "var x = new MutationObserver(function (mutations, observer) {{\n",
       "        var display = window.getComputedStyle(gd).display;\n",
       "        if (!display || display === 'none') {{\n",
       "            console.log([gd, 'removed!']);\n",
       "            Plotly.purge(gd);\n",
       "            observer.disconnect();\n",
       "        }}\n",
       "}});\n",
       "\n",
       "// Listen for the removal of the full notebook cells\n",
       "var notebookContainer = gd.closest('#notebook-container');\n",
       "if (notebookContainer) {{\n",
       "    x.observe(notebookContainer, {childList: true});\n",
       "}}\n",
       "\n",
       "// Listen for the clearing of the current output cell\n",
       "var outputEl = gd.closest('.output');\n",
       "if (outputEl) {{\n",
       "    x.observe(outputEl, {childList: true});\n",
       "}}\n",
       "\n",
       "                        })                };                });            </script>        </div>"
      ]
     },
     "metadata": {},
     "output_type": "display_data"
    }
   ],
   "source": [
    "import plotly.express as px\n",
    "# data_canada = px.data.gapminder().query(\"country == 'Canada'\")\n",
    "fig = px.bar(df, x='Country,Other', y='Deaths/1M pop')\n",
    "fig.show()\n",
    "\n",
    "# import plotly.express as px\n",
    "# # This dataframe has 244 lines, but 4 distinct values for `day`\n",
    "# fig = px.pie(df, values='TotalCases', names='Continent')\n",
    "# fig.show()"
   ]
  }
 ],
 "metadata": {
  "kernelspec": {
   "display_name": "Python 3",
   "language": "python",
   "name": "python3"
  },
  "language_info": {
   "codemirror_mode": {
    "name": "ipython",
    "version": 3
   },
   "file_extension": ".py",
   "mimetype": "text/x-python",
   "name": "python",
   "nbconvert_exporter": "python",
   "pygments_lexer": "ipython3",
   "version": "3.8.5"
  }
 },
 "nbformat": 4,
 "nbformat_minor": 4
}
