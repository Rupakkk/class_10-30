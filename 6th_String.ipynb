{
 "cells": [
  {
   "cell_type": "code",
   "execution_count": 3,
   "metadata": {},
   "outputs": [
    {
     "name": "stdout",
     "output_type": "stream",
     "text": [
      "Hello World\n",
      "<class 'str'>\n"
     ]
    }
   ],
   "source": [
    "a='Hello World'\n",
    "print(a)\n",
    "print(type(a))"
   ]
  },
  {
   "cell_type": "code",
   "execution_count": 2,
   "metadata": {},
   "outputs": [
    {
     "name": "stdout",
     "output_type": "stream",
     "text": [
      "HelloWorld\n",
      "sython\n"
     ]
    }
   ],
   "source": [
    "a='Hello'\n",
    "b='World'\n",
    "print(a+b)\n",
    "c='sy'  'thon'  #they get automatically concatenated  \n",
    "print(c)"
   ]
  },
  {
   "cell_type": "code",
   "execution_count": 8,
   "metadata": {},
   "outputs": [
    {
     "name": "stdout",
     "output_type": "stream",
     "text": [
      "Hello World \n",
      "Hello World \n",
      "\n"
     ]
    }
   ],
   "source": [
    "a='Hello World \\n'\n",
    "print(a*2)"
   ]
  },
  {
   "cell_type": "code",
   "execution_count": 8,
   "metadata": {},
   "outputs": [
    {
     "name": "stdout",
     "output_type": "stream",
     "text": [
      "yhton\n"
     ]
    }
   ],
   "source": [
    "a='Pyhton'\n",
    "print(a[1:20]) "
   ]
  },
  {
   "cell_type": "code",
   "execution_count": 1,
   "metadata": {
    "collapsed": true
   },
   "outputs": [
    {
     "name": "stdout",
     "output_type": "stream",
     "text": [
      "0\n",
      "False\n",
      "-1\n",
      "4\n",
      "False\n",
      "The sum of 1 + 2 is 3\n",
      "True\n",
      "False\n"
     ]
    }
   ],
   "source": [
    "a='Hellol'\n",
    "print(a.count('y'))\n",
    "print(a.endswith('o'))\n",
    "print(a.find('b'))   #find returns -1 if no value found\n",
    "print(a.find('o'))\n",
    "# print(a.index('b'))  #index gives value error\n",
    "print('b' in a )\n",
    "print(\"The sum of 1 + 2 is {0}\".format(1+2)) #Perform a string formatting operation\n",
    "print(a.isalnum())\n",
    "print(a.islower())"
   ]
  },
  {
   "cell_type": "code",
   "execution_count": 3,
   "metadata": {},
   "outputs": [
    {
     "name": "stdout",
     "output_type": "stream",
     "text": [
      "hello, goodbye, what, hey, how\n",
      "['hello', 'goodbye', 'what', 'hey', 'how']\n",
      "<class 'str'>\n"
     ]
    }
   ],
   "source": [
    "a=['hello','goodbye','what','hey','how']\n",
    "print(', '.join(a))                         #important\n",
    "b=str(a)\n",
    "print(b)\n",
    "print(type(b))"
   ]
  },
  {
   "cell_type": "code",
   "execution_count": 47,
   "metadata": {},
   "outputs": [
    {
     "name": "stdout",
     "output_type": "stream",
     "text": [
      "P\n",
      "t\n",
      "['Py', 'hon', 'gg', '']\n"
     ]
    }
   ],
   "source": [
    "a='Pythontggt'\n",
    "print(a[0])\n",
    "print(a[-1])\n",
    "a=a.split('t')  #when the seperator is==last item , then it creates an empty string at last like below\n",
    "print(a)"
   ]
  },
  {
   "cell_type": "code",
   "execution_count": 16,
   "metadata": {},
   "outputs": [
    {
     "name": "stdout",
     "output_type": "stream",
     "text": [
      "Hello\n",
      " Worl\n",
      " World this is Pytho\n",
      " World this is Python\n"
     ]
    }
   ],
   "source": [
    "a='Hello World this is Python'\n",
    "print(a[0:5])\n",
    "print(a[5:10])\n",
    "print(a[5:-1])\n",
    "print(a[5:])\n"
   ]
  },
  {
   "cell_type": "code",
   "execution_count": 17,
   "metadata": {},
   "outputs": [
    {
     "name": "stdout",
     "output_type": "stream",
     "text": [
      "HloWr\n"
     ]
    }
   ],
   "source": [
    "a='Hello World this is Python'\n",
    "print(a[0:10:2])"
   ]
  },
  {
   "cell_type": "code",
   "execution_count": 24,
   "metadata": {},
   "outputs": [
    {
     "name": "stdout",
     "output_type": "stream",
     "text": [
      "\n",
      "nohty\n",
      "nohtyp\n",
      "nohtyp\n"
     ]
    }
   ],
   "source": [
    "a='python'\n",
    "print(a[5:0]) #it gives nothing\n",
    "print(a[5:0:-1])\n",
    "print(a[5::-1])\n",
    "print(a[-1::-1])"
   ]
  },
  {
   "cell_type": "code",
   "execution_count": 26,
   "metadata": {},
   "outputs": [
    {
     "name": "stdout",
     "output_type": "stream",
     "text": [
      "Apple Ball\n",
      "Apple Ball\n",
      "<class 'str'>\n"
     ]
    }
   ],
   "source": [
    "#String formatting\n",
    "a='Apple'\n",
    "b='Ball'\n",
    "c=a+' '+b\n",
    "d=f'{a} {b}'  #string formatting\n",
    "print(c)\n",
    "print(d)\n",
    "print(type(d))"
   ]
  },
  {
   "cell_type": "code",
   "execution_count": 29,
   "metadata": {},
   "outputs": [
    {
     "name": "stdout",
     "output_type": "stream",
     "text": [
      "Enter name = gfgs\n",
      "Enter age = 3242\n",
      "Enter address = fgs\n",
      "Hello my name is gfgs.\n",
      "I am from fgs.\n",
      "I am 3242\n"
     ]
    }
   ],
   "source": [
    "name=input('Enter name = ')\n",
    "age=int(input('Enter age = '))\n",
    "add=input('Enter address = ')\n",
    "info=f'Hello my name is {name}.\\nI am from {add}.\\nI am {age}'\n",
    "print(info)"
   ]
  },
  {
   "cell_type": "code",
   "execution_count": 1,
   "metadata": {
    "scrolled": true
   },
   "outputs": [
    {
     "name": "stdout",
     "output_type": "stream",
     "text": [
      "Enter n = 2\n",
      "Enter name =dfs\n",
      "Enter phone = 434\n",
      "Enter name =dsf\n",
      "Enter phone = 545\n",
      "dfs--->434\n",
      "dsf--->545\n",
      "\n"
     ]
    }
   ],
   "source": [
    "s=''\n",
    "n=int(input('Enter n = '))\n",
    "for i in range(n):\n",
    "    name=input('Enter name =')\n",
    "    phone=int(input('Enter phone = '))\n",
    "    info=f'{name}--->{phone}\\n'\n",
    "    s=s+info\n",
    "print(s)"
   ]
  },
  {
   "cell_type": "code",
   "execution_count": 2,
   "metadata": {},
   "outputs": [
    {
     "name": "stdout",
     "output_type": "stream",
     "text": [
      "Yes\n"
     ]
    }
   ],
   "source": [
    "a='Hello My name is Ram. I am from kathmandu. I am 34'\n",
    "if 'Ram' in a:\n",
    "    print('Yes')\n",
    "else:\n",
    "    print('No')"
   ]
  },
  {
   "cell_type": "code",
   "execution_count": 4,
   "metadata": {},
   "outputs": [
    {
     "name": "stdout",
     "output_type": "stream",
     "text": [
      "Yes 1\n"
     ]
    }
   ],
   "source": [
    "a='Hello My name is Ram. I am from kathmandu. I am 34'\n",
    "if 'Ram' in a:\n",
    "    print('Yes',a.count('Ram'))\n",
    "else:\n",
    "    print('No')"
   ]
  },
  {
   "cell_type": "code",
   "execution_count": 6,
   "metadata": {},
   "outputs": [
    {
     "name": "stdout",
     "output_type": "stream",
     "text": [
      "Enter value = kathmandu\n",
      "Yes 1\n"
     ]
    }
   ],
   "source": [
    "a='Hello My name is Ram. I am from kathmandu. I am 34'\n",
    "value=input(\"Enter value = \")\n",
    "if value in a:\n",
    "    print('Yes',a.count(value))\n",
    "else:\n",
    "    print('No')"
   ]
  },
  {
   "cell_type": "code",
   "execution_count": 16,
   "metadata": {},
   "outputs": [
    {
     "name": "stdout",
     "output_type": "stream",
     "text": [
      "Enter value = ram\n",
      "Yes 1\n"
     ]
    }
   ],
   "source": [
    "a='Hello My name is Ram. I am from kathmandu. I am 34'\n",
    "b=a.lower()\n",
    "value=input(\"Enter value = \").lower()\n",
    "if value in b:\n",
    "    print('Yes',b.count(value))\n",
    "else:\n",
    "    print('No')"
   ]
  },
  {
   "cell_type": "code",
   "execution_count": 7,
   "metadata": {},
   "outputs": [
    {
     "name": "stdout",
     "output_type": "stream",
     "text": [
      "Enter value = ram\n",
      "Yes 1\n"
     ]
    }
   ],
   "source": [
    "a='Hello My name is Ram. I am from kathmandu. I am 34'.lower()\n",
    "value=input(\"Enter value = \").lower()\n",
    "if value in a:\n",
    "    print('Yes',a.count(value))\n",
    "else:\n",
    "    print('No')"
   ]
  },
  {
   "cell_type": "code",
   "execution_count": 12,
   "metadata": {},
   "outputs": [
    {
     "name": "stdout",
     "output_type": "stream",
     "text": [
      "Ram--->434\n",
      "dsf--->545\n"
     ]
    }
   ],
   "source": [
    "a='dfs--->434\\ndsf--->545'\n",
    "a=a.replace('dfs','Ram') \n",
    "print(a)"
   ]
  },
  {
   "cell_type": "code",
   "execution_count": 18,
   "metadata": {},
   "outputs": [
    {
     "name": "stdout",
     "output_type": "stream",
     "text": [
      "\n",
      "dsf--->545\n"
     ]
    }
   ],
   "source": [
    "a='dfs--->434\\ndsf--->545'\n",
    "a=a.replace('dfs--->434','')\n",
    "print(a)"
   ]
  },
  {
   "cell_type": "code",
   "execution_count": 7,
   "metadata": {},
   "outputs": [
    {
     "name": "stdout",
     "output_type": "stream",
     "text": [
      "['Hello', 'World']\n",
      "Hello World\n",
      "['what he', '']\n"
     ]
    }
   ],
   "source": [
    "a='Hello World'\n",
    "print(a.split())\n",
    "print(a)\n",
    "b='what hey'\n",
    "b=b.split('y')\n",
    "print(b)"
   ]
  },
  {
   "cell_type": "code",
   "execution_count": 24,
   "metadata": {},
   "outputs": [
    {
     "name": "stdout",
     "output_type": "stream",
     "text": [
      "['dfs--->434', 'dsf--->545']\n",
      "dfs--->434\n"
     ]
    }
   ],
   "source": [
    "a='dfs--->434\\ndsf--->545'\n",
    "a=a.split()\n",
    "print(a)\n",
    "print(a[0])"
   ]
  },
  {
   "cell_type": "code",
   "execution_count": 1,
   "metadata": {},
   "outputs": [
    {
     "name": "stdout",
     "output_type": "stream",
     "text": [
      "Enter the number of students = 2\n",
      "Enter the name of the student : ram\n",
      "Enter marks of math = 98\n",
      "Enter marks of science = 65\n",
      "Enter marks of english = 95\n",
      "Enter marks of computer = 95\n",
      "Enter marks of nepali = 65\n",
      "ram got 83.6% with A+ grade\n",
      "Enter the name of the student : shyam\n",
      "Enter marks of math = 65\n",
      "Enter marks of science = 65\n",
      "Enter marks of english = 45\n",
      "Enter marks of computer = 35\n",
      "Enter marks of nepali = 63\n",
      "shyam got 54.6% with B grade\n"
     ]
    }
   ],
   "source": [
    "#WAP to find the grade of a student\n",
    "\n",
    "n=int(input('Enter the number of students = '))\n",
    "for i in range(n):\n",
    "    name=input('Enter the name of the student : ')\n",
    "    math=int(input('Enter marks of math = '))\n",
    "    sci=int(input('Enter marks of science = '))\n",
    "    eng=int(input('Enter marks of english = '))\n",
    "    comp=int(input('Enter marks of computer = '))\n",
    "    nep=int(input('Enter marks of nepali = '))\n",
    "    if math>100 or math<0 or sci>100 or sci<0 or eng>100 or eng<0 or comp>100 or comp<0 or nep>100 or nep<0:\n",
    "        print('Invalid entry.Marks cannot be greator than 100 or less than 0')\n",
    "    elif 0<=math<32 or 0<=sci<32 or 0<=eng<32 or 0<=comp<32 or 0<=nep<32:\n",
    "        print(f'{name} has failed the exam')\n",
    "    else:\n",
    "        perc=round(float((math+sci+eng+comp+nep)/500*100),2)\n",
    "        if perc>=80:\n",
    "            print(f'{name} got {perc}% with A+ grade')\n",
    "        elif perc>=60 :\n",
    "            print(f'{name} got {perc}% with A grade')\n",
    "        elif perc>=45:\n",
    "            print(f'{name} got {perc}% with B grade')\n",
    "        else:\n",
    "            print(f'{name} got {perc}% with C grade')\n"
   ]
  },
  {
   "cell_type": "code",
   "execution_count": 17,
   "metadata": {},
   "outputs": [
    {
     "name": "stdout",
     "output_type": "stream",
     "text": [
      "Enter the number of items3\n",
      "Enter the name of the productapple\n",
      "Enter the unit price of the product25.5\n",
      "Enter the quantity of the product5\n",
      "Enter the name of the productmango\n",
      "Enter the unit price of the product50\n",
      "Enter the quantity of the product3\n",
      "Enter the name of the productbanana\n",
      "Enter the unit price of the product90\n",
      "Enter the quantity of the product4\n",
      "5.0kg X apple @ Rs25.5=127.5\n",
      "3.0kg X mango @ Rs50.0=150.0\n",
      "4.0kg X banana @ Rs90.0=360.0\n",
      "\n",
      "The total price is 637.5\n"
     ]
    }
   ],
   "source": [
    "#WAP for billing system\n",
    "s=''\n",
    "total=0\n",
    "num=int(input('Enter the number of items'))\n",
    "for i in range(num):\n",
    "    product=input('Enter the name of the product')\n",
    "    price=float(input('Enter the unit price of the product'))\n",
    "    qty=float(input('Enter the quantity of the product'))\n",
    "    tot=price*qty\n",
    "    s+=f'{qty}kg X {product} @ Rs{price}={tot}\\n'\n",
    "    total+=tot\n",
    "print(s)\n",
    "print(f'The total price is {total}')"
   ]
  },
  {
   "cell_type": "code",
   "execution_count": 64,
   "metadata": {},
   "outputs": [
    {
     "name": "stdout",
     "output_type": "stream",
     "text": [
      "['hello', 'world', '']\n"
     ]
    }
   ],
   "source": [
    "a='hello world '\n",
    "a=a.split(' ')  #it splits and makes three items because there is one more space after world\n",
    "print(a)"
   ]
  },
  {
   "cell_type": "code",
   "execution_count": 66,
   "metadata": {},
   "outputs": [
    {
     "name": "stdout",
     "output_type": "stream",
     "text": [
      "['hello world', ' ']\n"
     ]
    }
   ],
   "source": [
    "a='hello world, '\n",
    "print(a.split(','))  #it splits and makes three items because there is one more comma after world"
   ]
  }
 ],
 "metadata": {
  "kernelspec": {
   "display_name": "Python 3",
   "language": "python",
   "name": "python3"
  },
  "language_info": {
   "codemirror_mode": {
    "name": "ipython",
    "version": 3
   },
   "file_extension": ".py",
   "mimetype": "text/x-python",
   "name": "python",
   "nbconvert_exporter": "python",
   "pygments_lexer": "ipython3",
   "version": "3.8.5"
  }
 },
 "nbformat": 4,
 "nbformat_minor": 4
}
